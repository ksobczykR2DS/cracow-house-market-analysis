{
 "cells": [
  {
   "cell_type": "markdown",
   "metadata": {},
   "source": [
    "# Otodom Da|taset"
   ]
  },
  {
   "cell_type": "markdown",
   "metadata": {},
   "source": [
    "## Data Loading and Aggregation"
   ]
  },
  {
   "cell_type": "code",
   "execution_count": 46,
   "metadata": {
    "ExecuteTime": {
     "end_time": "2024-05-07T15:52:29.665047Z",
     "start_time": "2024-05-07T15:52:29.661075Z"
    }
   },
   "outputs": [],
   "source": [
    "import numpy as np\n",
    "import pandas as pd"
   ]
  },
  {
   "cell_type": "code",
   "execution_count": 47,
   "metadata": {
    "ExecuteTime": {
     "end_time": "2024-05-07T15:52:37.243486Z",
     "start_time": "2024-05-07T15:52:37.029895Z"
    }
   },
   "outputs": [],
   "source": [
    "df_otodom = pd.read_csv('datasets/timestamps/2024-03-08-otodom_dataset_raw.csv')\n",
    "df_2024_03_25_otodom_new_data = pd.read_csv('datasets/timestamps/2024-03-25-otodom-new_data.csv')\n",
    "df_2024_03_25_otodom_updated_data = pd.read_csv('datasets/timestamps/2024-03-25-otodom-updated_data.csv')\n",
    "df_2024_04_07_otodom_new_data = pd.read_csv('datasets/timestamps/2024-04-07-otodom-new_data.csv')\n",
    "df_2024_04_07_otodom_updated_data = pd.read_csv('datasets/timestamps/2024-04-07-otodom-updated_data.csv')\n",
    "df_2024_04_21_otodom_new_data = pd.read_csv('datasets/timestamps/2024-04-21-otodom-new_data.csv')\n",
    "df_2024_04_21_otodom_updated_data = pd.read_csv('datasets/timestamps/2024-04-21-otodom-updated_data.csv')\n",
    "df_2024_05_05_otodom_new_data = pd.read_csv('datasets/timestamps/2024-05-05-otodom-new_data.csv')\n",
    "df_2024_05_05_otodom_updated_data = pd.read_csv('datasets/timestamps/2024-05-05-otodom-updated_data.csv')"
   ]
  },
  {
   "cell_type": "code",
   "execution_count": 48,
   "metadata": {
    "ExecuteTime": {
     "end_time": "2024-05-07T15:52:37.276534Z",
     "start_time": "2024-05-07T15:52:37.270998Z"
    }
   },
   "outputs": [],
   "source": [
    "def update_dataframe(oldest_df, updated_df, new_df):\n",
    "    def set_url_as_index(df):\n",
    "        if 'url' in df.columns:\n",
    "            df.set_index('url', inplace=True)\n",
    "        else:\n",
    "            raise ValueError(\"URL column not found. Please check the column names.\")\n",
    "    try:\n",
    "        set_url_as_index(oldest_df)\n",
    "        set_url_as_index(updated_df)\n",
    "        set_url_as_index(new_df)\n",
    "    except ValueError as e:\n",
    "        print(e)\n",
    "        return None\n",
    "    \n",
    "    oldest_df.update(updated_df)\n",
    "    merged_df = pd.concat([oldest_df, new_df], axis=0)\n",
    "    merged_df.reset_index(inplace=True)\n",
    "\n",
    "    return merged_df"
   ]
  },
  {
   "cell_type": "code",
   "execution_count": 49,
   "metadata": {
    "ExecuteTime": {
     "end_time": "2024-05-07T15:52:37.812316Z",
     "start_time": "2024-05-07T15:52:37.636045Z"
    }
   },
   "outputs": [],
   "source": [
    "df_otodom = update_dataframe(df_otodom, df_2024_03_25_otodom_updated_data, df_2024_03_25_otodom_new_data)\n",
    "df_otodom = update_dataframe(df_otodom, df_2024_04_07_otodom_updated_data, df_2024_04_07_otodom_new_data)\n",
    "df_otodom = update_dataframe(df_otodom, df_2024_04_21_otodom_updated_data, df_2024_04_21_otodom_new_data)\n",
    "df_otodom = update_dataframe(df_otodom, df_2024_05_05_otodom_updated_data, df_2024_05_05_otodom_new_data)"
   ]
  },
  {
   "cell_type": "code",
   "execution_count": 50,
   "metadata": {
    "ExecuteTime": {
     "end_time": "2024-05-07T15:52:38.066314Z",
     "start_time": "2024-05-07T15:52:38.044314Z"
    }
   },
   "outputs": [
    {
     "name": "stdout",
     "output_type": "stream",
     "text": [
      "<class 'pandas.core.frame.DataFrame'>\n",
      "RangeIndex: 14172 entries, 0 to 14171\n",
      "Data columns (total 20 columns):\n",
      " #   Column                Non-Null Count  Dtype \n",
      "---  ------                --------------  ----- \n",
      " 0   url                   14172 non-null  object\n",
      " 1   name/title            14172 non-null  object\n",
      " 2   address               14172 non-null  object\n",
      " 3   price                 14172 non-null  object\n",
      " 4   area                  14172 non-null  object\n",
      " 5   price-per-area        13492 non-null  object\n",
      " 6   floor/store           13943 non-null  object\n",
      " 7   no of rooms           14171 non-null  object\n",
      " 8   year of construction  12627 non-null  object\n",
      " 9   parking space         8531 non-null   object\n",
      " 10  market                12627 non-null  object\n",
      " 11  form of ownership     10867 non-null  object\n",
      " 12  condition             11335 non-null  object\n",
      " 13  rent                  6636 non-null   object\n",
      " 14  heating               10426 non-null  object\n",
      " 15  advertiser type       12627 non-null  object\n",
      " 16  elevator              12627 non-null  object\n",
      " 17  outdoor area          10659 non-null  object\n",
      " 18  building type         12627 non-null  object\n",
      " 19  building material     12627 non-null  object\n",
      "dtypes: object(20)\n",
      "memory usage: 2.2+ MB\n"
     ]
    }
   ],
   "source": [
    "df_otodom.info()"
   ]
  },
  {
   "cell_type": "markdown",
   "metadata": {},
   "source": [
    "## Data Preparation"
   ]
  },
  {
   "cell_type": "markdown",
   "metadata": {},
   "source": [
    "### Price"
   ]
  },
  {
   "cell_type": "markdown",
   "metadata": {},
   "source": [
    "#### Removing Missing Data, Unification, and Conversion to Numeric Types"
   ]
  },
  {
   "cell_type": "code",
   "execution_count": 51,
   "metadata": {
    "ExecuteTime": {
     "end_time": "2024-05-07T15:52:38.300313Z",
     "start_time": "2024-05-07T15:52:38.284317Z"
    }
   },
   "outputs": [
    {
     "data": {
      "text/plain": [
       "687"
      ]
     },
     "execution_count": 51,
     "metadata": {},
     "output_type": "execute_result"
    }
   ],
   "source": [
    "# Rows without price\n",
    "no_price = df_otodom[~df_otodom['price'].str.contains('\\d')]\n",
    "no_price['price'].count()"
   ]
  },
  {
   "cell_type": "code",
   "execution_count": 52,
   "metadata": {
    "ExecuteTime": {
     "end_time": "2024-05-07T15:52:38.728833Z",
     "start_time": "2024-05-07T15:52:38.716314Z"
    }
   },
   "outputs": [
    {
     "data": {
      "text/plain": [
       "13485"
      ]
     },
     "execution_count": 52,
     "metadata": {},
     "output_type": "execute_result"
    }
   ],
   "source": [
    "# Removing rows with missing price (no_price)\n",
    "df_otodom.drop(no_price.index, inplace=True)\n",
    "df_otodom['price'].count()"
   ]
  },
  {
   "cell_type": "markdown",
   "metadata": {},
   "source": [
    "#### Prices Given in Different Currencies"
   ]
  },
  {
   "cell_type": "code",
   "execution_count": 53,
   "metadata": {
    "ExecuteTime": {
     "end_time": "2024-05-07T15:52:39.030346Z",
     "start_time": "2024-05-07T15:52:39.016347Z"
    }
   },
   "outputs": [
    {
     "data": {
      "text/plain": [
       "11"
      ]
     },
     "execution_count": 53,
     "metadata": {},
     "output_type": "execute_result"
    }
   ],
   "source": [
    "# Rows in EUR\n",
    "different_currency = df_otodom[~df_otodom['price'].str.contains('zł', na=False)].copy()\n",
    "different_currency['price'].count()"
   ]
  },
  {
   "cell_type": "code",
   "execution_count": 54,
   "metadata": {
    "ExecuteTime": {
     "end_time": "2024-05-07T15:52:39.465346Z",
     "start_time": "2024-05-07T15:52:39.458346Z"
    }
   },
   "outputs": [],
   "source": [
    "different_currency['price-per-area'] = different_currency['price-per-area'].str.replace(' ', '').str.extract(r'(\\d+\\.\\d+|\\d+)').astype(float)\n",
    "different_currency['area'] = different_currency['area'].str.replace(',', '.').str.extract(r'(\\d+\\.\\d+|\\d+)').astype(float)"
   ]
  },
  {
   "cell_type": "code",
   "execution_count": 55,
   "metadata": {
    "ExecuteTime": {
     "end_time": "2024-05-07T15:52:39.758345Z",
     "start_time": "2024-05-07T15:52:39.740346Z"
    }
   },
   "outputs": [
    {
     "data": {
      "text/html": [
       "<div>\n",
       "<style scoped>\n",
       "    .dataframe tbody tr th:only-of-type {\n",
       "        vertical-align: middle;\n",
       "    }\n",
       "\n",
       "    .dataframe tbody tr th {\n",
       "        vertical-align: top;\n",
       "    }\n",
       "\n",
       "    .dataframe thead th {\n",
       "        text-align: right;\n",
       "    }\n",
       "</style>\n",
       "<table border=\"1\" class=\"dataframe\">\n",
       "  <thead>\n",
       "    <tr style=\"text-align: right;\">\n",
       "      <th></th>\n",
       "      <th>url</th>\n",
       "      <th>name/title</th>\n",
       "      <th>address</th>\n",
       "      <th>price</th>\n",
       "      <th>area</th>\n",
       "      <th>price-per-area</th>\n",
       "      <th>floor/store</th>\n",
       "      <th>no of rooms</th>\n",
       "      <th>year of construction</th>\n",
       "      <th>parking space</th>\n",
       "      <th>market</th>\n",
       "      <th>form of ownership</th>\n",
       "      <th>condition</th>\n",
       "      <th>rent</th>\n",
       "      <th>heating</th>\n",
       "      <th>advertiser type</th>\n",
       "      <th>elevator</th>\n",
       "      <th>outdoor area</th>\n",
       "      <th>building type</th>\n",
       "      <th>building material</th>\n",
       "    </tr>\n",
       "  </thead>\n",
       "  <tbody>\n",
       "    <tr>\n",
       "      <th>1265</th>\n",
       "      <td>https://www.otodom.pl/pl/oferta/penthouse-232m...</td>\n",
       "      <td>Penthouse 232m w zabytkowej kamienicy Stare Mi...</td>\n",
       "      <td>Nowy Świat, Stare Miasto, Kraków, małopolskie</td>\n",
       "      <td>1 149 999 EUR</td>\n",
       "      <td>232,1 m²</td>\n",
       "      <td>21 451 zł/m²</td>\n",
       "      <td>4/4</td>\n",
       "      <td>5</td>\n",
       "      <td>1906</td>\n",
       "      <td>NaN</td>\n",
       "      <td>wtórny</td>\n",
       "      <td>pełna własność</td>\n",
       "      <td>do zamieszkania</td>\n",
       "      <td>NaN</td>\n",
       "      <td>gazowe</td>\n",
       "      <td>biuro nieruchomości</td>\n",
       "      <td>nie</td>\n",
       "      <td>NaN</td>\n",
       "      <td>kamienica</td>\n",
       "      <td>cegła</td>\n",
       "    </tr>\n",
       "    <tr>\n",
       "      <th>2056</th>\n",
       "      <td>https://www.otodom.pl/pl/oferta/penthouse-w-po...</td>\n",
       "      <td>Penthouse w pobliżu Rynku Głównego</td>\n",
       "      <td>marszałka JózefaPiłsudskiego, Nowy Świat, Star...</td>\n",
       "      <td>1 150 000 EUR</td>\n",
       "      <td>232 m²</td>\n",
       "      <td>21 460 zł/m²</td>\n",
       "      <td>4/5</td>\n",
       "      <td>9</td>\n",
       "      <td>1906</td>\n",
       "      <td>NaN</td>\n",
       "      <td>wtórny</td>\n",
       "      <td>pełna własność</td>\n",
       "      <td>do zamieszkania</td>\n",
       "      <td>1 700 zł</td>\n",
       "      <td>gazowe</td>\n",
       "      <td>biuro nieruchomości</td>\n",
       "      <td>tak</td>\n",
       "      <td>balkon, taras</td>\n",
       "      <td>kamienica</td>\n",
       "      <td>brak informacji</td>\n",
       "    </tr>\n",
       "    <tr>\n",
       "      <th>3144</th>\n",
       "      <td>https://www.otodom.pl/pl/oferta/5-pokoi-taras-...</td>\n",
       "      <td>5 pokoi | Taras 77m2 | Komórka | Centrum | Mar...</td>\n",
       "      <td>ul. marsz. Józefa Piłsudskiego, Nowy Świat, St...</td>\n",
       "      <td>1 149 999 EUR</td>\n",
       "      <td>232,1 m²</td>\n",
       "      <td>21 451 zł/m²</td>\n",
       "      <td>4/4</td>\n",
       "      <td>5</td>\n",
       "      <td>1908</td>\n",
       "      <td>garaż/miejsce parkingowe</td>\n",
       "      <td>wtórny</td>\n",
       "      <td>pełna własność</td>\n",
       "      <td>do zamieszkania</td>\n",
       "      <td>850 zł</td>\n",
       "      <td>gazowe</td>\n",
       "      <td>biuro nieruchomości</td>\n",
       "      <td>tak</td>\n",
       "      <td>taras, balkon</td>\n",
       "      <td>kamienica</td>\n",
       "      <td>cegła</td>\n",
       "    </tr>\n",
       "    <tr>\n",
       "      <th>3977</th>\n",
       "      <td>https://www.otodom.pl/pl/oferta/chorwacja-spli...</td>\n",
       "      <td>Chorwacja Split luksusowy apartament</td>\n",
       "      <td>Krowodrza, Krowodrza, Kraków, małopolskie</td>\n",
       "      <td>585 280 EUR</td>\n",
       "      <td>91,45 m²</td>\n",
       "      <td>27 708 zł/m²</td>\n",
       "      <td>3/4</td>\n",
       "      <td>4</td>\n",
       "      <td>2025</td>\n",
       "      <td>garaż/miejsce parkingowe</td>\n",
       "      <td>pierwotny</td>\n",
       "      <td>pełna własność</td>\n",
       "      <td>do zamieszkania</td>\n",
       "      <td>100 EUR</td>\n",
       "      <td>elektryczne</td>\n",
       "      <td>prywatny</td>\n",
       "      <td>tak</td>\n",
       "      <td>balkon, taras</td>\n",
       "      <td>apartamentowiec</td>\n",
       "      <td>silikat</td>\n",
       "    </tr>\n",
       "    <tr>\n",
       "      <th>4722</th>\n",
       "      <td>https://www.otodom.pl/pl/oferta/penthouse-tara...</td>\n",
       "      <td>Penthouse tarasem na dachu w kamienicy z windą</td>\n",
       "      <td>Marszałka Józefa Piłsudskiego, Nowy Świat, Sta...</td>\n",
       "      <td>1 150 000 EUR</td>\n",
       "      <td>228,7 m²</td>\n",
       "      <td>21 770 zł/m²</td>\n",
       "      <td>4/5</td>\n",
       "      <td>5</td>\n",
       "      <td>1906</td>\n",
       "      <td>NaN</td>\n",
       "      <td>wtórny</td>\n",
       "      <td>pełna własność</td>\n",
       "      <td>do zamieszkania</td>\n",
       "      <td>NaN</td>\n",
       "      <td>NaN</td>\n",
       "      <td>biuro nieruchomości</td>\n",
       "      <td>tak</td>\n",
       "      <td>balkon, taras</td>\n",
       "      <td>kamienica</td>\n",
       "      <td>brak informacji</td>\n",
       "    </tr>\n",
       "    <tr>\n",
       "      <th>4908</th>\n",
       "      <td>https://www.otodom.pl/pl/oferta/penthouse-w-od...</td>\n",
       "      <td>Penthouse w odrestaurowanej kamienicy - taras ...</td>\n",
       "      <td>ul. marsz. Józefa Piłsudskiego, Piasek, Stare ...</td>\n",
       "      <td>1 150 000 EUR</td>\n",
       "      <td>228 m²</td>\n",
       "      <td>21 896 zł/m²</td>\n",
       "      <td>4/5</td>\n",
       "      <td>5.0</td>\n",
       "      <td>1906</td>\n",
       "      <td>garaż/miejsce parkingowe</td>\n",
       "      <td>wtórny</td>\n",
       "      <td>pełna własność</td>\n",
       "      <td>do zamieszkania</td>\n",
       "      <td>220 zł</td>\n",
       "      <td>gazowe</td>\n",
       "      <td>biuro nieruchomości</td>\n",
       "      <td>tak</td>\n",
       "      <td>taras, balkon</td>\n",
       "      <td>kamienica</td>\n",
       "      <td>cegła</td>\n",
       "    </tr>\n",
       "    <tr>\n",
       "      <th>4995</th>\n",
       "      <td>https://www.otodom.pl/pl/oferta/penthouse-star...</td>\n",
       "      <td>Penthouse Stare Miasto II Poziomy. Taras 70m2</td>\n",
       "      <td>Marszałka Józefa Piłsudskiego, Nowy Świat, Sta...</td>\n",
       "      <td>1 150 000 EUR</td>\n",
       "      <td>232,1 m²</td>\n",
       "      <td>21 451 zł/m²</td>\n",
       "      <td>4/5</td>\n",
       "      <td>5</td>\n",
       "      <td>1906</td>\n",
       "      <td>NaN</td>\n",
       "      <td>wtórny</td>\n",
       "      <td>NaN</td>\n",
       "      <td>NaN</td>\n",
       "      <td>NaN</td>\n",
       "      <td>NaN</td>\n",
       "      <td>biuro nieruchomości</td>\n",
       "      <td>nie</td>\n",
       "      <td>NaN</td>\n",
       "      <td>brak informacji</td>\n",
       "      <td>brak informacji</td>\n",
       "    </tr>\n",
       "    <tr>\n",
       "      <th>9359</th>\n",
       "      <td>https://www.otodom.pl/pl/oferta/penthouse-w-od...</td>\n",
       "      <td>Penthouse w odrestaurowanej kamienicy - taras ...</td>\n",
       "      <td>ul. marsz. Józefa Piłsudskiego, Piasek, Stare ...</td>\n",
       "      <td>1 150 000 EUR</td>\n",
       "      <td>228 m²</td>\n",
       "      <td>21 837 zł/m²</td>\n",
       "      <td>4/5</td>\n",
       "      <td>5</td>\n",
       "      <td>1906</td>\n",
       "      <td>garaż/miejsce parkingowe</td>\n",
       "      <td>wtórny</td>\n",
       "      <td>pełna własność</td>\n",
       "      <td>do zamieszkania</td>\n",
       "      <td>220 zł</td>\n",
       "      <td>gazowe</td>\n",
       "      <td>biuro nieruchomości</td>\n",
       "      <td>tak</td>\n",
       "      <td>taras, balkon</td>\n",
       "      <td>kamienica</td>\n",
       "      <td>cegła</td>\n",
       "    </tr>\n",
       "    <tr>\n",
       "      <th>13044</th>\n",
       "      <td>https://www.otodom.pl/pl/oferta/mieszkanie-swi...</td>\n",
       "      <td>Mieszkanie świetna lokalizacja Kraków-Śródmieście</td>\n",
       "      <td>ulica Grochowska 27 B / 1B, Osiedle Oficerskie...</td>\n",
       "      <td>255 000 EUR</td>\n",
       "      <td>107,3 m²</td>\n",
       "      <td>10 289 zł/m²</td>\n",
       "      <td>2/2</td>\n",
       "      <td>3</td>\n",
       "      <td>1981</td>\n",
       "      <td>garaż/miejsce parkingowe</td>\n",
       "      <td>wtórny</td>\n",
       "      <td>pełna własność</td>\n",
       "      <td>do zamieszkania</td>\n",
       "      <td>NaN</td>\n",
       "      <td>gazowe</td>\n",
       "      <td>prywatny</td>\n",
       "      <td>nie</td>\n",
       "      <td>balkon, ogródek</td>\n",
       "      <td>szeregowiec</td>\n",
       "      <td>cegła</td>\n",
       "    </tr>\n",
       "    <tr>\n",
       "      <th>13565</th>\n",
       "      <td>https://www.otodom.pl/pl/oferta/krakowska-kami...</td>\n",
       "      <td>Krakowska kamienica</td>\n",
       "      <td>ul. Mazowiecka, Krowodrza, Krowodrza, Kraków, ...</td>\n",
       "      <td>380 000 EUR</td>\n",
       "      <td>84 m²</td>\n",
       "      <td>19 585 zł/m²</td>\n",
       "      <td>5/6</td>\n",
       "      <td>3</td>\n",
       "      <td>1936</td>\n",
       "      <td>NaN</td>\n",
       "      <td>wtórny</td>\n",
       "      <td>pełna własność</td>\n",
       "      <td>do zamieszkania</td>\n",
       "      <td>880 zł</td>\n",
       "      <td>miejskie</td>\n",
       "      <td>prywatny</td>\n",
       "      <td>tak</td>\n",
       "      <td>balkon</td>\n",
       "      <td>kamienica</td>\n",
       "      <td>cegła</td>\n",
       "    </tr>\n",
       "    <tr>\n",
       "      <th>13596</th>\n",
       "      <td>https://www.otodom.pl/pl/oferta/krakow-the-old...</td>\n",
       "      <td>Kraków,The Old town apartament</td>\n",
       "      <td>ul. Topolowa, Wesoła Wschód, Grzegórzki, Krakó...</td>\n",
       "      <td>627 000 EUR</td>\n",
       "      <td>103 m²</td>\n",
       "      <td>26 355 zł/m²</td>\n",
       "      <td>2/3</td>\n",
       "      <td>4</td>\n",
       "      <td>1913</td>\n",
       "      <td>NaN</td>\n",
       "      <td>wtórny</td>\n",
       "      <td>pełna własność</td>\n",
       "      <td>do zamieszkania</td>\n",
       "      <td>600 zł</td>\n",
       "      <td>NaN</td>\n",
       "      <td>prywatny</td>\n",
       "      <td>nie</td>\n",
       "      <td>balkon</td>\n",
       "      <td>kamienica</td>\n",
       "      <td>cegła</td>\n",
       "    </tr>\n",
       "  </tbody>\n",
       "</table>\n",
       "</div>"
      ],
      "text/plain": [
       "                                                     url  \\\n",
       "1265   https://www.otodom.pl/pl/oferta/penthouse-232m...   \n",
       "2056   https://www.otodom.pl/pl/oferta/penthouse-w-po...   \n",
       "3144   https://www.otodom.pl/pl/oferta/5-pokoi-taras-...   \n",
       "3977   https://www.otodom.pl/pl/oferta/chorwacja-spli...   \n",
       "4722   https://www.otodom.pl/pl/oferta/penthouse-tara...   \n",
       "4908   https://www.otodom.pl/pl/oferta/penthouse-w-od...   \n",
       "4995   https://www.otodom.pl/pl/oferta/penthouse-star...   \n",
       "9359   https://www.otodom.pl/pl/oferta/penthouse-w-od...   \n",
       "13044  https://www.otodom.pl/pl/oferta/mieszkanie-swi...   \n",
       "13565  https://www.otodom.pl/pl/oferta/krakowska-kami...   \n",
       "13596  https://www.otodom.pl/pl/oferta/krakow-the-old...   \n",
       "\n",
       "                                              name/title  \\\n",
       "1265   Penthouse 232m w zabytkowej kamienicy Stare Mi...   \n",
       "2056                  Penthouse w pobliżu Rynku Głównego   \n",
       "3144   5 pokoi | Taras 77m2 | Komórka | Centrum | Mar...   \n",
       "3977                Chorwacja Split luksusowy apartament   \n",
       "4722      Penthouse tarasem na dachu w kamienicy z windą   \n",
       "4908   Penthouse w odrestaurowanej kamienicy - taras ...   \n",
       "4995       Penthouse Stare Miasto II Poziomy. Taras 70m2   \n",
       "9359   Penthouse w odrestaurowanej kamienicy - taras ...   \n",
       "13044  Mieszkanie świetna lokalizacja Kraków-Śródmieście   \n",
       "13565                                Krakowska kamienica   \n",
       "13596                     Kraków,The Old town apartament   \n",
       "\n",
       "                                                 address          price  \\\n",
       "1265       Nowy Świat, Stare Miasto, Kraków, małopolskie  1 149 999 EUR   \n",
       "2056   marszałka JózefaPiłsudskiego, Nowy Świat, Star...  1 150 000 EUR   \n",
       "3144   ul. marsz. Józefa Piłsudskiego, Nowy Świat, St...  1 149 999 EUR   \n",
       "3977           Krowodrza, Krowodrza, Kraków, małopolskie    585 280 EUR   \n",
       "4722   Marszałka Józefa Piłsudskiego, Nowy Świat, Sta...  1 150 000 EUR   \n",
       "4908   ul. marsz. Józefa Piłsudskiego, Piasek, Stare ...  1 150 000 EUR   \n",
       "4995   Marszałka Józefa Piłsudskiego, Nowy Świat, Sta...  1 150 000 EUR   \n",
       "9359   ul. marsz. Józefa Piłsudskiego, Piasek, Stare ...  1 150 000 EUR   \n",
       "13044  ulica Grochowska 27 B / 1B, Osiedle Oficerskie...    255 000 EUR   \n",
       "13565  ul. Mazowiecka, Krowodrza, Krowodrza, Kraków, ...    380 000 EUR   \n",
       "13596  ul. Topolowa, Wesoła Wschód, Grzegórzki, Krakó...    627 000 EUR   \n",
       "\n",
       "           area price-per-area floor/store no of rooms year of construction  \\\n",
       "1265   232,1 m²   21 451 zł/m²         4/4           5                 1906   \n",
       "2056     232 m²   21 460 zł/m²         4/5           9                 1906   \n",
       "3144   232,1 m²   21 451 zł/m²         4/4           5                 1908   \n",
       "3977   91,45 m²   27 708 zł/m²         3/4           4                 2025   \n",
       "4722   228,7 m²   21 770 zł/m²         4/5           5                 1906   \n",
       "4908     228 m²   21 896 zł/m²         4/5         5.0                 1906   \n",
       "4995   232,1 m²   21 451 zł/m²         4/5           5                 1906   \n",
       "9359     228 m²   21 837 zł/m²         4/5           5                 1906   \n",
       "13044  107,3 m²   10 289 zł/m²         2/2           3                 1981   \n",
       "13565     84 m²   19 585 zł/m²         5/6           3                 1936   \n",
       "13596    103 m²   26 355 zł/m²         2/3           4                 1913   \n",
       "\n",
       "                  parking space     market form of ownership        condition  \\\n",
       "1265                        NaN     wtórny    pełna własność  do zamieszkania   \n",
       "2056                        NaN     wtórny    pełna własność  do zamieszkania   \n",
       "3144   garaż/miejsce parkingowe     wtórny    pełna własność  do zamieszkania   \n",
       "3977   garaż/miejsce parkingowe  pierwotny    pełna własność  do zamieszkania   \n",
       "4722                        NaN     wtórny    pełna własność  do zamieszkania   \n",
       "4908   garaż/miejsce parkingowe     wtórny    pełna własność  do zamieszkania   \n",
       "4995                        NaN     wtórny               NaN              NaN   \n",
       "9359   garaż/miejsce parkingowe     wtórny    pełna własność  do zamieszkania   \n",
       "13044  garaż/miejsce parkingowe     wtórny    pełna własność  do zamieszkania   \n",
       "13565                       NaN     wtórny    pełna własność  do zamieszkania   \n",
       "13596                       NaN     wtórny    pełna własność  do zamieszkania   \n",
       "\n",
       "           rent      heating      advertiser type elevator     outdoor area  \\\n",
       "1265        NaN       gazowe  biuro nieruchomości      nie              NaN   \n",
       "2056   1 700 zł       gazowe  biuro nieruchomości      tak    balkon, taras   \n",
       "3144     850 zł       gazowe  biuro nieruchomości      tak    taras, balkon   \n",
       "3977    100 EUR  elektryczne             prywatny      tak    balkon, taras   \n",
       "4722        NaN          NaN  biuro nieruchomości      tak    balkon, taras   \n",
       "4908     220 zł       gazowe  biuro nieruchomości      tak    taras, balkon   \n",
       "4995        NaN          NaN  biuro nieruchomości      nie              NaN   \n",
       "9359     220 zł       gazowe  biuro nieruchomości      tak    taras, balkon   \n",
       "13044       NaN       gazowe             prywatny      nie  balkon, ogródek   \n",
       "13565    880 zł     miejskie             prywatny      tak           balkon   \n",
       "13596    600 zł          NaN             prywatny      nie           balkon   \n",
       "\n",
       "         building type building material  \n",
       "1265         kamienica             cegła  \n",
       "2056         kamienica   brak informacji  \n",
       "3144         kamienica             cegła  \n",
       "3977   apartamentowiec           silikat  \n",
       "4722         kamienica   brak informacji  \n",
       "4908         kamienica             cegła  \n",
       "4995   brak informacji   brak informacji  \n",
       "9359         kamienica             cegła  \n",
       "13044      szeregowiec             cegła  \n",
       "13565        kamienica             cegła  \n",
       "13596        kamienica             cegła  "
      ]
     },
     "execution_count": 55,
     "metadata": {},
     "output_type": "execute_result"
    }
   ],
   "source": [
    "df_otodom.loc[different_currency.index]"
   ]
  },
  {
   "cell_type": "code",
   "execution_count": 56,
   "metadata": {
    "ExecuteTime": {
     "end_time": "2024-05-07T15:52:40.188729Z",
     "start_time": "2024-05-07T15:52:40.152346Z"
    }
   },
   "outputs": [],
   "source": [
    "# converting prices to numeric values\n",
    "df_otodom['price'] = df_otodom['price'].str.replace(' ', '').str.replace(',', '.')\n",
    "df_otodom['price'] = df_otodom['price'].str.extract('(\\d+\\.\\d+|\\d+)').astype(float)"
   ]
  },
  {
   "cell_type": "code",
   "execution_count": 57,
   "metadata": {
    "ExecuteTime": {
     "end_time": "2024-05-07T15:52:40.394740Z",
     "start_time": "2024-05-07T15:52:40.385726Z"
    }
   },
   "outputs": [
    {
     "data": {
      "text/plain": [
       "1265     4978777.1\n",
       "2056     4978720.0\n",
       "3144     4978777.1\n",
       "3977     2533896.6\n",
       "4722     4978799.0\n",
       "4908     4992288.0\n",
       "4995     4978777.1\n",
       "9359     4978836.0\n",
       "13044    1104009.7\n",
       "13565    1645140.0\n",
       "13596    2714565.0\n",
       "Name: price, dtype: float64"
      ]
     },
     "execution_count": 57,
     "metadata": {},
     "output_type": "execute_result"
    }
   ],
   "source": [
    "# recalculating price based on area and price per square meter given in PLN\n",
    "different_currency.loc[:, 'price'] = (different_currency['price-per-area'] * different_currency['area'])\n",
    "df_otodom.loc[different_currency.index, 'price'] = different_currency['price'].astype(float)\n",
    "df_otodom.loc[different_currency.index, 'price']"
   ]
  },
  {
   "cell_type": "code",
   "execution_count": 58,
   "metadata": {
    "ExecuteTime": {
     "end_time": "2024-05-07T15:52:40.835725Z",
     "start_time": "2024-05-07T15:52:40.824727Z"
    }
   },
   "outputs": [],
   "source": [
    "# Removing captured row with an apartment from Croatia\n",
    "df_otodom.drop(index=3977, inplace=True)"
   ]
  },
  {
   "cell_type": "code",
   "execution_count": 59,
   "metadata": {
    "ExecuteTime": {
     "end_time": "2024-05-07T15:52:41.366241Z",
     "start_time": "2024-05-07T15:52:41.359725Z"
    }
   },
   "outputs": [
    {
     "data": {
      "text/plain": [
       "13484"
      ]
     },
     "execution_count": 59,
     "metadata": {},
     "output_type": "execute_result"
    }
   ],
   "source": [
    "df_otodom['price'].count()"
   ]
  },
  {
   "cell_type": "markdown",
   "metadata": {},
   "source": [
    "### Conversion of Column Values to Numeric Types"
   ]
  },
  {
   "cell_type": "markdown",
   "metadata": {},
   "source": [
    "#### Area"
   ]
  },
  {
   "cell_type": "code",
   "execution_count": 60,
   "metadata": {
    "ExecuteTime": {
     "end_time": "2024-05-07T15:52:41.867378Z",
     "start_time": "2024-05-07T15:52:41.847643Z"
    }
   },
   "outputs": [],
   "source": [
    "df_otodom['area'] = df_otodom['area'].str.replace(' m²', '')\n",
    "df_otodom['area'] = df_otodom['area'].str.replace(' ', '')\n",
    "df_otodom['area'] = df_otodom['area'].str.replace(',', '.').astype(float)"
   ]
  },
  {
   "cell_type": "markdown",
   "metadata": {},
   "source": [
    "#### Price per Square Meter"
   ]
  },
  {
   "cell_type": "code",
   "execution_count": 61,
   "metadata": {
    "ExecuteTime": {
     "end_time": "2024-05-07T15:52:42.287669Z",
     "start_time": "2024-05-07T15:52:42.267374Z"
    }
   },
   "outputs": [
    {
     "data": {
      "text/plain": [
       "0"
      ]
     },
     "execution_count": 61,
     "metadata": {},
     "output_type": "execute_result"
    }
   ],
   "source": [
    "# df_otodom[df_otodom['price-per-area'].str.contains(r'\\d', na=False).shape[0] & ~df_otodom['price-per-area'].str.contains('zł', na=False)].shape[0]\n",
    "df_otodom[(df_otodom['price-per-area'].str.contains(r'\\d', na=False)) & (~df_otodom['price-per-area'].str.contains('zł', na=False))].shape[0]"
   ]
  },
  {
   "cell_type": "code",
   "execution_count": 62,
   "metadata": {
    "ExecuteTime": {
     "end_time": "2024-05-07T15:52:42.586867Z",
     "start_time": "2024-05-07T15:52:42.580667Z"
    }
   },
   "outputs": [
    {
     "data": {
      "text/plain": [
       "0"
      ]
     },
     "execution_count": 62,
     "metadata": {},
     "output_type": "execute_result"
    }
   ],
   "source": [
    "df_otodom[df_otodom['price-per-area'].isnull()].shape[0]"
   ]
  },
  {
   "cell_type": "code",
   "execution_count": 63,
   "metadata": {
    "ExecuteTime": {
     "end_time": "2024-05-07T15:52:42.909890Z",
     "start_time": "2024-05-07T15:52:42.890866Z"
    }
   },
   "outputs": [],
   "source": [
    "df_otodom['price-per-area'] = df_otodom['price-per-area'].str.replace(' zł/m²', '').str.replace(' ', '').str.replace(',', '.')\n",
    "df_otodom['price-per-area'] = df_otodom['price-per-area'].astype(float)"
   ]
  },
  {
   "cell_type": "code",
   "execution_count": 64,
   "metadata": {
    "ExecuteTime": {
     "end_time": "2024-05-07T15:52:43.250887Z",
     "start_time": "2024-05-07T15:52:43.240887Z"
    }
   },
   "outputs": [],
   "source": [
    "# removing attics, service premises, entire floors, and errors\n",
    "df_otodom.drop(df_otodom[(df_otodom['area'] > 200) & (df_otodom['price-per-area'] < 11000)].index, inplace=True)"
   ]
  },
  {
   "cell_type": "markdown",
   "metadata": {},
   "source": [
    "#### Rent"
   ]
  },
  {
   "cell_type": "code",
   "execution_count": 65,
   "metadata": {
    "ExecuteTime": {
     "end_time": "2024-05-07T15:52:43.646450Z",
     "start_time": "2024-05-07T15:52:43.619888Z"
    }
   },
   "outputs": [
    {
     "data": {
      "text/html": [
       "<div>\n",
       "<style scoped>\n",
       "    .dataframe tbody tr th:only-of-type {\n",
       "        vertical-align: middle;\n",
       "    }\n",
       "\n",
       "    .dataframe tbody tr th {\n",
       "        vertical-align: top;\n",
       "    }\n",
       "\n",
       "    .dataframe thead th {\n",
       "        text-align: right;\n",
       "    }\n",
       "</style>\n",
       "<table border=\"1\" class=\"dataframe\">\n",
       "  <thead>\n",
       "    <tr style=\"text-align: right;\">\n",
       "      <th></th>\n",
       "      <th>url</th>\n",
       "      <th>name/title</th>\n",
       "      <th>address</th>\n",
       "      <th>price</th>\n",
       "      <th>area</th>\n",
       "      <th>price-per-area</th>\n",
       "      <th>floor/store</th>\n",
       "      <th>no of rooms</th>\n",
       "      <th>year of construction</th>\n",
       "      <th>parking space</th>\n",
       "      <th>market</th>\n",
       "      <th>form of ownership</th>\n",
       "      <th>condition</th>\n",
       "      <th>rent</th>\n",
       "      <th>heating</th>\n",
       "      <th>advertiser type</th>\n",
       "      <th>elevator</th>\n",
       "      <th>outdoor area</th>\n",
       "      <th>building type</th>\n",
       "      <th>building material</th>\n",
       "    </tr>\n",
       "  </thead>\n",
       "  <tbody>\n",
       "    <tr>\n",
       "      <th>6335</th>\n",
       "      <td>https://www.otodom.pl/pl/oferta/2m-wysoki-stan...</td>\n",
       "      <td>2M! Wysoki Standard| Gotowe| Balkon | Widok!</td>\n",
       "      <td>Wola Duchacka, Podgórze Duchackie, Kraków, mał...</td>\n",
       "      <td>620000.0</td>\n",
       "      <td>35.55</td>\n",
       "      <td>17440.0</td>\n",
       "      <td>7/11</td>\n",
       "      <td>2</td>\n",
       "      <td>2019</td>\n",
       "      <td>NaN</td>\n",
       "      <td>wtórny</td>\n",
       "      <td>pełna własność</td>\n",
       "      <td>do zamieszkania</td>\n",
       "      <td>420 GBP</td>\n",
       "      <td>miejskie</td>\n",
       "      <td>biuro nieruchomości</td>\n",
       "      <td>tak</td>\n",
       "      <td>balkon</td>\n",
       "      <td>blok</td>\n",
       "      <td>brak informacji</td>\n",
       "    </tr>\n",
       "  </tbody>\n",
       "</table>\n",
       "</div>"
      ],
      "text/plain": [
       "                                                    url  \\\n",
       "6335  https://www.otodom.pl/pl/oferta/2m-wysoki-stan...   \n",
       "\n",
       "                                        name/title  \\\n",
       "6335  2M! Wysoki Standard| Gotowe| Balkon | Widok!   \n",
       "\n",
       "                                                address     price   area  \\\n",
       "6335  Wola Duchacka, Podgórze Duchackie, Kraków, mał...  620000.0  35.55   \n",
       "\n",
       "      price-per-area floor/store no of rooms year of construction  \\\n",
       "6335         17440.0        7/11           2                 2019   \n",
       "\n",
       "     parking space  market form of ownership        condition     rent  \\\n",
       "6335           NaN  wtórny    pełna własność  do zamieszkania  420 GBP   \n",
       "\n",
       "       heating      advertiser type elevator outdoor area building type  \\\n",
       "6335  miejskie  biuro nieruchomości      tak       balkon          blok   \n",
       "\n",
       "     building material  \n",
       "6335   brak informacji  "
      ]
     },
     "execution_count": 65,
     "metadata": {},
     "output_type": "execute_result"
    }
   ],
   "source": [
    "# Rows in another currency\n",
    "df_otodom[df_otodom['rent'].str.contains(r'\\d', na=False) & ~df_otodom['rent'].str.contains('zł', na=False)]"
   ]
  },
  {
   "cell_type": "code",
   "execution_count": 66,
   "metadata": {
    "ExecuteTime": {
     "end_time": "2024-05-07T15:52:43.913402Z",
     "start_time": "2024-05-07T15:52:43.901403Z"
    }
   },
   "outputs": [],
   "source": [
    "eur_rent_price = df_otodom[df_otodom['rent'].str.contains('EUR', na=False)]\n",
    "gbp_rent_price = df_otodom[df_otodom['rent'].str.contains('GBP', na=False)]"
   ]
  },
  {
   "cell_type": "code",
   "execution_count": 67,
   "metadata": {
    "ExecuteTime": {
     "end_time": "2024-05-07T15:52:44.262434Z",
     "start_time": "2024-05-07T15:52:44.236917Z"
    }
   },
   "outputs": [],
   "source": [
    "# converting rent values to numeric type\n",
    "df_otodom['rent'] = df_otodom['rent'].str.replace(' ', '').str.replace(',', '.').str.extract('(\\d+\\.\\d+|\\d+)').astype(float)"
   ]
  },
  {
   "cell_type": "code",
   "execution_count": 68,
   "metadata": {
    "ExecuteTime": {
     "end_time": "2024-05-07T15:52:47.776829Z",
     "start_time": "2024-05-07T15:52:44.905949Z"
    }
   },
   "outputs": [
    {
     "name": "stdout",
     "output_type": "stream",
     "text": [
      "4.304149\n",
      "5.029401\n"
     ]
    }
   ],
   "source": [
    "import yfinance as yf\n",
    "\n",
    "eur = yf.Ticker(\"EURPLN=X\")\n",
    "gbp = yf.Ticker(\"GBPPLN=X\")\n",
    "euro_exchange_rate = eur.info['fiftyDayAverage']\n",
    "gbp_exchange_rate = gbp.info['fiftyDayAverage']\n",
    "print(euro_exchange_rate)\n",
    "print(gbp_exchange_rate)"
   ]
  },
  {
   "cell_type": "code",
   "execution_count": 69,
   "metadata": {
    "ExecuteTime": {
     "end_time": "2024-05-07T15:52:47.785822Z",
     "start_time": "2024-05-07T15:52:47.778823Z"
    }
   },
   "outputs": [],
   "source": [
    "df_otodom.loc[eur_rent_price.index, 'rent'] *= euro_exchange_rate\n",
    "df_otodom.loc[gbp_rent_price.index, 'rent'] *= gbp_exchange_rate"
   ]
  },
  {
   "cell_type": "code",
   "execution_count": 70,
   "metadata": {
    "ExecuteTime": {
     "end_time": "2024-05-07T15:52:47.798763Z",
     "start_time": "2024-05-07T15:52:47.786821Z"
    }
   },
   "outputs": [
    {
     "data": {
      "text/plain": [
       "542.4292394659827"
      ]
     },
     "execution_count": 70,
     "metadata": {},
     "output_type": "execute_result"
    }
   ],
   "source": [
    "# Average after cutting outliers for possible completion\n",
    "mean_rent = df_otodom['rent'].mean()\n",
    "std_rent = df_otodom['rent'].std()\n",
    "\n",
    "filtered_std_rent = df_otodom[(df_otodom['rent'] > (mean_rent - std_rent)) & \n",
    "                        (df_otodom['rent'] < (mean_rent + std_rent))]\n",
    "\n",
    "new_mean_rent = filtered_std_rent['rent'].mean()\n",
    "new_mean_rent"
   ]
  },
  {
   "cell_type": "markdown",
   "metadata": {},
   "source": [
    "#### Number of Rooms"
   ]
  },
  {
   "cell_type": "code",
   "execution_count": 71,
   "metadata": {
    "ExecuteTime": {
     "end_time": "2024-05-07T15:52:47.824262Z",
     "start_time": "2024-05-07T15:52:47.800760Z"
    }
   },
   "outputs": [
    {
     "name": "stdout",
     "output_type": "stream",
     "text": [
      "333\n"
     ]
    }
   ],
   "source": [
    "df_otodom['no of rooms'] = df_otodom['no of rooms'].str.replace('więcej niż 10', '11')\n",
    "df_otodom['no of rooms'] = df_otodom['no of rooms'].str.replace(' ', '')\n",
    "print(df_otodom[df_otodom['no of rooms'].isna()].shape[0])\n",
    "df_otodom.dropna(subset=['no of rooms'], inplace=True)"
   ]
  },
  {
   "cell_type": "code",
   "execution_count": 72,
   "metadata": {
    "ExecuteTime": {
     "end_time": "2024-05-07T15:52:47.932971Z",
     "start_time": "2024-05-07T15:52:47.825777Z"
    }
   },
   "outputs": [],
   "source": [
    "df_otodom['no of rooms'] = df_otodom['no of rooms'].str.extract('(\\d+)').astype(int)"
   ]
  },
  {
   "cell_type": "markdown",
   "metadata": {},
   "source": [
    "#### Floor"
   ]
  },
  {
   "cell_type": "code",
   "execution_count": 73,
   "metadata": {
    "ExecuteTime": {
     "end_time": "2024-05-07T15:52:47.959401Z",
     "start_time": "2024-05-07T15:52:47.935972Z"
    }
   },
   "outputs": [],
   "source": [
    "# Splitting 'floor/store' column into two separate columns\n",
    "df_otodom[['floor/store', 'no of floors/stores in the building']] = df_otodom['floor/store'].str.split('/', expand=True)"
   ]
  },
  {
   "cell_type": "code",
   "execution_count": 74,
   "metadata": {
    "ExecuteTime": {
     "end_time": "2024-05-07T15:52:47.990021Z",
     "start_time": "2024-05-07T15:52:47.960398Z"
    }
   },
   "outputs": [
    {
     "name": "stdout",
     "output_type": "stream",
     "text": [
      "224\n"
     ]
    }
   ],
   "source": [
    "# Removing rows without floor information\n",
    "print(df_otodom[df_otodom['floor/store'].isnull()].shape[0])\n",
    "df_otodom = df_otodom.dropna(subset=['floor/store'])"
   ]
  },
  {
   "cell_type": "code",
   "execution_count": 75,
   "metadata": {
    "ExecuteTime": {
     "end_time": "2024-05-07T15:52:47.997761Z",
     "start_time": "2024-05-07T15:52:47.991015Z"
    }
   },
   "outputs": [],
   "source": [
    "# Converting \"parter\" values to 0 in the \"floor\" column\n",
    "df_otodom['floor/store'] = df_otodom['floor/store'].replace('parter', 0)"
   ]
  },
  {
   "cell_type": "code",
   "execution_count": 76,
   "metadata": {
    "ExecuteTime": {
     "end_time": "2024-05-07T15:52:48.013759Z",
     "start_time": "2024-05-07T15:52:48.001758Z"
    }
   },
   "outputs": [],
   "source": [
    "# Converting \"suterena\" values to -1 in the \"floor\" column\n",
    "df_otodom['floor/store'] = df_otodom['floor/store'].replace('suterena', -1)"
   ]
  },
  {
   "cell_type": "code",
   "execution_count": 77,
   "metadata": {
    "ExecuteTime": {
     "end_time": "2024-05-07T15:52:48.033758Z",
     "start_time": "2024-05-07T15:52:48.016758Z"
    }
   },
   "outputs": [],
   "source": [
    "# Converting \"floor\" column to numeric type, replacing non-numeric values with NaN\n",
    "df_otodom['floor/store'] = pd.to_numeric(df_otodom['floor/store'], errors='coerce')\n",
    "\n",
    "# Removing rows containing NaN values in the \"floor\" column\n",
    "df_otodom = df_otodom[~df_otodom['floor/store'].isna()]"
   ]
  },
  {
   "cell_type": "code",
   "execution_count": 78,
   "metadata": {
    "ExecuteTime": {
     "end_time": "2024-05-07T15:52:48.047511Z",
     "start_time": "2024-05-07T15:52:48.034760Z"
    }
   },
   "outputs": [],
   "source": [
    "df_otodom['floor/store'] = df_otodom['floor/store'].astype(int)"
   ]
  },
  {
   "cell_type": "markdown",
   "metadata": {},
   "source": [
    "#### Number of Floors"
   ]
  },
  {
   "cell_type": "code",
   "execution_count": 79,
   "metadata": {
    "ExecuteTime": {
     "end_time": "2024-05-07T15:52:48.065649Z",
     "start_time": "2024-05-07T15:52:48.048509Z"
    }
   },
   "outputs": [
    {
     "name": "stdout",
     "output_type": "stream",
     "text": [
      "487\n"
     ]
    }
   ],
   "source": [
    "print(df_otodom[df_otodom['no of floors/stores in the building'].isnull()].shape[0])\n",
    "df_otodom = df_otodom.dropna(subset=['no of floors/stores in the building'])"
   ]
  },
  {
   "cell_type": "code",
   "execution_count": 80,
   "metadata": {
    "ExecuteTime": {
     "end_time": "2024-05-07T15:52:48.073147Z",
     "start_time": "2024-05-07T15:52:48.066630Z"
    }
   },
   "outputs": [],
   "source": [
    "df_otodom['no of floors/stores in the building'] = df_otodom['no of floors/stores in the building'].astype(int)"
   ]
  },
  {
   "cell_type": "code",
   "execution_count": 81,
   "metadata": {
    "ExecuteTime": {
     "end_time": "2024-05-07T15:52:48.085714Z",
     "start_time": "2024-05-07T15:52:48.074660Z"
    }
   },
   "outputs": [],
   "source": [
    "# Reorder\n",
    "columns = list(df_otodom.columns)\n",
    "columns.remove('no of floors/stores in the building')\n",
    "target_index = columns.index('floor/store')\n",
    "columns.insert(target_index + 1, 'no of floors/stores in the building')\n",
    "df_otodom = df_otodom[columns]"
   ]
  },
  {
   "cell_type": "code",
   "execution_count": 82,
   "metadata": {
    "ExecuteTime": {
     "end_time": "2024-05-07T15:52:48.099583Z",
     "start_time": "2024-05-07T15:52:48.086700Z"
    }
   },
   "outputs": [
    {
     "name": "stdout",
     "output_type": "stream",
     "text": [
      "1\n"
     ]
    }
   ],
   "source": [
    "# According to Wikipedia, the tallest residential building in Krk has 19 floors\n",
    "# https://pl.wikipedia.org/wiki/Lista_najwyższych_budynków_w_Krakowie\n",
    "print(df_otodom[df_otodom['no of floors/stores in the building'] > 19].shape[0])\n",
    "df_otodom.drop(df_otodom[df_otodom['no of floors/stores in the building'] > 19].index, inplace=True)"
   ]
  },
  {
   "cell_type": "markdown",
   "metadata": {},
   "source": [
    "#### Year of Construction"
   ]
  },
  {
   "cell_type": "code",
   "execution_count": 83,
   "metadata": {
    "ExecuteTime": {
     "end_time": "2024-05-07T15:52:48.137885Z",
     "start_time": "2024-05-07T15:52:48.101582Z"
    }
   },
   "outputs": [
    {
     "data": {
      "text/html": [
       "<div>\n",
       "<style scoped>\n",
       "    .dataframe tbody tr th:only-of-type {\n",
       "        vertical-align: middle;\n",
       "    }\n",
       "\n",
       "    .dataframe tbody tr th {\n",
       "        vertical-align: top;\n",
       "    }\n",
       "\n",
       "    .dataframe thead th {\n",
       "        text-align: right;\n",
       "    }\n",
       "</style>\n",
       "<table border=\"1\" class=\"dataframe\">\n",
       "  <thead>\n",
       "    <tr style=\"text-align: right;\">\n",
       "      <th></th>\n",
       "      <th>url</th>\n",
       "      <th>name/title</th>\n",
       "      <th>address</th>\n",
       "      <th>price</th>\n",
       "      <th>area</th>\n",
       "      <th>price-per-area</th>\n",
       "      <th>floor/store</th>\n",
       "      <th>no of floors/stores in the building</th>\n",
       "      <th>no of rooms</th>\n",
       "      <th>year of construction</th>\n",
       "      <th>...</th>\n",
       "      <th>market</th>\n",
       "      <th>form of ownership</th>\n",
       "      <th>condition</th>\n",
       "      <th>rent</th>\n",
       "      <th>heating</th>\n",
       "      <th>advertiser type</th>\n",
       "      <th>elevator</th>\n",
       "      <th>outdoor area</th>\n",
       "      <th>building type</th>\n",
       "      <th>building material</th>\n",
       "    </tr>\n",
       "  </thead>\n",
       "  <tbody>\n",
       "    <tr>\n",
       "      <th>187</th>\n",
       "      <td>https://www.otodom.pl/pl/oferta/4-pokoje-nowe-...</td>\n",
       "      <td>4 pokoje, nowe, Promocja -175 tys. taniej</td>\n",
       "      <td>Stare Podgórze, Podgórze, Kraków, małopolskie</td>\n",
       "      <td>998358.0</td>\n",
       "      <td>62.10</td>\n",
       "      <td>16077.0</td>\n",
       "      <td>1</td>\n",
       "      <td>4</td>\n",
       "      <td>4</td>\n",
       "      <td>2924.0</td>\n",
       "      <td>...</td>\n",
       "      <td>pierwotny</td>\n",
       "      <td>pełna własność</td>\n",
       "      <td>do wykończenia</td>\n",
       "      <td>NaN</td>\n",
       "      <td>miejskie</td>\n",
       "      <td>biuro nieruchomości</td>\n",
       "      <td>tak</td>\n",
       "      <td>balkon</td>\n",
       "      <td>apartamentowiec</td>\n",
       "      <td>brak informacji</td>\n",
       "    </tr>\n",
       "    <tr>\n",
       "      <th>7888</th>\n",
       "      <td>https://www.otodom.pl/pl/oferta/mieszkanie-na-...</td>\n",
       "      <td>Mieszkanie na sprzedaż, Kraków 40,2m2</td>\n",
       "      <td>ul. Janusza Supniewskiego, Osiedle Oficerskie,...</td>\n",
       "      <td>699000.0</td>\n",
       "      <td>40.20</td>\n",
       "      <td>17388.0</td>\n",
       "      <td>0</td>\n",
       "      <td>2</td>\n",
       "      <td>2</td>\n",
       "      <td>20100.0</td>\n",
       "      <td>...</td>\n",
       "      <td>wtórny</td>\n",
       "      <td>pełna własność</td>\n",
       "      <td>do zamieszkania</td>\n",
       "      <td>350.0</td>\n",
       "      <td>miejskie</td>\n",
       "      <td>prywatny</td>\n",
       "      <td>nie</td>\n",
       "      <td>NaN</td>\n",
       "      <td>blok</td>\n",
       "      <td>cegła</td>\n",
       "    </tr>\n",
       "    <tr>\n",
       "      <th>10812</th>\n",
       "      <td>https://www.otodom.pl/pl/oferta/widokowe-3-pok...</td>\n",
       "      <td>Widokowe 3 pok, 2 loggie, garaż podziemny, Ban...</td>\n",
       "      <td>ul. Stefana Banacha, Górka Narodowa, Prądnik B...</td>\n",
       "      <td>759000.0</td>\n",
       "      <td>49.47</td>\n",
       "      <td>15343.0</td>\n",
       "      <td>6</td>\n",
       "      <td>8</td>\n",
       "      <td>3</td>\n",
       "      <td>2924.0</td>\n",
       "      <td>...</td>\n",
       "      <td>pierwotny</td>\n",
       "      <td>pełna własność</td>\n",
       "      <td>do wykończenia</td>\n",
       "      <td>1.0</td>\n",
       "      <td>miejskie</td>\n",
       "      <td>biuro nieruchomości</td>\n",
       "      <td>tak</td>\n",
       "      <td>NaN</td>\n",
       "      <td>blok</td>\n",
       "      <td>brak informacji</td>\n",
       "    </tr>\n",
       "    <tr>\n",
       "      <th>6685</th>\n",
       "      <td>https://www.otodom.pl/pl/oferta/nowe-3-pokoje-...</td>\n",
       "      <td>Nowe: 3 pokoje na Ruczaju. Garaż podziemny.</td>\n",
       "      <td>Ruczaj, Dębniki, Kraków, małopolskie</td>\n",
       "      <td>790300.0</td>\n",
       "      <td>56.45</td>\n",
       "      <td>14000.0</td>\n",
       "      <td>3</td>\n",
       "      <td>3</td>\n",
       "      <td>3</td>\n",
       "      <td>1024.0</td>\n",
       "      <td>...</td>\n",
       "      <td>pierwotny</td>\n",
       "      <td>pełna własność</td>\n",
       "      <td>do wykończenia</td>\n",
       "      <td>250.0</td>\n",
       "      <td>miejskie</td>\n",
       "      <td>biuro nieruchomości</td>\n",
       "      <td>tak</td>\n",
       "      <td>balkon</td>\n",
       "      <td>blok</td>\n",
       "      <td>pustak</td>\n",
       "    </tr>\n",
       "    <tr>\n",
       "      <th>11292</th>\n",
       "      <td>https://www.otodom.pl/pl/oferta/3-pokoje-na-bi...</td>\n",
       "      <td>3 Pokoje na Bieńczycach! Wysoki Standard!</td>\n",
       "      <td>os. Wysokie, Bieńczyce, Bieńczyce, Kraków, mał...</td>\n",
       "      <td>669000.0</td>\n",
       "      <td>45.00</td>\n",
       "      <td>14867.0</td>\n",
       "      <td>3</td>\n",
       "      <td>4</td>\n",
       "      <td>3</td>\n",
       "      <td>450.0</td>\n",
       "      <td>...</td>\n",
       "      <td>wtórny</td>\n",
       "      <td>pełna własność</td>\n",
       "      <td>do zamieszkania</td>\n",
       "      <td>450.0</td>\n",
       "      <td>miejskie</td>\n",
       "      <td>biuro nieruchomości</td>\n",
       "      <td>nie</td>\n",
       "      <td>NaN</td>\n",
       "      <td>blok</td>\n",
       "      <td>cegła</td>\n",
       "    </tr>\n",
       "    <tr>\n",
       "      <th>11328</th>\n",
       "      <td>https://www.otodom.pl/pl/oferta/mieszkanie-na-...</td>\n",
       "      <td>Mieszkanie na sprzedaż- Mogilska-76 m2 + garaż</td>\n",
       "      <td>ul. Mogilska, Osiedle Oficerskie, Grzegórzki, ...</td>\n",
       "      <td>1080000.0</td>\n",
       "      <td>76.00</td>\n",
       "      <td>14211.0</td>\n",
       "      <td>8</td>\n",
       "      <td>10</td>\n",
       "      <td>3</td>\n",
       "      <td>87.0</td>\n",
       "      <td>...</td>\n",
       "      <td>wtórny</td>\n",
       "      <td>pełna własność</td>\n",
       "      <td>do zamieszkania</td>\n",
       "      <td>1200.0</td>\n",
       "      <td>miejskie</td>\n",
       "      <td>biuro nieruchomości</td>\n",
       "      <td>tak</td>\n",
       "      <td>balkon</td>\n",
       "      <td>blok</td>\n",
       "      <td>wielka płyta</td>\n",
       "    </tr>\n",
       "    <tr>\n",
       "      <th>12986</th>\n",
       "      <td>https://www.otodom.pl/pl/oferta/nowy-apartamen...</td>\n",
       "      <td>Nowy apartament z ogródkiem 90 m2. Bez Prowizji.</td>\n",
       "      <td>ul. Pana Tadeusza, Zabłocie, Podgórze, Kraków,...</td>\n",
       "      <td>794151.0</td>\n",
       "      <td>39.15</td>\n",
       "      <td>20285.0</td>\n",
       "      <td>0</td>\n",
       "      <td>7</td>\n",
       "      <td>2</td>\n",
       "      <td>204.0</td>\n",
       "      <td>...</td>\n",
       "      <td>pierwotny</td>\n",
       "      <td>NaN</td>\n",
       "      <td>do wykończenia</td>\n",
       "      <td>NaN</td>\n",
       "      <td>miejskie</td>\n",
       "      <td>biuro nieruchomości</td>\n",
       "      <td>tak</td>\n",
       "      <td>balkon, ogródek</td>\n",
       "      <td>brak informacji</td>\n",
       "      <td>brak informacji</td>\n",
       "    </tr>\n",
       "  </tbody>\n",
       "</table>\n",
       "<p>7 rows × 21 columns</p>\n",
       "</div>"
      ],
      "text/plain": [
       "                                                     url  \\\n",
       "187    https://www.otodom.pl/pl/oferta/4-pokoje-nowe-...   \n",
       "7888   https://www.otodom.pl/pl/oferta/mieszkanie-na-...   \n",
       "10812  https://www.otodom.pl/pl/oferta/widokowe-3-pok...   \n",
       "6685   https://www.otodom.pl/pl/oferta/nowe-3-pokoje-...   \n",
       "11292  https://www.otodom.pl/pl/oferta/3-pokoje-na-bi...   \n",
       "11328  https://www.otodom.pl/pl/oferta/mieszkanie-na-...   \n",
       "12986  https://www.otodom.pl/pl/oferta/nowy-apartamen...   \n",
       "\n",
       "                                              name/title  \\\n",
       "187            4 pokoje, nowe, Promocja -175 tys. taniej   \n",
       "7888               Mieszkanie na sprzedaż, Kraków 40,2m2   \n",
       "10812  Widokowe 3 pok, 2 loggie, garaż podziemny, Ban...   \n",
       "6685         Nowe: 3 pokoje na Ruczaju. Garaż podziemny.   \n",
       "11292          3 Pokoje na Bieńczycach! Wysoki Standard!   \n",
       "11328     Mieszkanie na sprzedaż- Mogilska-76 m2 + garaż   \n",
       "12986   Nowy apartament z ogródkiem 90 m2. Bez Prowizji.   \n",
       "\n",
       "                                                 address      price   area  \\\n",
       "187        Stare Podgórze, Podgórze, Kraków, małopolskie   998358.0  62.10   \n",
       "7888   ul. Janusza Supniewskiego, Osiedle Oficerskie,...   699000.0  40.20   \n",
       "10812  ul. Stefana Banacha, Górka Narodowa, Prądnik B...   759000.0  49.47   \n",
       "6685                Ruczaj, Dębniki, Kraków, małopolskie   790300.0  56.45   \n",
       "11292  os. Wysokie, Bieńczyce, Bieńczyce, Kraków, mał...   669000.0  45.00   \n",
       "11328  ul. Mogilska, Osiedle Oficerskie, Grzegórzki, ...  1080000.0  76.00   \n",
       "12986  ul. Pana Tadeusza, Zabłocie, Podgórze, Kraków,...   794151.0  39.15   \n",
       "\n",
       "       price-per-area  floor/store  no of floors/stores in the building  \\\n",
       "187           16077.0            1                                    4   \n",
       "7888          17388.0            0                                    2   \n",
       "10812         15343.0            6                                    8   \n",
       "6685          14000.0            3                                    3   \n",
       "11292         14867.0            3                                    4   \n",
       "11328         14211.0            8                                   10   \n",
       "12986         20285.0            0                                    7   \n",
       "\n",
       "       no of rooms  year of construction  ...     market form of ownership  \\\n",
       "187              4                2924.0  ...  pierwotny    pełna własność   \n",
       "7888             2               20100.0  ...     wtórny    pełna własność   \n",
       "10812            3                2924.0  ...  pierwotny    pełna własność   \n",
       "6685             3                1024.0  ...  pierwotny    pełna własność   \n",
       "11292            3                 450.0  ...     wtórny    pełna własność   \n",
       "11328            3                  87.0  ...     wtórny    pełna własność   \n",
       "12986            2                 204.0  ...  pierwotny               NaN   \n",
       "\n",
       "             condition    rent   heating      advertiser type elevator  \\\n",
       "187     do wykończenia     NaN  miejskie  biuro nieruchomości      tak   \n",
       "7888   do zamieszkania   350.0  miejskie             prywatny      nie   \n",
       "10812   do wykończenia     1.0  miejskie  biuro nieruchomości      tak   \n",
       "6685    do wykończenia   250.0  miejskie  biuro nieruchomości      tak   \n",
       "11292  do zamieszkania   450.0  miejskie  biuro nieruchomości      nie   \n",
       "11328  do zamieszkania  1200.0  miejskie  biuro nieruchomości      tak   \n",
       "12986   do wykończenia     NaN  miejskie  biuro nieruchomości      tak   \n",
       "\n",
       "          outdoor area    building type building material  \n",
       "187             balkon  apartamentowiec   brak informacji  \n",
       "7888               NaN             blok             cegła  \n",
       "10812              NaN             blok   brak informacji  \n",
       "6685            balkon             blok            pustak  \n",
       "11292              NaN             blok             cegła  \n",
       "11328           balkon             blok      wielka płyta  \n",
       "12986  balkon, ogródek  brak informacji   brak informacji  \n",
       "\n",
       "[7 rows x 21 columns]"
      ]
     },
     "execution_count": 83,
     "metadata": {},
     "output_type": "execute_result"
    }
   ],
   "source": [
    "df_otodom['year of construction'] = pd.to_numeric(df_otodom['year of construction'], errors='coerce')\n",
    "\n",
    "missing_below_1200 = df_otodom[df_otodom['year of construction'] < 1250]\n",
    "missing_above_2026 = df_otodom[df_otodom['year of construction'] > 2026]\n",
    "pd.concat([missing_above_2026, missing_below_1200])"
   ]
  },
  {
   "cell_type": "code",
   "execution_count": 84,
   "metadata": {
    "ExecuteTime": {
     "end_time": "2024-05-07T15:52:49.157748Z",
     "start_time": "2024-05-07T15:52:49.145881Z"
    }
   },
   "outputs": [],
   "source": [
    "# Correcting \"z placa\" (with plaza)\n",
    "df_otodom['year of construction'] = df_otodom['year of construction'].replace(2924.0, 2024)\n",
    "df_otodom['year of construction'] = df_otodom['year of construction'].replace(1024.0, 2024)\n",
    "df_otodom['year of construction'] = df_otodom['year of construction'].replace(204.0, 2024)\n",
    "df_otodom['year of construction'] = df_otodom['year of construction'].replace(20100.0, 2010)\n",
    "df_otodom['year of construction'] = df_otodom['year of construction'].replace(87.0, 1987)\n",
    "df_otodom.drop(df_otodom[df_otodom['year of construction'] == 450.0].index, inplace=True)"
   ]
  },
  {
   "cell_type": "code",
   "execution_count": 85,
   "metadata": {
    "ExecuteTime": {
     "end_time": "2024-05-07T15:52:50.385748Z",
     "start_time": "2024-05-07T15:52:50.378749Z"
    }
   },
   "outputs": [
    {
     "data": {
      "text/plain": [
       "year of construction\n",
       "NaN       2371\n",
       "2024.0    1933\n",
       "2023.0    1637\n",
       "2025.0     553\n",
       "2022.0     381\n",
       "Name: count, dtype: int64"
      ]
     },
     "execution_count": 85,
     "metadata": {},
     "output_type": "execute_result"
    }
   ],
   "source": [
    "# df_otodom['year of construction'] = df_otodom['year of construction'].fillna(-1).astype(int)\n",
    "df_otodom['year of construction'].value_counts(dropna=False).head()"
   ]
  },
  {
   "cell_type": "code",
   "execution_count": 86,
   "metadata": {
    "ExecuteTime": {
     "end_time": "2024-05-07T15:52:51.285748Z",
     "start_time": "2024-05-07T15:52:51.274748Z"
    }
   },
   "outputs": [
    {
     "data": {
      "text/plain": [
       "2012"
      ]
     },
     "execution_count": 86,
     "metadata": {},
     "output_type": "execute_result"
    }
   ],
   "source": [
    "# Average after cutting outliers for possible completion\n",
    "mean_year = df_otodom['year of construction'].mean()\n",
    "std_year = df_otodom['year of construction'].std()\n",
    "\n",
    "filtered_df = df_otodom[(df_otodom['year of construction'] > (mean_year - std_year)) & \n",
    "                        (df_otodom['year of construction'] < (mean_year + std_year))]\n",
    "\n",
    "new_mean_year = filtered_df['year of construction'].mean()\n",
    "new_mean_year = int(new_mean_year)\n",
    "new_mean_year"
   ]
  },
  {
   "cell_type": "markdown",
   "metadata": {},
   "source": [
    "#### Market"
   ]
  },
  {
   "cell_type": "code",
   "execution_count": 87,
   "metadata": {
    "ExecuteTime": {
     "end_time": "2024-05-07T15:52:52.007271Z",
     "start_time": "2024-05-07T15:52:51.999748Z"
    }
   },
   "outputs": [],
   "source": [
    "df_otodom.loc[(df_otodom['market'].isna()) & (df_otodom['year of construction'] > 2022), 'market'] = 'pierwotny'\n",
    "df_otodom.loc[(df_otodom['market'].isna()) & (df_otodom['year of construction'] < 2023), 'market'] = 'wtórny'"
   ]
  },
  {
   "cell_type": "code",
   "execution_count": 88,
   "metadata": {
    "ExecuteTime": {
     "end_time": "2024-05-07T15:52:52.389621Z",
     "start_time": "2024-05-07T15:52:52.378263Z"
    }
   },
   "outputs": [
    {
     "name": "stdout",
     "output_type": "stream",
     "text": [
      "931\n"
     ]
    }
   ],
   "source": [
    "print(df_otodom['market'].isna().sum())\n",
    "df_otodom.dropna(subset=['market'], inplace=True)"
   ]
  },
  {
   "cell_type": "code",
   "execution_count": 89,
   "metadata": {
    "ExecuteTime": {
     "end_time": "2024-05-07T15:52:52.937621Z",
     "start_time": "2024-05-07T15:52:52.930621Z"
    }
   },
   "outputs": [
    {
     "data": {
      "text/plain": [
       "market\n",
       "wtórny       7439\n",
       "pierwotny    3950\n",
       "Name: count, dtype: int64"
      ]
     },
     "execution_count": 89,
     "metadata": {},
     "output_type": "execute_result"
    }
   ],
   "source": [
    "df_otodom['market'].value_counts(dropna=False)"
   ]
  },
  {
   "cell_type": "markdown",
   "metadata": {},
   "source": [
    "#### Ownership Type"
   ]
  },
  {
   "cell_type": "code",
   "execution_count": 90,
   "metadata": {
    "ExecuteTime": {
     "end_time": "2024-05-07T15:52:53.268416Z",
     "start_time": "2024-05-07T15:52:53.260619Z"
    }
   },
   "outputs": [
    {
     "data": {
      "text/plain": [
       "form of ownership\n",
       "pełna własność                       7983\n",
       "NaN                                  2999\n",
       "spółdzielcze wł. prawo do lokalu      293\n",
       "udział                                111\n",
       "użytkowanie wieczyste / dzierżawa       3\n",
       "Name: count, dtype: int64"
      ]
     },
     "execution_count": 90,
     "metadata": {},
     "output_type": "execute_result"
    }
   ],
   "source": [
    "df_otodom['form of ownership'].value_counts(dropna=False)"
   ]
  },
  {
   "cell_type": "code",
   "execution_count": 91,
   "metadata": {
    "ExecuteTime": {
     "end_time": "2024-05-07T15:52:53.708933Z",
     "start_time": "2024-05-07T15:52:53.702414Z"
    }
   },
   "outputs": [],
   "source": [
    "# According to the law in effect in 2007, it is not possible to establish cooperative ownership rights to a property\n",
    "df_otodom.loc[(df_otodom['form of ownership'].isna()) & (df_otodom['year of construction'] > 2006), 'form of ownership'] = 'pełna własność'"
   ]
  },
  {
   "cell_type": "markdown",
   "metadata": {},
   "source": [
    "#### Condition"
   ]
  },
  {
   "cell_type": "code",
   "execution_count": 92,
   "metadata": {
    "ExecuteTime": {
     "end_time": "2024-05-07T15:52:54.152556Z",
     "start_time": "2024-05-07T15:52:54.145928Z"
    }
   },
   "outputs": [
    {
     "data": {
      "text/plain": [
       "condition\n",
       "do zamieszkania    4887\n",
       "do wykończenia     3444\n",
       "NaN                2549\n",
       "do remontu          509\n",
       "Name: count, dtype: int64"
      ]
     },
     "execution_count": 92,
     "metadata": {},
     "output_type": "execute_result"
    }
   ],
   "source": [
    "df_otodom['condition'].value_counts(dropna=False)"
   ]
  },
  {
   "cell_type": "markdown",
   "metadata": {},
   "source": [
    "#### Parking"
   ]
  },
  {
   "cell_type": "code",
   "execution_count": 93,
   "metadata": {
    "ExecuteTime": {
     "end_time": "2024-05-07T15:52:54.713025Z",
     "start_time": "2024-05-07T15:52:54.706071Z"
    }
   },
   "outputs": [
    {
     "data": {
      "text/plain": [
       "parking space\n",
       "garaż/miejsce parkingowe    6354\n",
       "NaN                         5035\n",
       "Name: count, dtype: int64"
      ]
     },
     "execution_count": 93,
     "metadata": {},
     "output_type": "execute_result"
    }
   ],
   "source": [
    "df_otodom['parking space'].value_counts(dropna=False)"
   ]
  },
  {
   "cell_type": "code",
   "execution_count": 94,
   "metadata": {
    "ExecuteTime": {
     "end_time": "2024-05-07T15:52:54.966021Z",
     "start_time": "2024-05-07T15:52:54.958026Z"
    }
   },
   "outputs": [
    {
     "data": {
      "text/plain": [
       "parking space\n",
       "True     6354\n",
       "False    5035\n",
       "Name: count, dtype: int64"
      ]
     },
     "execution_count": 94,
     "metadata": {},
     "output_type": "execute_result"
    }
   ],
   "source": [
    "df_otodom['parking space'] = df_otodom['parking space'].notna()\n",
    "df_otodom['parking space'].value_counts(dropna=False)"
   ]
  },
  {
   "cell_type": "markdown",
   "metadata": {},
   "source": [
    "#### Heating"
   ]
  },
  {
   "cell_type": "code",
   "execution_count": 95,
   "metadata": {
    "ExecuteTime": {
     "end_time": "2024-05-07T15:52:55.532611Z",
     "start_time": "2024-05-07T15:52:55.526021Z"
    }
   },
   "outputs": [
    {
     "data": {
      "text/plain": [
       "heating\n",
       "miejskie         7212\n",
       "NaN              2123\n",
       "gazowe           1295\n",
       "inne              395\n",
       "elektryczne       211\n",
       "kotłownia         151\n",
       "piece kaflowe       2\n",
       "Name: count, dtype: int64"
      ]
     },
     "execution_count": 95,
     "metadata": {},
     "output_type": "execute_result"
    }
   ],
   "source": [
    "df_otodom['heating'].value_counts(dropna=False)"
   ]
  },
  {
   "cell_type": "markdown",
   "metadata": {},
   "source": [
    "#### Balcony"
   ]
  },
  {
   "cell_type": "code",
   "execution_count": 96,
   "metadata": {
    "ExecuteTime": {
     "end_time": "2024-05-07T15:52:55.869347Z",
     "start_time": "2024-05-07T15:52:55.860606Z"
    }
   },
   "outputs": [
    {
     "data": {
      "text/plain": [
       "outdoor area\n",
       "balkon                    6336\n",
       "NaN                       2793\n",
       "ogródek                    570\n",
       "balkon, taras              496\n",
       "balkon, ogródek, taras     368\n",
       "taras                      290\n",
       "ogródek, taras             281\n",
       "balkon, ogródek            201\n",
       "taras, balkon               34\n",
       "taras, ogródek              17\n",
       "taras, balkon, ogródek       3\n",
       "Name: count, dtype: int64"
      ]
     },
     "execution_count": 96,
     "metadata": {},
     "output_type": "execute_result"
    }
   ],
   "source": [
    "df_otodom['outdoor area'].value_counts(dropna=False)"
   ]
  },
  {
   "cell_type": "code",
   "execution_count": 97,
   "metadata": {
    "ExecuteTime": {
     "end_time": "2024-05-07T15:52:56.438861Z",
     "start_time": "2024-05-07T15:52:56.424860Z"
    }
   },
   "outputs": [],
   "source": [
    "df_otodom['outdoor area'] = df_otodom['outdoor area'].fillna('None')\n",
    "\n",
    "def standardize_outdoor_area(area):\n",
    "    if area == 'None':\n",
    "        return area\n",
    "    parts = sorted(set(area.replace(' ', '').split(',')))\n",
    "    return ', '.join(parts)\n",
    "\n",
    "df_otodom['outdoor area'] = df_otodom['outdoor area'].apply(standardize_outdoor_area)"
   ]
  },
  {
   "cell_type": "markdown",
   "metadata": {},
   "source": [
    "#### Advertiser"
   ]
  },
  {
   "cell_type": "code",
   "execution_count": 98,
   "metadata": {
    "ExecuteTime": {
     "end_time": "2024-05-07T15:52:56.758756Z",
     "start_time": "2024-05-07T15:52:56.751860Z"
    }
   },
   "outputs": [
    {
     "data": {
      "text/plain": [
       "advertiser type\n",
       "biuro nieruchomości    9928\n",
       "prywatny               1305\n",
       "deweloper               156\n",
       "Name: count, dtype: int64"
      ]
     },
     "execution_count": 98,
     "metadata": {},
     "output_type": "execute_result"
    }
   ],
   "source": [
    "df_otodom['advertiser type'].value_counts(dropna=False)"
   ]
  },
  {
   "cell_type": "code",
   "execution_count": 99,
   "metadata": {
    "ExecuteTime": {
     "end_time": "2024-05-07T15:52:57.333324Z",
     "start_time": "2024-05-07T15:52:57.328752Z"
    }
   },
   "outputs": [],
   "source": [
    "df_otodom.loc[(df_otodom['advertiser type'].isna()), 'advertiser type'] = 'biuro nieruchomości'"
   ]
  },
  {
   "cell_type": "markdown",
   "metadata": {},
   "source": [
    "#### Elevator"
   ]
  },
  {
   "cell_type": "code",
   "execution_count": 100,
   "metadata": {
    "ExecuteTime": {
     "end_time": "2024-05-07T15:52:57.586034Z",
     "start_time": "2024-05-07T15:52:57.577993Z"
    }
   },
   "outputs": [
    {
     "data": {
      "text/plain": [
       "elevator\n",
       "tak    6131\n",
       "nie    5258\n",
       "Name: count, dtype: int64"
      ]
     },
     "execution_count": 100,
     "metadata": {},
     "output_type": "execute_result"
    }
   ],
   "source": [
    "df_otodom['elevator'].value_counts(dropna=False)"
   ]
  },
  {
   "cell_type": "code",
   "execution_count": 101,
   "metadata": {
    "ExecuteTime": {
     "end_time": "2024-05-07T15:52:58.093361Z",
     "start_time": "2024-05-07T15:52:58.084857Z"
    }
   },
   "outputs": [],
   "source": [
    "# According to the building law in effect since 1960\n",
    "df_otodom.loc[df_otodom['elevator'].isna() & (df_otodom['no of floors/stores in the building'] > 4), 'elevator'] = 'tak'\n",
    "df_otodom['elevator'] = df_otodom['elevator'].map({'tak': True, 'nie': False, np.nan: False})\n",
    "df_otodom['elevator'] = df_otodom['elevator'].astype(bool)"
   ]
  },
  {
   "cell_type": "markdown",
   "metadata": {},
   "source": [
    "#### Building Type"
   ]
  },
  {
   "cell_type": "code",
   "execution_count": 102,
   "metadata": {
    "ExecuteTime": {
     "end_time": "2024-05-07T15:52:58.417374Z",
     "start_time": "2024-05-07T15:52:58.410783Z"
    }
   },
   "outputs": [
    {
     "data": {
      "text/plain": [
       "building type\n",
       "blok                5777\n",
       "apartamentowiec     2221\n",
       "brak informacji     1928\n",
       "kamienica           1145\n",
       "dom wolnostojący     208\n",
       "szeregowiec           97\n",
       "plomba                10\n",
       "loft                   3\n",
       "Name: count, dtype: int64"
      ]
     },
     "execution_count": 102,
     "metadata": {},
     "output_type": "execute_result"
    }
   ],
   "source": [
    "df_otodom['building type'].value_counts(dropna=False)"
   ]
  },
  {
   "cell_type": "markdown",
   "metadata": {},
   "source": [
    "#### Material"
   ]
  },
  {
   "cell_type": "code",
   "execution_count": 103,
   "metadata": {
    "ExecuteTime": {
     "end_time": "2024-05-07T15:52:58.928387Z",
     "start_time": "2024-05-07T15:52:58.916901Z"
    }
   },
   "outputs": [
    {
     "data": {
      "text/plain": [
       "building type\n",
       "blok                5777\n",
       "apartamentowiec     2221\n",
       "brak informacji     1928\n",
       "kamienica           1145\n",
       "dom wolnostojący     208\n",
       "szeregowiec           97\n",
       "plomba                10\n",
       "loft                   3\n",
       "Name: count, dtype: int64"
      ]
     },
     "execution_count": 103,
     "metadata": {},
     "output_type": "execute_result"
    }
   ],
   "source": [
    "df_otodom['building type'].value_counts(dropna=False)"
   ]
  },
  {
   "cell_type": "markdown",
   "metadata": {},
   "source": [
    "## Addresses - Preliminary"
   ]
  },
  {
   "cell_type": "code",
   "execution_count": 104,
   "metadata": {
    "ExecuteTime": {
     "end_time": "2024-05-07T15:52:59.206387Z",
     "start_time": "2024-05-07T15:52:59.183408Z"
    }
   },
   "outputs": [
    {
     "name": "stdout",
     "output_type": "stream",
     "text": [
      "136\n"
     ]
    }
   ],
   "source": [
    "# Remove addresses outside Krakow\n",
    "print(df_otodom[~df_otodom['address'].str.contains(\"Kraków\", na=False)].shape[0])\n",
    "df_otodom = df_otodom[df_otodom['address'].str.contains(\"Kraków\", na=False)]"
   ]
  },
  {
   "cell_type": "code",
   "execution_count": 105,
   "metadata": {
    "ExecuteTime": {
     "end_time": "2024-05-07T15:52:59.695398Z",
     "start_time": "2024-05-07T15:52:59.676385Z"
    }
   },
   "outputs": [
    {
     "name": "stdout",
     "output_type": "stream",
     "text": [
      "<class 'pandas.core.frame.DataFrame'>\n",
      "Index: 11253 entries, 0 to 14171\n",
      "Data columns (total 21 columns):\n",
      " #   Column                               Non-Null Count  Dtype  \n",
      "---  ------                               --------------  -----  \n",
      " 0   url                                  11253 non-null  object \n",
      " 1   name/title                           11253 non-null  object \n",
      " 2   address                              11253 non-null  object \n",
      " 3   price                                11253 non-null  float64\n",
      " 4   area                                 11253 non-null  float64\n",
      " 5   price-per-area                       11253 non-null  float64\n",
      " 6   floor/store                          11253 non-null  int32  \n",
      " 7   no of floors/stores in the building  11253 non-null  int32  \n",
      " 8   no of rooms                          11253 non-null  int32  \n",
      " 9   year of construction                 9817 non-null   float64\n",
      " 10  parking space                        11253 non-null  bool   \n",
      " 11  market                               11253 non-null  object \n",
      " 12  form of ownership                    10140 non-null  object \n",
      " 13  condition                            8713 non-null   object \n",
      " 14  rent                                 6024 non-null   float64\n",
      " 15  heating                              9158 non-null   object \n",
      " 16  advertiser type                      11253 non-null  object \n",
      " 17  elevator                             11253 non-null  bool   \n",
      " 18  outdoor area                         11253 non-null  object \n",
      " 19  building type                        11253 non-null  object \n",
      " 20  building material                    11253 non-null  object \n",
      "dtypes: bool(2), float64(5), int32(3), object(11)\n",
      "memory usage: 1.6+ MB\n"
     ]
    }
   ],
   "source": [
    "df_otodom.info()"
   ]
  },
  {
   "cell_type": "code",
   "execution_count": 106,
   "metadata": {
    "ExecuteTime": {
     "end_time": "2024-05-07T15:52:59.970416Z",
     "start_time": "2024-05-07T15:52:59.958385Z"
    }
   },
   "outputs": [
    {
     "data": {
      "text/plain": [
       "url                                       0\n",
       "name/title                                0\n",
       "address                                   0\n",
       "price                                     0\n",
       "area                                      0\n",
       "price-per-area                            0\n",
       "floor/store                               0\n",
       "no of floors/stores in the building       0\n",
       "no of rooms                               0\n",
       "year of construction                   1436\n",
       "parking space                             0\n",
       "market                                    0\n",
       "form of ownership                      1113\n",
       "condition                              2540\n",
       "rent                                   5229\n",
       "heating                                2095\n",
       "advertiser type                           0\n",
       "elevator                                  0\n",
       "outdoor area                              0\n",
       "building type                             0\n",
       "building material                         0\n",
       "dtype: int64"
      ]
     },
     "execution_count": 106,
     "metadata": {},
     "output_type": "execute_result"
    }
   ],
   "source": [
    "df_otodom.isnull().sum()"
   ]
  },
  {
   "cell_type": "code",
   "execution_count": 107,
   "metadata": {
    "ExecuteTime": {
     "end_time": "2024-05-07T15:53:00.504419Z",
     "start_time": "2024-05-07T15:53:00.492412Z"
    }
   },
   "outputs": [
    {
     "data": {
      "text/plain": [
       "4131"
      ]
     },
     "execution_count": 107,
     "metadata": {},
     "output_type": "execute_result"
    }
   ],
   "source": [
    "nan_row_count = df_otodom.isna().any(axis=1).sum()\n",
    "df_otodom.shape[0] - nan_row_count"
   ]
  },
  {
   "cell_type": "markdown",
   "metadata": {},
   "source": [
    "# Real Estate Dataset nieruchomosci-online"
   ]
  },
  {
   "cell_type": "markdown",
   "metadata": {},
   "source": [
    "### Data Loading and Aggregation"
   ]
  },
  {
   "cell_type": "code",
   "execution_count": 108,
   "metadata": {
    "ExecuteTime": {
     "end_time": "2024-05-07T15:53:00.964962Z",
     "start_time": "2024-05-07T15:53:00.837962Z"
    }
   },
   "outputs": [],
   "source": [
    "df_nieruchomosci = pd.read_csv('datasets/timestamps/2024-03-08-nieruchomosci-online_dataset_raw.csv')\n",
    "df_2024_03_25_nieruchomosci_new_data = pd.read_csv('datasets/timestamps/2024-03-25-nieruchomosci-online-new_data.csv')\n",
    "df_2024_03_25_nieruchomosci_updated_data = pd.read_csv('datasets/timestamps/2024-03-25-nieruchomosci-online-updated_data.csv')\n",
    "df_2024_04_07_nieruchomosci_new_data = pd.read_csv('datasets/timestamps/2024-04-07-nieruchomosci-online-new_data.csv')\n",
    "df_2024_04_07_nieruchomosci_updated_data = pd.read_csv('datasets/timestamps/2024-04-07-nieruchomosci-online-updated_data.csv')\n",
    "df_2024_04_21_nieruchomosci_new_data = pd.read_csv('datasets/timestamps/2024-04-21-nieruchomosci-online-new_data.csv')\n",
    "df_2024_04_21_nieruchomosci_updated_data = pd.read_csv('datasets/timestamps/2024-04-21-nieruchomosci-online-updated_data.csv')\n",
    "df_2024_05_05_nieruchomosci_new_data = pd.read_csv('datasets/timestamps/2024-05-05-nieruchomosci-online_new_data.csv')\n",
    "df_2024_05_05_nieruchomosci_updated_data = pd.read_csv('datasets/timestamps/2024-05-05-nieruchomosci-online_updated_data.csv')"
   ]
  },
  {
   "cell_type": "code",
   "execution_count": 109,
   "metadata": {
    "ExecuteTime": {
     "end_time": "2024-05-07T15:53:01.400357Z",
     "start_time": "2024-05-07T15:53:01.308963Z"
    }
   },
   "outputs": [],
   "source": [
    "df_nieruchomosci = update_dataframe(df_nieruchomosci, df_2024_03_25_nieruchomosci_updated_data, df_2024_03_25_nieruchomosci_new_data)\n",
    "df_nieruchomosci = update_dataframe(df_nieruchomosci, df_2024_04_07_nieruchomosci_updated_data, df_2024_04_07_nieruchomosci_new_data)\n",
    "df_nieruchomosci = update_dataframe(df_nieruchomosci, df_2024_04_21_nieruchomosci_updated_data, df_2024_04_21_nieruchomosci_new_data)\n",
    "df_nieruchomosci = update_dataframe(df_nieruchomosci, df_2024_05_05_nieruchomosci_updated_data, df_2024_05_05_nieruchomosci_new_data)"
   ]
  },
  {
   "cell_type": "code",
   "execution_count": 110,
   "metadata": {
    "ExecuteTime": {
     "end_time": "2024-05-07T15:53:01.656685Z",
     "start_time": "2024-05-07T15:53:01.638976Z"
    }
   },
   "outputs": [
    {
     "name": "stdout",
     "output_type": "stream",
     "text": [
      "<class 'pandas.core.frame.DataFrame'>\n",
      "RangeIndex: 9659 entries, 0 to 9658\n",
      "Data columns (total 13 columns):\n",
      " #   Column                               Non-Null Count  Dtype  \n",
      "---  ------                               --------------  -----  \n",
      " 0   url                                  9659 non-null   object \n",
      " 1   name/title                           9659 non-null   object \n",
      " 2   address                              9290 non-null   object \n",
      " 3   price                                9536 non-null   object \n",
      " 4   area                                 9659 non-null   object \n",
      " 5   price-per-area                       9536 non-null   object \n",
      " 6   floor/store                          9659 non-null   object \n",
      " 7   no of floors/stores in the building  9027 non-null   float64\n",
      " 8   no of rooms                          9659 non-null   object \n",
      " 9   year of construction                 9659 non-null   object \n",
      " 10  parking space                        9659 non-null   object \n",
      " 11  market                               9592 non-null   object \n",
      " 12  form of ownership                    4386 non-null   object \n",
      "dtypes: float64(1), object(12)\n",
      "memory usage: 981.1+ KB\n"
     ]
    }
   ],
   "source": [
    "df_nieruchomosci.info()"
   ]
  },
  {
   "cell_type": "markdown",
   "metadata": {},
   "source": [
    "### Price and Price per Square Meter\n",
    "#### Removing Rows with Missing Data"
   ]
  },
  {
   "cell_type": "code",
   "execution_count": 111,
   "metadata": {
    "ExecuteTime": {
     "end_time": "2024-05-07T15:53:02.083550Z",
     "start_time": "2024-05-07T15:53:02.072684Z"
    }
   },
   "outputs": [
    {
     "name": "stdout",
     "output_type": "stream",
     "text": [
      "123\n"
     ]
    }
   ],
   "source": [
    "print(df_nieruchomosci[df_nieruchomosci['price'].isnull()].shape[0])\n",
    "df_nieruchomosci.drop(df_nieruchomosci[df_nieruchomosci['price'].isnull()].index, inplace=True)"
   ]
  },
  {
   "cell_type": "code",
   "execution_count": 112,
   "metadata": {
    "ExecuteTime": {
     "end_time": "2024-05-07T15:53:02.459944Z",
     "start_time": "2024-05-07T15:53:02.447566Z"
    }
   },
   "outputs": [
    {
     "data": {
      "text/plain": [
       "0"
      ]
     },
     "execution_count": 112,
     "metadata": {},
     "output_type": "execute_result"
    }
   ],
   "source": [
    "# checking if there are any values in the price-per-area column that do not contain numeric data\n",
    "df_nieruchomosci[~df_nieruchomosci['price-per-area'].str.contains(r'\\d')].shape[0]"
   ]
  },
  {
   "cell_type": "code",
   "execution_count": 113,
   "metadata": {
    "ExecuteTime": {
     "end_time": "2024-05-07T15:53:02.798346Z",
     "start_time": "2024-05-07T15:53:02.778408Z"
    }
   },
   "outputs": [
    {
     "data": {
      "text/plain": [
       "0"
      ]
     },
     "execution_count": 113,
     "metadata": {},
     "output_type": "execute_result"
    }
   ],
   "source": [
    "# checking if there are any values in the price column that do not contain numeric data\n",
    "df_nieruchomosci[~df_nieruchomosci['price'].str.contains(r'\\d')].shape[0]"
   ]
  },
  {
   "cell_type": "markdown",
   "metadata": {},
   "source": [
    "### Conversion of Prices Given in Different Currencies"
   ]
  },
  {
   "cell_type": "code",
   "execution_count": 114,
   "metadata": {
    "ExecuteTime": {
     "end_time": "2024-05-07T15:53:03.291874Z",
     "start_time": "2024-05-07T15:53:03.261347Z"
    }
   },
   "outputs": [
    {
     "data": {
      "text/html": [
       "<div>\n",
       "<style scoped>\n",
       "    .dataframe tbody tr th:only-of-type {\n",
       "        vertical-align: middle;\n",
       "    }\n",
       "\n",
       "    .dataframe tbody tr th {\n",
       "        vertical-align: top;\n",
       "    }\n",
       "\n",
       "    .dataframe thead th {\n",
       "        text-align: right;\n",
       "    }\n",
       "</style>\n",
       "<table border=\"1\" class=\"dataframe\">\n",
       "  <thead>\n",
       "    <tr style=\"text-align: right;\">\n",
       "      <th></th>\n",
       "      <th>url</th>\n",
       "      <th>name/title</th>\n",
       "      <th>address</th>\n",
       "      <th>price</th>\n",
       "      <th>area</th>\n",
       "      <th>price-per-area</th>\n",
       "      <th>floor/store</th>\n",
       "      <th>no of floors/stores in the building</th>\n",
       "      <th>no of rooms</th>\n",
       "      <th>year of construction</th>\n",
       "      <th>parking space</th>\n",
       "      <th>market</th>\n",
       "      <th>form of ownership</th>\n",
       "    </tr>\n",
       "  </thead>\n",
       "  <tbody>\n",
       "    <tr>\n",
       "      <th>153</th>\n",
       "      <td>https://krakow.nieruchomosci-online.pl/mieszka...</td>\n",
       "      <td>Mieszkanie, ul. Piłsudskiego</td>\n",
       "      <td>Piłsudskiego, Stare Miasto, Kraków, małopolskie</td>\n",
       "      <td>1 149 999 €</td>\n",
       "      <td>232,10 m²</td>\n",
       "      <td>4 954,76 €/m²</td>\n",
       "      <td>4</td>\n",
       "      <td>4.0</td>\n",
       "      <td>5</td>\n",
       "      <td>1906</td>\n",
       "      <td>parking strzeżony w pobliżu</td>\n",
       "      <td>wtórny</td>\n",
       "      <td>NaN</td>\n",
       "    </tr>\n",
       "    <tr>\n",
       "      <th>1120</th>\n",
       "      <td>https://krakow.nieruchomosci-online.pl/mieszka...</td>\n",
       "      <td>Mieszkanie, ul. Piłsudskiego</td>\n",
       "      <td>Piłsudskiego, Stare Miasto, Kraków, małopolskie</td>\n",
       "      <td>1 149 999 €</td>\n",
       "      <td>232,10 m²</td>\n",
       "      <td>4 954,76 €/m²</td>\n",
       "      <td>4</td>\n",
       "      <td>4.0</td>\n",
       "      <td>5</td>\n",
       "      <td>1908</td>\n",
       "      <td>garaż</td>\n",
       "      <td>wtórny</td>\n",
       "      <td>NaN</td>\n",
       "    </tr>\n",
       "    <tr>\n",
       "      <th>1151</th>\n",
       "      <td>https://krakow.nieruchomosci-online.pl/mieszka...</td>\n",
       "      <td>Mieszkanie, ul. Piłsudskiego</td>\n",
       "      <td>Piłsudskiego, Stare Miasto, Kraków, małopolskie</td>\n",
       "      <td>1 150 000 €</td>\n",
       "      <td>232,10 m²</td>\n",
       "      <td>4 954,76 €/m²</td>\n",
       "      <td>4</td>\n",
       "      <td>5.0</td>\n",
       "      <td>5</td>\n",
       "      <td>1906</td>\n",
       "      <td>parking publiczny / na ulicy</td>\n",
       "      <td>wtórny</td>\n",
       "      <td>NaN</td>\n",
       "    </tr>\n",
       "    <tr>\n",
       "      <th>2096</th>\n",
       "      <td>https://krakow.nieruchomosci-online.pl/mieszka...</td>\n",
       "      <td>Mieszkanie, ul. Piłsudskiego</td>\n",
       "      <td>Piłsudskiego, Stare Miasto, Kraków, małopolskie</td>\n",
       "      <td>1 150 000 €</td>\n",
       "      <td>228 m²</td>\n",
       "      <td>5 043,86 €/m²</td>\n",
       "      <td>4</td>\n",
       "      <td>5.0</td>\n",
       "      <td>5</td>\n",
       "      <td>1906</td>\n",
       "      <td>parking publiczny / na ulicy</td>\n",
       "      <td>wtórny</td>\n",
       "      <td>własność</td>\n",
       "    </tr>\n",
       "    <tr>\n",
       "      <th>2241</th>\n",
       "      <td>https://krakow.nieruchomosci-online.pl/mieszka...</td>\n",
       "      <td>Mieszkanie, ul. Piłsudskiego</td>\n",
       "      <td>Piłsudskiego, Nowy Świat, Kraków, małopolskie</td>\n",
       "      <td>1 150 000 €</td>\n",
       "      <td>228,70 m²</td>\n",
       "      <td>5 028,42 €/m²</td>\n",
       "      <td>4</td>\n",
       "      <td>5.0</td>\n",
       "      <td>5</td>\n",
       "      <td>1906</td>\n",
       "      <td>-</td>\n",
       "      <td>wtórny</td>\n",
       "      <td>NaN</td>\n",
       "    </tr>\n",
       "    <tr>\n",
       "      <th>2562</th>\n",
       "      <td>https://krakow.nieruchomosci-online.pl/mieszka...</td>\n",
       "      <td>Apartament Kraków</td>\n",
       "      <td>Kraków, małopolskie</td>\n",
       "      <td>138 000 €</td>\n",
       "      <td>65 m²</td>\n",
       "      <td>2 123,08 €/m²</td>\n",
       "      <td>21</td>\n",
       "      <td>45.0</td>\n",
       "      <td>2</td>\n",
       "      <td>2023</td>\n",
       "      <td>-</td>\n",
       "      <td>wtórny</td>\n",
       "      <td>NaN</td>\n",
       "    </tr>\n",
       "    <tr>\n",
       "      <th>2927</th>\n",
       "      <td>https://krakow.nieruchomosci-online.pl/mieszka...</td>\n",
       "      <td>Mieszkanie, Plac Juliusza Kossaka</td>\n",
       "      <td>Plac Juliusza Kossaka, Stare Miasto, Kraków, m...</td>\n",
       "      <td>700 000 €</td>\n",
       "      <td>152 m²</td>\n",
       "      <td>4 605,26 €/m²</td>\n",
       "      <td>1</td>\n",
       "      <td>4.0</td>\n",
       "      <td>4</td>\n",
       "      <td>1930</td>\n",
       "      <td>-</td>\n",
       "      <td>wtórny</td>\n",
       "      <td>NaN</td>\n",
       "    </tr>\n",
       "    <tr>\n",
       "      <th>2991</th>\n",
       "      <td>https://krakow.nieruchomosci-online.pl/mieszka...</td>\n",
       "      <td>Mieszkanie Kraków</td>\n",
       "      <td>marszałka JózefaPiłsudskiego, Wawel, Kraków, m...</td>\n",
       "      <td>1 150 000 €</td>\n",
       "      <td>232 m²</td>\n",
       "      <td>4 956,90 €/m²</td>\n",
       "      <td>4</td>\n",
       "      <td>5.0</td>\n",
       "      <td>9</td>\n",
       "      <td>1906</td>\n",
       "      <td>-</td>\n",
       "      <td>wtórny</td>\n",
       "      <td>NaN</td>\n",
       "    </tr>\n",
       "    <tr>\n",
       "      <th>3364</th>\n",
       "      <td>https://krakow.nieruchomosci-online.pl/mieszka...</td>\n",
       "      <td>Mieszkanie Stare Miasto, ul. Jana</td>\n",
       "      <td>Jana, Stare Miasto, Kraków, małopolskie</td>\n",
       "      <td>1 000 000 €</td>\n",
       "      <td>221,19 m²</td>\n",
       "      <td>4 521 €/m²</td>\n",
       "      <td>4</td>\n",
       "      <td>4.0</td>\n",
       "      <td>4</td>\n",
       "      <td>1850</td>\n",
       "      <td>-</td>\n",
       "      <td>wtórny</td>\n",
       "      <td>NaN</td>\n",
       "    </tr>\n",
       "    <tr>\n",
       "      <th>8480</th>\n",
       "      <td>https://krakow.nieruchomosci-online.pl/mieszka...</td>\n",
       "      <td>Mieszkanie, ul. Mazowiecka</td>\n",
       "      <td>Mazowiecka, Krowodrza, Kraków, małopolskie</td>\n",
       "      <td>370 000 €</td>\n",
       "      <td>84 m²</td>\n",
       "      <td>4 404,76 €/m²</td>\n",
       "      <td>5</td>\n",
       "      <td>6.0</td>\n",
       "      <td>3</td>\n",
       "      <td>1936</td>\n",
       "      <td>-</td>\n",
       "      <td>wtórny</td>\n",
       "      <td>NaN</td>\n",
       "    </tr>\n",
       "  </tbody>\n",
       "</table>\n",
       "</div>"
      ],
      "text/plain": [
       "                                                    url  \\\n",
       "153   https://krakow.nieruchomosci-online.pl/mieszka...   \n",
       "1120  https://krakow.nieruchomosci-online.pl/mieszka...   \n",
       "1151  https://krakow.nieruchomosci-online.pl/mieszka...   \n",
       "2096  https://krakow.nieruchomosci-online.pl/mieszka...   \n",
       "2241  https://krakow.nieruchomosci-online.pl/mieszka...   \n",
       "2562  https://krakow.nieruchomosci-online.pl/mieszka...   \n",
       "2927  https://krakow.nieruchomosci-online.pl/mieszka...   \n",
       "2991  https://krakow.nieruchomosci-online.pl/mieszka...   \n",
       "3364  https://krakow.nieruchomosci-online.pl/mieszka...   \n",
       "8480  https://krakow.nieruchomosci-online.pl/mieszka...   \n",
       "\n",
       "                             name/title  \\\n",
       "153        Mieszkanie, ul. Piłsudskiego   \n",
       "1120       Mieszkanie, ul. Piłsudskiego   \n",
       "1151       Mieszkanie, ul. Piłsudskiego   \n",
       "2096       Mieszkanie, ul. Piłsudskiego   \n",
       "2241       Mieszkanie, ul. Piłsudskiego   \n",
       "2562                  Apartament Kraków   \n",
       "2927  Mieszkanie, Plac Juliusza Kossaka   \n",
       "2991                  Mieszkanie Kraków   \n",
       "3364  Mieszkanie Stare Miasto, ul. Jana   \n",
       "8480         Mieszkanie, ul. Mazowiecka   \n",
       "\n",
       "                                                address        price  \\\n",
       "153     Piłsudskiego, Stare Miasto, Kraków, małopolskie  1 149 999 €   \n",
       "1120    Piłsudskiego, Stare Miasto, Kraków, małopolskie  1 149 999 €   \n",
       "1151    Piłsudskiego, Stare Miasto, Kraków, małopolskie  1 150 000 €   \n",
       "2096    Piłsudskiego, Stare Miasto, Kraków, małopolskie  1 150 000 €   \n",
       "2241      Piłsudskiego, Nowy Świat, Kraków, małopolskie  1 150 000 €   \n",
       "2562                                Kraków, małopolskie    138 000 €   \n",
       "2927  Plac Juliusza Kossaka, Stare Miasto, Kraków, m...    700 000 €   \n",
       "2991  marszałka JózefaPiłsudskiego, Wawel, Kraków, m...  1 150 000 €   \n",
       "3364            Jana, Stare Miasto, Kraków, małopolskie  1 000 000 €   \n",
       "8480         Mazowiecka, Krowodrza, Kraków, małopolskie    370 000 €   \n",
       "\n",
       "           area price-per-area floor/store  \\\n",
       "153   232,10 m²  4 954,76 €/m²           4   \n",
       "1120  232,10 m²  4 954,76 €/m²           4   \n",
       "1151  232,10 m²  4 954,76 €/m²           4   \n",
       "2096     228 m²  5 043,86 €/m²           4   \n",
       "2241  228,70 m²  5 028,42 €/m²           4   \n",
       "2562      65 m²  2 123,08 €/m²          21   \n",
       "2927     152 m²  4 605,26 €/m²           1   \n",
       "2991     232 m²  4 956,90 €/m²           4   \n",
       "3364  221,19 m²     4 521 €/m²           4   \n",
       "8480      84 m²  4 404,76 €/m²           5   \n",
       "\n",
       "      no of floors/stores in the building no of rooms year of construction  \\\n",
       "153                                   4.0           5                 1906   \n",
       "1120                                  4.0           5                 1908   \n",
       "1151                                  5.0           5                 1906   \n",
       "2096                                  5.0           5                 1906   \n",
       "2241                                  5.0           5                 1906   \n",
       "2562                                 45.0           2                 2023   \n",
       "2927                                  4.0           4                 1930   \n",
       "2991                                  5.0           9                 1906   \n",
       "3364                                  4.0           4                 1850   \n",
       "8480                                  6.0           3                 1936   \n",
       "\n",
       "                     parking space  market form of ownership  \n",
       "153    parking strzeżony w pobliżu  wtórny               NaN  \n",
       "1120                         garaż  wtórny               NaN  \n",
       "1151  parking publiczny / na ulicy  wtórny               NaN  \n",
       "2096  parking publiczny / na ulicy  wtórny          własność  \n",
       "2241                             -  wtórny               NaN  \n",
       "2562                             -  wtórny               NaN  \n",
       "2927                             -  wtórny               NaN  \n",
       "2991                             -  wtórny               NaN  \n",
       "3364                             -  wtórny               NaN  \n",
       "8480                             -  wtórny               NaN  "
      ]
     },
     "execution_count": 114,
     "metadata": {},
     "output_type": "execute_result"
    }
   ],
   "source": [
    "different_currency_price = pd.concat([df_nieruchomosci[~df_nieruchomosci['price'].str.contains('zł')].copy(), df_nieruchomosci[~df_nieruchomosci['price-per-area'].str.contains('zł')].copy()]).drop_duplicates()\n",
    "different_currency_price"
   ]
  },
  {
   "cell_type": "code",
   "execution_count": 115,
   "metadata": {
    "ExecuteTime": {
     "end_time": "2024-05-07T15:53:03.611871Z",
     "start_time": "2024-05-07T15:53:03.561872Z"
    }
   },
   "outputs": [],
   "source": [
    "# converting prices to numeric values\n",
    "df_nieruchomosci['price'] = df_nieruchomosci['price'].str.replace(' ', '').str.replace(',', '.').str.extract('(\\d+\\.\\d+|\\d+)').astype(float)\n",
    "\n",
    "df_nieruchomosci['price-per-area'] = df_nieruchomosci['price-per-area'].str.replace(' ', '').str.replace(',', '.').str.extract('(\\d+\\.\\d+|\\d+)').astype(float)"
   ]
  },
  {
   "cell_type": "code",
   "execution_count": 116,
   "metadata": {
    "ExecuteTime": {
     "end_time": "2024-05-07T15:53:04.058659Z",
     "start_time": "2024-05-07T15:53:04.050876Z"
    }
   },
   "outputs": [
    {
     "name": "stdout",
     "output_type": "stream",
     "text": [
      "          price  price-per-area\n",
      "153   1149999.0         4954.76\n",
      "1120  1149999.0         4954.76\n",
      "1151  1150000.0         4954.76\n",
      "2096  1150000.0         5043.86\n",
      "2241  1150000.0         5028.42\n",
      "2562   138000.0         2123.08\n",
      "2927   700000.0         4605.26\n",
      "2991  1150000.0         4956.90\n",
      "3364  1000000.0         4521.00\n",
      "8480   370000.0         4404.76\n"
     ]
    }
   ],
   "source": [
    "print(df_nieruchomosci.loc[different_currency_price.index, ['price', 'price-per-area']])"
   ]
  },
  {
   "cell_type": "code",
   "execution_count": 117,
   "metadata": {
    "ExecuteTime": {
     "end_time": "2024-05-07T15:53:04.620358Z",
     "start_time": "2024-05-07T15:53:04.613658Z"
    }
   },
   "outputs": [],
   "source": [
    "df_nieruchomosci.loc[different_currency_price.index, 'price'] *= euro_exchange_rate\n",
    "df_nieruchomosci.loc[different_currency_price.index, 'price-per-area'] *= euro_exchange_rate"
   ]
  },
  {
   "cell_type": "code",
   "execution_count": 118,
   "metadata": {
    "ExecuteTime": {
     "end_time": "2024-05-07T15:53:04.969408Z",
     "start_time": "2024-05-07T15:53:04.959354Z"
    }
   },
   "outputs": [
    {
     "data": {
      "text/html": [
       "<div>\n",
       "<style scoped>\n",
       "    .dataframe tbody tr th:only-of-type {\n",
       "        vertical-align: middle;\n",
       "    }\n",
       "\n",
       "    .dataframe tbody tr th {\n",
       "        vertical-align: top;\n",
       "    }\n",
       "\n",
       "    .dataframe thead th {\n",
       "        text-align: right;\n",
       "    }\n",
       "</style>\n",
       "<table border=\"1\" class=\"dataframe\">\n",
       "  <thead>\n",
       "    <tr style=\"text-align: right;\">\n",
       "      <th></th>\n",
       "      <th>price</th>\n",
       "      <th>price-per-area</th>\n",
       "    </tr>\n",
       "  </thead>\n",
       "  <tbody>\n",
       "    <tr>\n",
       "      <th>153</th>\n",
       "      <td>4.949767e+06</td>\n",
       "      <td>21326.025299</td>\n",
       "    </tr>\n",
       "    <tr>\n",
       "      <th>1120</th>\n",
       "      <td>4.949767e+06</td>\n",
       "      <td>21326.025299</td>\n",
       "    </tr>\n",
       "    <tr>\n",
       "      <th>1151</th>\n",
       "      <td>4.949771e+06</td>\n",
       "      <td>21326.025299</td>\n",
       "    </tr>\n",
       "    <tr>\n",
       "      <th>2096</th>\n",
       "      <td>4.949771e+06</td>\n",
       "      <td>21709.524975</td>\n",
       "    </tr>\n",
       "    <tr>\n",
       "      <th>2241</th>\n",
       "      <td>4.949771e+06</td>\n",
       "      <td>21643.068915</td>\n",
       "    </tr>\n",
       "    <tr>\n",
       "      <th>2562</th>\n",
       "      <td>5.939726e+05</td>\n",
       "      <td>9138.052659</td>\n",
       "    </tr>\n",
       "    <tr>\n",
       "      <th>2927</th>\n",
       "      <td>3.012904e+06</td>\n",
       "      <td>19821.725224</td>\n",
       "    </tr>\n",
       "    <tr>\n",
       "      <th>2991</th>\n",
       "      <td>4.949771e+06</td>\n",
       "      <td>21335.236178</td>\n",
       "    </tr>\n",
       "    <tr>\n",
       "      <th>3364</th>\n",
       "      <td>4.304149e+06</td>\n",
       "      <td>19459.057629</td>\n",
       "    </tr>\n",
       "    <tr>\n",
       "      <th>8480</th>\n",
       "      <td>1.592535e+06</td>\n",
       "      <td>18958.743349</td>\n",
       "    </tr>\n",
       "  </tbody>\n",
       "</table>\n",
       "</div>"
      ],
      "text/plain": [
       "             price  price-per-area\n",
       "153   4.949767e+06    21326.025299\n",
       "1120  4.949767e+06    21326.025299\n",
       "1151  4.949771e+06    21326.025299\n",
       "2096  4.949771e+06    21709.524975\n",
       "2241  4.949771e+06    21643.068915\n",
       "2562  5.939726e+05     9138.052659\n",
       "2927  3.012904e+06    19821.725224\n",
       "2991  4.949771e+06    21335.236178\n",
       "3364  4.304149e+06    19459.057629\n",
       "8480  1.592535e+06    18958.743349"
      ]
     },
     "execution_count": 118,
     "metadata": {},
     "output_type": "execute_result"
    }
   ],
   "source": [
    "df_nieruchomosci.loc[different_currency_price.index, ['price', 'price-per-area']]"
   ]
  },
  {
   "cell_type": "markdown",
   "metadata": {},
   "source": [
    "### Removing Rows with Shifted Data in Columns"
   ]
  },
  {
   "cell_type": "code",
   "execution_count": 119,
   "metadata": {
    "ExecuteTime": {
     "end_time": "2024-05-07T15:53:05.723910Z",
     "start_time": "2024-05-07T15:53:05.706393Z"
    }
   },
   "outputs": [
    {
     "name": "stdout",
     "output_type": "stream",
     "text": [
      "18\n"
     ]
    }
   ],
   "source": [
    "print(df_nieruchomosci['no of rooms'].str.contains('-', na=False).sum())\n",
    "df_nieruchomosci.drop(df_nieruchomosci[df_nieruchomosci['no of rooms'].str.contains('-', na=False)].index, inplace=True)"
   ]
  },
  {
   "cell_type": "code",
   "execution_count": 120,
   "metadata": {
    "ExecuteTime": {
     "end_time": "2024-05-07T15:53:05.942497Z",
     "start_time": "2024-05-07T15:53:05.924424Z"
    }
   },
   "outputs": [
    {
     "name": "stdout",
     "output_type": "stream",
     "text": [
      "67\n"
     ]
    }
   ],
   "source": [
    "print(df_nieruchomosci['no of rooms'].str.contains(r'\\D', na=False).sum())\n",
    "df_nieruchomosci.drop(df_nieruchomosci[df_nieruchomosci['no of rooms'].str.contains(r'\\D', na=False)].index, inplace=True)"
   ]
  },
  {
   "cell_type": "markdown",
   "metadata": {},
   "source": [
    "### Number of Rooms and Floors"
   ]
  },
  {
   "cell_type": "markdown",
   "metadata": {},
   "source": [
    "#### Conversion of Column Values to Numeric Types"
   ]
  },
  {
   "cell_type": "code",
   "execution_count": 121,
   "metadata": {
    "ExecuteTime": {
     "end_time": "2024-05-07T15:53:06.539767Z",
     "start_time": "2024-05-07T15:53:06.534350Z"
    }
   },
   "outputs": [],
   "source": [
    "df_nieruchomosci['no of rooms'] = df_nieruchomosci['no of rooms'].astype(int)"
   ]
  },
  {
   "cell_type": "code",
   "execution_count": 122,
   "metadata": {
    "ExecuteTime": {
     "end_time": "2024-05-07T15:53:07.241076Z",
     "start_time": "2024-05-07T15:53:07.229766Z"
    }
   },
   "outputs": [],
   "source": [
    "df_nieruchomosci['area'] = df_nieruchomosci['area'].str.replace(' m²', '').str.replace(',', '.').astype(float)"
   ]
  },
  {
   "cell_type": "code",
   "execution_count": 123,
   "metadata": {
    "ExecuteTime": {
     "end_time": "2024-05-07T15:53:07.772836Z",
     "start_time": "2024-05-07T15:53:07.749125Z"
    }
   },
   "outputs": [
    {
     "data": {
      "text/html": [
       "<div>\n",
       "<style scoped>\n",
       "    .dataframe tbody tr th:only-of-type {\n",
       "        vertical-align: middle;\n",
       "    }\n",
       "\n",
       "    .dataframe tbody tr th {\n",
       "        vertical-align: top;\n",
       "    }\n",
       "\n",
       "    .dataframe thead th {\n",
       "        text-align: right;\n",
       "    }\n",
       "</style>\n",
       "<table border=\"1\" class=\"dataframe\">\n",
       "  <thead>\n",
       "    <tr style=\"text-align: right;\">\n",
       "      <th></th>\n",
       "      <th>url</th>\n",
       "      <th>name/title</th>\n",
       "      <th>address</th>\n",
       "      <th>price</th>\n",
       "      <th>area</th>\n",
       "      <th>price-per-area</th>\n",
       "      <th>floor/store</th>\n",
       "      <th>no of floors/stores in the building</th>\n",
       "      <th>no of rooms</th>\n",
       "      <th>year of construction</th>\n",
       "      <th>parking space</th>\n",
       "      <th>market</th>\n",
       "      <th>form of ownership</th>\n",
       "    </tr>\n",
       "  </thead>\n",
       "  <tbody>\n",
       "    <tr>\n",
       "      <th>4</th>\n",
       "      <td>https://krakow.nieruchomosci-online.pl/mieszka...</td>\n",
       "      <td>Mieszkanie, ul. Pustynna</td>\n",
       "      <td>Pustynna, Kliny, Kraków, małopolskie</td>\n",
       "      <td>1200000.0</td>\n",
       "      <td>71.06</td>\n",
       "      <td>16887.14</td>\n",
       "      <td>parter</td>\n",
       "      <td>1.0</td>\n",
       "      <td>3</td>\n",
       "      <td>2013</td>\n",
       "      <td>garaż w bryle budynku</td>\n",
       "      <td>wtórny</td>\n",
       "      <td>własność, księga wieczysta</td>\n",
       "    </tr>\n",
       "    <tr>\n",
       "      <th>5</th>\n",
       "      <td>https://krakow.nieruchomosci-online.pl/mieszka...</td>\n",
       "      <td>Apartament Kraków</td>\n",
       "      <td>Wola Justowska, Kraków, małopolskie</td>\n",
       "      <td>1198680.0</td>\n",
       "      <td>71.35</td>\n",
       "      <td>16800.00</td>\n",
       "      <td>parter</td>\n",
       "      <td>2.0</td>\n",
       "      <td>4</td>\n",
       "      <td>2023</td>\n",
       "      <td>garaż w bryle budynku</td>\n",
       "      <td>pierwotny (zobacz inne nowe mieszkania w Krako...</td>\n",
       "      <td>własność</td>\n",
       "    </tr>\n",
       "    <tr>\n",
       "      <th>9</th>\n",
       "      <td>https://krakow.nieruchomosci-online.pl/mieszka...</td>\n",
       "      <td>Apartament, ul. Szablowskiego</td>\n",
       "      <td>Szablowskiego, Bronowice, Kraków, małopolskie</td>\n",
       "      <td>599000.0</td>\n",
       "      <td>40.00</td>\n",
       "      <td>14975.00</td>\n",
       "      <td>parter</td>\n",
       "      <td>3.0</td>\n",
       "      <td>2</td>\n",
       "      <td>2001</td>\n",
       "      <td>tak</td>\n",
       "      <td>wtórny</td>\n",
       "      <td>własność, księga wieczysta</td>\n",
       "    </tr>\n",
       "    <tr>\n",
       "      <th>12</th>\n",
       "      <td>https://krakow.nieruchomosci-online.pl/mieszka...</td>\n",
       "      <td>Mieszkanie, ul. Ułanów</td>\n",
       "      <td>Ułanów, Prądnik Czerwony, Kraków, małopolskie</td>\n",
       "      <td>790000.0</td>\n",
       "      <td>58.00</td>\n",
       "      <td>13620.69</td>\n",
       "      <td>parter</td>\n",
       "      <td>10.0</td>\n",
       "      <td>3</td>\n",
       "      <td>1962</td>\n",
       "      <td>-</td>\n",
       "      <td>wtórny</td>\n",
       "      <td>własność, księga wieczysta</td>\n",
       "    </tr>\n",
       "    <tr>\n",
       "      <th>18</th>\n",
       "      <td>https://krakow.nieruchomosci-online.pl/mieszka...</td>\n",
       "      <td>Mieszkanie, ul. Obozowa</td>\n",
       "      <td>Obozowa, Ruczaj, Kraków, małopolskie</td>\n",
       "      <td>689900.0</td>\n",
       "      <td>51.94</td>\n",
       "      <td>13282.63</td>\n",
       "      <td>parter</td>\n",
       "      <td>7.0</td>\n",
       "      <td>2</td>\n",
       "      <td>2012</td>\n",
       "      <td>przynależne na ulicy</td>\n",
       "      <td>wtórny</td>\n",
       "      <td>własność, księga wieczysta</td>\n",
       "    </tr>\n",
       "    <tr>\n",
       "      <th>...</th>\n",
       "      <td>...</td>\n",
       "      <td>...</td>\n",
       "      <td>...</td>\n",
       "      <td>...</td>\n",
       "      <td>...</td>\n",
       "      <td>...</td>\n",
       "      <td>...</td>\n",
       "      <td>...</td>\n",
       "      <td>...</td>\n",
       "      <td>...</td>\n",
       "      <td>...</td>\n",
       "      <td>...</td>\n",
       "      <td>...</td>\n",
       "    </tr>\n",
       "    <tr>\n",
       "      <th>9637</th>\n",
       "      <td>https://krakow.nieruchomosci-online.pl/mieszka...</td>\n",
       "      <td>Mieszkanie, ul. Reja</td>\n",
       "      <td>Reja 9, Żabiniec, Kraków, małopolskie</td>\n",
       "      <td>1100000.0</td>\n",
       "      <td>73.00</td>\n",
       "      <td>15068.49</td>\n",
       "      <td>parter</td>\n",
       "      <td>6.0</td>\n",
       "      <td>3</td>\n",
       "      <td>2005</td>\n",
       "      <td>-</td>\n",
       "      <td>NaN</td>\n",
       "      <td>NaN</td>\n",
       "    </tr>\n",
       "    <tr>\n",
       "      <th>9640</th>\n",
       "      <td>https://krakow.nieruchomosci-online.pl/mieszka...</td>\n",
       "      <td>Apartament, ul. Kobierzyńska</td>\n",
       "      <td>Kobierzyńska, Dębniki, Kraków, małopolskie</td>\n",
       "      <td>899000.0</td>\n",
       "      <td>48.46</td>\n",
       "      <td>18551.38</td>\n",
       "      <td>parter</td>\n",
       "      <td>6.0</td>\n",
       "      <td>2</td>\n",
       "      <td>2022</td>\n",
       "      <td>tak</td>\n",
       "      <td>wtórny</td>\n",
       "      <td>NaN</td>\n",
       "    </tr>\n",
       "    <tr>\n",
       "      <th>9644</th>\n",
       "      <td>https://krakow.nieruchomosci-online.pl/mieszka...</td>\n",
       "      <td>Apartament, ul. Królowej Jadwigi</td>\n",
       "      <td>Królowej Jadwigi, Wola Justowska, Kraków, mało...</td>\n",
       "      <td>894000.0</td>\n",
       "      <td>51.97</td>\n",
       "      <td>17202.00</td>\n",
       "      <td>parter</td>\n",
       "      <td>1.0</td>\n",
       "      <td>3</td>\n",
       "      <td>2023</td>\n",
       "      <td>w garażu podziemnym</td>\n",
       "      <td>pierwotny (zobacz inne nowe mieszkania w Krako...</td>\n",
       "      <td>NaN</td>\n",
       "    </tr>\n",
       "    <tr>\n",
       "      <th>9646</th>\n",
       "      <td>https://krakow.nieruchomosci-online.pl/mieszka...</td>\n",
       "      <td>Mieszkanie, ul. Ułanów</td>\n",
       "      <td>Ułanów, Prądnik Czerwony, Kraków, małopolskie</td>\n",
       "      <td>790000.0</td>\n",
       "      <td>58.00</td>\n",
       "      <td>13620.69</td>\n",
       "      <td>parter</td>\n",
       "      <td>10.0</td>\n",
       "      <td>3</td>\n",
       "      <td>1962</td>\n",
       "      <td>-</td>\n",
       "      <td>wtórny</td>\n",
       "      <td>NaN</td>\n",
       "    </tr>\n",
       "    <tr>\n",
       "      <th>9658</th>\n",
       "      <td>https://krakow.nieruchomosci-online.pl/mieszka...</td>\n",
       "      <td>Mieszkanie, ul. Prandoty</td>\n",
       "      <td>Prandoty, Stare Miasto, Kraków, małopolskie</td>\n",
       "      <td>646875.0</td>\n",
       "      <td>34.50</td>\n",
       "      <td>18750.00</td>\n",
       "      <td>parter</td>\n",
       "      <td>6.0</td>\n",
       "      <td>1</td>\n",
       "      <td>2024</td>\n",
       "      <td>garaż wolnostojący</td>\n",
       "      <td>pierwotny (zobacz inne nowe mieszkania w Krako...</td>\n",
       "      <td>własność</td>\n",
       "    </tr>\n",
       "  </tbody>\n",
       "</table>\n",
       "<p>1769 rows × 13 columns</p>\n",
       "</div>"
      ],
      "text/plain": [
       "                                                    url  \\\n",
       "4     https://krakow.nieruchomosci-online.pl/mieszka...   \n",
       "5     https://krakow.nieruchomosci-online.pl/mieszka...   \n",
       "9     https://krakow.nieruchomosci-online.pl/mieszka...   \n",
       "12    https://krakow.nieruchomosci-online.pl/mieszka...   \n",
       "18    https://krakow.nieruchomosci-online.pl/mieszka...   \n",
       "...                                                 ...   \n",
       "9637  https://krakow.nieruchomosci-online.pl/mieszka...   \n",
       "9640  https://krakow.nieruchomosci-online.pl/mieszka...   \n",
       "9644  https://krakow.nieruchomosci-online.pl/mieszka...   \n",
       "9646  https://krakow.nieruchomosci-online.pl/mieszka...   \n",
       "9658  https://krakow.nieruchomosci-online.pl/mieszka...   \n",
       "\n",
       "                            name/title  \\\n",
       "4             Mieszkanie, ul. Pustynna   \n",
       "5                    Apartament Kraków   \n",
       "9        Apartament, ul. Szablowskiego   \n",
       "12              Mieszkanie, ul. Ułanów   \n",
       "18             Mieszkanie, ul. Obozowa   \n",
       "...                                ...   \n",
       "9637              Mieszkanie, ul. Reja   \n",
       "9640      Apartament, ul. Kobierzyńska   \n",
       "9644  Apartament, ul. Królowej Jadwigi   \n",
       "9646            Mieszkanie, ul. Ułanów   \n",
       "9658          Mieszkanie, ul. Prandoty   \n",
       "\n",
       "                                                address      price   area  \\\n",
       "4                  Pustynna, Kliny, Kraków, małopolskie  1200000.0  71.06   \n",
       "5                   Wola Justowska, Kraków, małopolskie  1198680.0  71.35   \n",
       "9         Szablowskiego, Bronowice, Kraków, małopolskie   599000.0  40.00   \n",
       "12        Ułanów, Prądnik Czerwony, Kraków, małopolskie   790000.0  58.00   \n",
       "18                 Obozowa, Ruczaj, Kraków, małopolskie   689900.0  51.94   \n",
       "...                                                 ...        ...    ...   \n",
       "9637              Reja 9, Żabiniec, Kraków, małopolskie  1100000.0  73.00   \n",
       "9640         Kobierzyńska, Dębniki, Kraków, małopolskie   899000.0  48.46   \n",
       "9644  Królowej Jadwigi, Wola Justowska, Kraków, mało...   894000.0  51.97   \n",
       "9646      Ułanów, Prądnik Czerwony, Kraków, małopolskie   790000.0  58.00   \n",
       "9658        Prandoty, Stare Miasto, Kraków, małopolskie   646875.0  34.50   \n",
       "\n",
       "      price-per-area floor/store  no of floors/stores in the building  \\\n",
       "4           16887.14      parter                                  1.0   \n",
       "5           16800.00      parter                                  2.0   \n",
       "9           14975.00      parter                                  3.0   \n",
       "12          13620.69      parter                                 10.0   \n",
       "18          13282.63      parter                                  7.0   \n",
       "...              ...         ...                                  ...   \n",
       "9637        15068.49      parter                                  6.0   \n",
       "9640        18551.38      parter                                  6.0   \n",
       "9644        17202.00      parter                                  1.0   \n",
       "9646        13620.69      parter                                 10.0   \n",
       "9658        18750.00      parter                                  6.0   \n",
       "\n",
       "      no of rooms year of construction          parking space  \\\n",
       "4               3                 2013  garaż w bryle budynku   \n",
       "5               4                 2023  garaż w bryle budynku   \n",
       "9               2                 2001                    tak   \n",
       "12              3                 1962                      -   \n",
       "18              2                 2012   przynależne na ulicy   \n",
       "...           ...                  ...                    ...   \n",
       "9637            3                 2005                      -   \n",
       "9640            2                 2022                    tak   \n",
       "9644            3                 2023    w garażu podziemnym   \n",
       "9646            3                 1962                      -   \n",
       "9658            1                 2024     garaż wolnostojący   \n",
       "\n",
       "                                                 market  \\\n",
       "4                                                wtórny   \n",
       "5     pierwotny (zobacz inne nowe mieszkania w Krako...   \n",
       "9                                                wtórny   \n",
       "12                                               wtórny   \n",
       "18                                               wtórny   \n",
       "...                                                 ...   \n",
       "9637                                                NaN   \n",
       "9640                                             wtórny   \n",
       "9644  pierwotny (zobacz inne nowe mieszkania w Krako...   \n",
       "9646                                             wtórny   \n",
       "9658  pierwotny (zobacz inne nowe mieszkania w Krako...   \n",
       "\n",
       "               form of ownership  \n",
       "4     własność, księga wieczysta  \n",
       "5                       własność  \n",
       "9     własność, księga wieczysta  \n",
       "12    własność, księga wieczysta  \n",
       "18    własność, księga wieczysta  \n",
       "...                          ...  \n",
       "9637                         NaN  \n",
       "9640                         NaN  \n",
       "9644                         NaN  \n",
       "9646                         NaN  \n",
       "9658                    własność  \n",
       "\n",
       "[1769 rows x 13 columns]"
      ]
     },
     "execution_count": 123,
     "metadata": {},
     "output_type": "execute_result"
    }
   ],
   "source": [
    "df_nieruchomosci[df_nieruchomosci['floor/store'].str.contains('parter')]"
   ]
  },
  {
   "cell_type": "code",
   "execution_count": 124,
   "metadata": {
    "ExecuteTime": {
     "end_time": "2024-05-07T15:53:08.197518Z",
     "start_time": "2024-05-07T15:53:08.189834Z"
    }
   },
   "outputs": [],
   "source": [
    "# Converting \"parter\" values to 0 in the \"floor/store\" column\n",
    "df_nieruchomosci['floor/store'] = df_nieruchomosci['floor/store'].replace('parter', '0')"
   ]
  },
  {
   "cell_type": "code",
   "execution_count": 125,
   "metadata": {
    "ExecuteTime": {
     "end_time": "2024-05-07T15:53:08.497095Z",
     "start_time": "2024-05-07T15:53:08.491034Z"
    }
   },
   "outputs": [],
   "source": [
    "# Converting \"suterena\" values to -1 in the \"floor/store\" column\n",
    "df_nieruchomosci['floor/store'] = df_nieruchomosci['floor/store'].replace('suterena', '-1')"
   ]
  },
  {
   "cell_type": "code",
   "execution_count": 126,
   "metadata": {
    "ExecuteTime": {
     "end_time": "2024-05-07T15:53:08.980187Z",
     "start_time": "2024-05-07T15:53:08.961233Z"
    }
   },
   "outputs": [
    {
     "name": "stdout",
     "output_type": "stream",
     "text": [
      "108\n"
     ]
    }
   ],
   "source": [
    "# removing rows that contain non-numeric data in the 'floor/store' column\n",
    "print(df_nieruchomosci[~df_nieruchomosci['floor/store'].str.contains(r'\\d', na=False)].shape[0])\n",
    "df_nieruchomosci.drop(df_nieruchomosci[~df_nieruchomosci['floor/store'].str.contains(r'\\d')].index, inplace=True)"
   ]
  },
  {
   "cell_type": "code",
   "execution_count": 127,
   "metadata": {
    "ExecuteTime": {
     "end_time": "2024-05-07T15:53:09.463894Z",
     "start_time": "2024-05-07T15:53:09.445161Z"
    }
   },
   "outputs": [
    {
     "name": "stdout",
     "output_type": "stream",
     "text": [
      "147\n"
     ]
    }
   ],
   "source": [
    "# shifted data\n",
    "print(df_nieruchomosci[df_nieruchomosci['floor/store'].str.contains(r'[a-zA-Z]')].shape[0])\n",
    "df_nieruchomosci.drop(df_nieruchomosci[df_nieruchomosci['floor/store'].str.contains(r'[a-zA-Z]')].index, inplace=True)"
   ]
  },
  {
   "cell_type": "code",
   "execution_count": 128,
   "metadata": {
    "ExecuteTime": {
     "end_time": "2024-05-07T15:53:10.061394Z",
     "start_time": "2024-05-07T15:53:10.056410Z"
    }
   },
   "outputs": [],
   "source": [
    "df_nieruchomosci['floor/store'] = df_nieruchomosci['floor/store'].astype(int)"
   ]
  },
  {
   "cell_type": "code",
   "execution_count": 129,
   "metadata": {
    "ExecuteTime": {
     "end_time": "2024-05-07T15:53:10.359845Z",
     "start_time": "2024-05-07T15:53:10.350394Z"
    }
   },
   "outputs": [
    {
     "name": "stdout",
     "output_type": "stream",
     "text": [
      "185\n"
     ]
    }
   ],
   "source": [
    "print(df_nieruchomosci[df_nieruchomosci['no of floors/stores in the building'].isna()].shape[0])\n",
    "df_nieruchomosci.dropna(subset=['no of floors/stores in the building'], inplace=True)\n",
    "df_nieruchomosci['no of floors/stores in the building'] = df_nieruchomosci['no of floors/stores in the building'].astype(int)"
   ]
  },
  {
   "cell_type": "code",
   "execution_count": 130,
   "metadata": {
    "ExecuteTime": {
     "end_time": "2024-05-07T15:53:10.819467Z",
     "start_time": "2024-05-07T15:53:10.809979Z"
    }
   },
   "outputs": [
    {
     "name": "stdout",
     "output_type": "stream",
     "text": [
      "1\n"
     ]
    }
   ],
   "source": [
    "# According to Wikipedia, the tallest residential building in Krk has 19 floors\n",
    "# https://pl.wikipedia.org/wiki/Lista_najwyższych_budynków_w_Krakowie\n",
    "print(df_nieruchomosci[df_nieruchomosci['no of floors/stores in the building'] > 19].shape[0])\n",
    "df_nieruchomosci.drop(df_nieruchomosci[df_nieruchomosci['no of floors/stores in the building'] > 19].index, inplace=True)"
   ]
  },
  {
   "cell_type": "code",
   "execution_count": 131,
   "metadata": {
    "ExecuteTime": {
     "end_time": "2024-05-07T15:53:11.101484Z",
     "start_time": "2024-05-07T15:53:11.089790Z"
    }
   },
   "outputs": [],
   "source": [
    "# removing attics, service premises, entire floors, and errors\n",
    "df_nieruchomosci.drop(df_nieruchomosci[(df_nieruchomosci['area'] > 200) & (df_nieruchomosci['price-per-area'] < 11000)].index, inplace=True)"
   ]
  },
  {
   "cell_type": "markdown",
   "metadata": {},
   "source": [
    "### Year of Construction"
   ]
  },
  {
   "cell_type": "code",
   "execution_count": 132,
   "metadata": {
    "ExecuteTime": {
     "end_time": "2024-05-07T15:53:11.561319Z",
     "start_time": "2024-05-07T15:53:11.539495Z"
    }
   },
   "outputs": [
    {
     "data": {
      "text/html": [
       "<div>\n",
       "<style scoped>\n",
       "    .dataframe tbody tr th:only-of-type {\n",
       "        vertical-align: middle;\n",
       "    }\n",
       "\n",
       "    .dataframe tbody tr th {\n",
       "        vertical-align: top;\n",
       "    }\n",
       "\n",
       "    .dataframe thead th {\n",
       "        text-align: right;\n",
       "    }\n",
       "</style>\n",
       "<table border=\"1\" class=\"dataframe\">\n",
       "  <thead>\n",
       "    <tr style=\"text-align: right;\">\n",
       "      <th></th>\n",
       "      <th>url</th>\n",
       "      <th>name/title</th>\n",
       "      <th>address</th>\n",
       "      <th>price</th>\n",
       "      <th>area</th>\n",
       "      <th>price-per-area</th>\n",
       "      <th>floor/store</th>\n",
       "      <th>no of floors/stores in the building</th>\n",
       "      <th>no of rooms</th>\n",
       "      <th>year of construction</th>\n",
       "      <th>parking space</th>\n",
       "      <th>market</th>\n",
       "      <th>form of ownership</th>\n",
       "    </tr>\n",
       "  </thead>\n",
       "  <tbody>\n",
       "    <tr>\n",
       "      <th>7393</th>\n",
       "      <td>https://krakow.nieruchomosci-online.pl/mieszka...</td>\n",
       "      <td>Mieszkanie, ul. Banacha</td>\n",
       "      <td>Banacha, Prądnik Biały, Kraków, małopolskie</td>\n",
       "      <td>759000.0</td>\n",
       "      <td>49.47</td>\n",
       "      <td>15342.63</td>\n",
       "      <td>6</td>\n",
       "      <td>8</td>\n",
       "      <td>3</td>\n",
       "      <td>2924.0</td>\n",
       "      <td>tak</td>\n",
       "      <td>pierwotny (zobacz inne nowe mieszkania w Krako...</td>\n",
       "      <td>własność</td>\n",
       "    </tr>\n",
       "    <tr>\n",
       "      <th>2100</th>\n",
       "      <td>https://krakow.nieruchomosci-online.pl/mieszka...</td>\n",
       "      <td>Mieszkanie, ul. Magnolii</td>\n",
       "      <td>Magnolii, Ruczaj, Kraków, małopolskie</td>\n",
       "      <td>790300.0</td>\n",
       "      <td>56.45</td>\n",
       "      <td>14000.00</td>\n",
       "      <td>3</td>\n",
       "      <td>3</td>\n",
       "      <td>3</td>\n",
       "      <td>1024.0</td>\n",
       "      <td>garaż</td>\n",
       "      <td>pierwotny (zobacz inne nowe mieszkania w Krako...</td>\n",
       "      <td>NaN</td>\n",
       "    </tr>\n",
       "  </tbody>\n",
       "</table>\n",
       "</div>"
      ],
      "text/plain": [
       "                                                    url  \\\n",
       "7393  https://krakow.nieruchomosci-online.pl/mieszka...   \n",
       "2100  https://krakow.nieruchomosci-online.pl/mieszka...   \n",
       "\n",
       "                    name/title                                      address  \\\n",
       "7393   Mieszkanie, ul. Banacha  Banacha, Prądnik Biały, Kraków, małopolskie   \n",
       "2100  Mieszkanie, ul. Magnolii        Magnolii, Ruczaj, Kraków, małopolskie   \n",
       "\n",
       "         price   area  price-per-area  floor/store  \\\n",
       "7393  759000.0  49.47        15342.63            6   \n",
       "2100  790300.0  56.45        14000.00            3   \n",
       "\n",
       "      no of floors/stores in the building  no of rooms  year of construction  \\\n",
       "7393                                    8            3                2924.0   \n",
       "2100                                    3            3                1024.0   \n",
       "\n",
       "     parking space                                             market  \\\n",
       "7393           tak  pierwotny (zobacz inne nowe mieszkania w Krako...   \n",
       "2100         garaż  pierwotny (zobacz inne nowe mieszkania w Krako...   \n",
       "\n",
       "     form of ownership  \n",
       "7393          własność  \n",
       "2100               NaN  "
      ]
     },
     "execution_count": 132,
     "metadata": {},
     "output_type": "execute_result"
    }
   ],
   "source": [
    "df_nieruchomosci['year of construction'] = pd.to_numeric(df_nieruchomosci['year of construction'], errors='coerce')\n",
    "\n",
    "missing_below_1200 = df_nieruchomosci[df_nieruchomosci['year of construction'] < 1250]\n",
    "missing_above_2026 = df_nieruchomosci[df_nieruchomosci['year of construction'] > 2026]\n",
    "pd.concat([missing_above_2026, missing_below_1200])"
   ]
  },
  {
   "cell_type": "code",
   "execution_count": 133,
   "metadata": {
    "ExecuteTime": {
     "end_time": "2024-05-07T15:53:11.861240Z",
     "start_time": "2024-05-07T15:53:11.856302Z"
    }
   },
   "outputs": [],
   "source": [
    "# Correcting \"z placa\" (with plaza)\n",
    "df_nieruchomosci['year of construction'] = df_nieruchomosci['year of construction'].replace(2924.0, 2024)\n",
    "df_nieruchomosci['year of construction'] = df_nieruchomosci['year of construction'].replace(1024.0, 2024)"
   ]
  },
  {
   "cell_type": "code",
   "execution_count": 134,
   "metadata": {
    "ExecuteTime": {
     "end_time": "2024-05-07T15:53:12.320542Z",
     "start_time": "2024-05-07T15:53:12.313019Z"
    }
   },
   "outputs": [
    {
     "data": {
      "text/plain": [
       "year of construction\n",
       "2024.0    1557\n",
       "2023.0    1511\n",
       "NaN        787\n",
       "2025.0     702\n",
       "2022.0     399\n",
       "          ... \n",
       "1878.0       1\n",
       "1921.0       1\n",
       "1946.0       1\n",
       "1350.0       1\n",
       "1845.0       1\n",
       "Name: count, Length: 153, dtype: int64"
      ]
     },
     "execution_count": 134,
     "metadata": {},
     "output_type": "execute_result"
    }
   ],
   "source": [
    "df_nieruchomosci['year of construction'].value_counts(dropna=False)"
   ]
  },
  {
   "cell_type": "markdown",
   "metadata": {},
   "source": [
    "### Parking"
   ]
  },
  {
   "cell_type": "code",
   "execution_count": 135,
   "metadata": {
    "ExecuteTime": {
     "end_time": "2024-05-07T15:53:12.823280Z",
     "start_time": "2024-05-07T15:53:12.816539Z"
    }
   },
   "outputs": [],
   "source": [
    "df_nieruchomosci['parking space'] = df_nieruchomosci['parking space'].replace('-', 'parking publiczny / na ulicy')"
   ]
  },
  {
   "cell_type": "code",
   "execution_count": 136,
   "metadata": {
    "ExecuteTime": {
     "end_time": "2024-05-07T15:53:13.389805Z",
     "start_time": "2024-05-07T15:53:13.384038Z"
    }
   },
   "outputs": [
    {
     "data": {
      "text/plain": [
       "array(['tak', 'w garażu podziemnym', 'parking publiczny / na ulicy',\n",
       "       'garaż w bryle budynku', 'garaż', 'przynależne na ulicy',\n",
       "       'przynależne na terenie ogrodzonym', 'możliwość wykupienia',\n",
       "       'garaż wolnostojący', 'parking strzeżony w pobliżu',\n",
       "       'wiata garażowa'], dtype=object)"
      ]
     },
     "execution_count": 136,
     "metadata": {},
     "output_type": "execute_result"
    }
   ],
   "source": [
    "df_nieruchomosci['parking space'].unique()"
   ]
  },
  {
   "cell_type": "code",
   "execution_count": 137,
   "metadata": {
    "ExecuteTime": {
     "end_time": "2024-05-07T15:53:13.702174Z",
     "start_time": "2024-05-07T15:53:13.694799Z"
    }
   },
   "outputs": [
    {
     "data": {
      "text/plain": [
       "parking space\n",
       "parking publiczny / na ulicy         3474\n",
       "w garażu podziemnym                  1602\n",
       "tak                                  1124\n",
       "garaż                                 855\n",
       "przynależne na ulicy                  657\n",
       "garaż wolnostojący                    470\n",
       "przynależne na terenie ogrodzonym     243\n",
       "garaż w bryle budynku                 218\n",
       "parking strzeżony w pobliżu           194\n",
       "możliwość wykupienia                  138\n",
       "wiata garażowa                         27\n",
       "Name: count, dtype: int64"
      ]
     },
     "execution_count": 137,
     "metadata": {},
     "output_type": "execute_result"
    }
   ],
   "source": [
    "df_nieruchomosci['parking space'].value_counts(dropna=False)"
   ]
  },
  {
   "cell_type": "code",
   "execution_count": 138,
   "metadata": {
    "ExecuteTime": {
     "end_time": "2024-05-07T15:53:14.125879Z",
     "start_time": "2024-05-07T15:53:14.117880Z"
    }
   },
   "outputs": [],
   "source": [
    "# Copying data to a new column (might be useful for some model) and converting to boolean for consistency with Otodom\n",
    "df_nieruchomosci['parking space details'] = df_nieruchomosci['parking space']\n",
    "false_values = ['parking publiczny / na ulicy', 'możliwość wykupienia', 'parking strzeżony w pobliżu']\n",
    "df_nieruchomosci['parking space'] = ~df_nieruchomosci['parking space'].isin(false_values)"
   ]
  },
  {
   "cell_type": "markdown",
   "metadata": {},
   "source": [
    "### Market"
   ]
  },
  {
   "cell_type": "code",
   "execution_count": 139,
   "metadata": {
    "ExecuteTime": {
     "end_time": "2024-05-07T15:53:14.548869Z",
     "start_time": "2024-05-07T15:53:14.539880Z"
    }
   },
   "outputs": [],
   "source": [
    "valid_values = ['wtórny', 'pierwotny (zobacz inne nowe mieszkania w Krakowie)']\n",
    "\n",
    "shifted_rows = ~df_nieruchomosci['market'].isin(valid_values) & df_nieruchomosci['market'].notna()\n",
    "\n",
    "df_nieruchomosci.drop(df_nieruchomosci[shifted_rows].index, inplace=True)"
   ]
  },
  {
   "cell_type": "code",
   "execution_count": 140,
   "metadata": {
    "ExecuteTime": {
     "end_time": "2024-05-07T15:53:15.042723Z",
     "start_time": "2024-05-07T15:53:15.030108Z"
    }
   },
   "outputs": [
    {
     "name": "stdout",
     "output_type": "stream",
     "text": [
      "37\n"
     ]
    }
   ],
   "source": [
    "df_nieruchomosci.loc[(df_nieruchomosci['market'].isna()) & (df_nieruchomosci['year of construction'] > 2022), 'market'] = 'pierwotny'\n",
    "df_nieruchomosci.loc[(df_nieruchomosci['market'].isna()) & (df_nieruchomosci['year of construction'] < 2023), 'market'] = 'wtórny'\n",
    "print(df_nieruchomosci['market'].isna().sum())\n",
    "df_nieruchomosci.dropna(subset=['market'], inplace=True)"
   ]
  },
  {
   "cell_type": "code",
   "execution_count": 141,
   "metadata": {
    "ExecuteTime": {
     "end_time": "2024-05-07T15:53:15.314729Z",
     "start_time": "2024-05-07T15:53:15.309211Z"
    }
   },
   "outputs": [],
   "source": [
    "df_nieruchomosci['market'] = df_nieruchomosci['market'].replace('pierwotny (zobacz inne nowe mieszkania w Krakowie)', 'pierwotny')"
   ]
  },
  {
   "cell_type": "markdown",
   "metadata": {},
   "source": [
    "### Ownership Type"
   ]
  },
  {
   "cell_type": "code",
   "execution_count": 142,
   "metadata": {
    "ExecuteTime": {
     "end_time": "2024-05-07T15:53:15.705971Z",
     "start_time": "2024-05-07T15:53:15.698968Z"
    }
   },
   "outputs": [],
   "source": [
    "# According to the law in effect since 2007, it is not possible to establish cooperative ownership rights to a property\n",
    "df_nieruchomosci.loc[(df_nieruchomosci['form of ownership'].isna()) & (df_nieruchomosci['year of construction'] > 2006), 'form of ownership'] = 'własność'"
   ]
  },
  {
   "cell_type": "code",
   "execution_count": 143,
   "metadata": {
    "ExecuteTime": {
     "end_time": "2024-05-07T15:53:15.999423Z",
     "start_time": "2024-05-07T15:53:15.978968Z"
    }
   },
   "outputs": [],
   "source": [
    "ownership_mapping = {\n",
    "    'własność': 'pełna własność',\n",
    "    'własność, księga wieczysta': 'pełna własność',\n",
    "    'spółdzielcze własnościowe, księga wieczysta': 'spółdzielcze wł. prawo do lokalu',\n",
    "    'spółdzielcze własnościowe': 'spółdzielcze wł. prawo do lokalu',\n",
    "    'udział w KW': 'udział',\n",
    "    'udział ze wskazaniem, KW na budynku': 'udział',\n",
    "    'księga wieczysta': 'pełna własność',\n",
    "    'inna': 'użytkowanie wieczyste / dzierżawa',\n",
    "    'udział': 'udział',\n",
    "    'inna, księga wieczysta': 'użytkowanie wieczyste / dzierżawa',\n",
    "    'Udział ze wskazaniem': 'udział',\n",
    "    'Udział': 'udział',\n",
    "    'udział, księga wieczysta': 'udział',\n",
    "    'udział ze wskazaniem': 'udział',\n",
    "    'Chce dopłacić': np.nan,\n",
    "    'tak': np.nan,\n",
    "    'udziały, księga wieczysta': 'udział',\n",
    "    'Oczekuje dopłaty': np.nan,\n",
    "    'KW budynek, udział ze wskazaniem': 'udział',\n",
    "    'Spółdzielcza wł. z KW': 'spółdzielcze wł. prawo do lokalu'\n",
    "}\n",
    "\n",
    "df_nieruchomosci['form of ownership'] = df_nieruchomosci['form of ownership'].replace(ownership_mapping)"
   ]
  },
  {
   "cell_type": "code",
   "execution_count": 144,
   "metadata": {
    "ExecuteTime": {
     "end_time": "2024-05-07T15:53:16.443988Z",
     "start_time": "2024-05-07T15:53:16.436575Z"
    }
   },
   "outputs": [
    {
     "data": {
      "text/plain": [
       "form of ownership\n",
       "pełna własność                       7020\n",
       "NaN                                  1661\n",
       "spółdzielcze wł. prawo do lokalu      228\n",
       "użytkowanie wieczyste / dzierżawa      34\n",
       "udział                                 13\n",
       "Name: count, dtype: int64"
      ]
     },
     "execution_count": 144,
     "metadata": {},
     "output_type": "execute_result"
    }
   ],
   "source": [
    "df_nieruchomosci['form of ownership'].value_counts(dropna=False)"
   ]
  },
  {
   "cell_type": "code",
   "execution_count": 145,
   "metadata": {
    "ExecuteTime": {
     "end_time": "2024-05-07T15:53:16.715524Z",
     "start_time": "2024-05-07T15:53:16.706519Z"
    }
   },
   "outputs": [
    {
     "data": {
      "text/plain": [
       "7124"
      ]
     },
     "execution_count": 145,
     "metadata": {},
     "output_type": "execute_result"
    }
   ],
   "source": [
    "nan_row_count = df_nieruchomosci.isna().any(axis=1).sum()\n",
    "df_nieruchomosci.shape[0] - nan_row_count"
   ]
  },
  {
   "cell_type": "code",
   "execution_count": 146,
   "metadata": {
    "ExecuteTime": {
     "end_time": "2024-05-07T15:53:17.134108Z",
     "start_time": "2024-05-07T15:53:17.120555Z"
    }
   },
   "outputs": [
    {
     "name": "stdout",
     "output_type": "stream",
     "text": [
      "<class 'pandas.core.frame.DataFrame'>\n",
      "Index: 8956 entries, 0 to 9658\n",
      "Data columns (total 14 columns):\n",
      " #   Column                               Non-Null Count  Dtype  \n",
      "---  ------                               --------------  -----  \n",
      " 0   url                                  8956 non-null   object \n",
      " 1   name/title                           8956 non-null   object \n",
      " 2   address                              8956 non-null   object \n",
      " 3   price                                8956 non-null   float64\n",
      " 4   area                                 8956 non-null   float64\n",
      " 5   price-per-area                       8956 non-null   float64\n",
      " 6   floor/store                          8956 non-null   int32  \n",
      " 7   no of floors/stores in the building  8956 non-null   int32  \n",
      " 8   no of rooms                          8956 non-null   int32  \n",
      " 9   year of construction                 8208 non-null   float64\n",
      " 10  parking space                        8956 non-null   bool   \n",
      " 11  market                               8956 non-null   object \n",
      " 12  form of ownership                    7295 non-null   object \n",
      " 13  parking space details                8956 non-null   object \n",
      "dtypes: bool(1), float64(4), int32(3), object(6)\n",
      "memory usage: 883.4+ KB\n"
     ]
    }
   ],
   "source": [
    "df_nieruchomosci.info()"
   ]
  },
  {
   "cell_type": "code",
   "execution_count": 147,
   "metadata": {
    "ExecuteTime": {
     "end_time": "2024-05-07T15:53:17.444154Z",
     "start_time": "2024-05-07T15:53:17.416618Z"
    }
   },
   "outputs": [
    {
     "data": {
      "text/html": [
       "<div>\n",
       "<style scoped>\n",
       "    .dataframe tbody tr th:only-of-type {\n",
       "        vertical-align: middle;\n",
       "    }\n",
       "\n",
       "    .dataframe tbody tr th {\n",
       "        vertical-align: top;\n",
       "    }\n",
       "\n",
       "    .dataframe thead th {\n",
       "        text-align: right;\n",
       "    }\n",
       "</style>\n",
       "<table border=\"1\" class=\"dataframe\">\n",
       "  <thead>\n",
       "    <tr style=\"text-align: right;\">\n",
       "      <th></th>\n",
       "      <th>price</th>\n",
       "      <th>area</th>\n",
       "      <th>price-per-area</th>\n",
       "      <th>floor/store</th>\n",
       "      <th>no of floors/stores in the building</th>\n",
       "      <th>no of rooms</th>\n",
       "      <th>year of construction</th>\n",
       "    </tr>\n",
       "  </thead>\n",
       "  <tbody>\n",
       "    <tr>\n",
       "      <th>count</th>\n",
       "      <td>8.956000e+03</td>\n",
       "      <td>8956.000000</td>\n",
       "      <td>8956.000000</td>\n",
       "      <td>8956.000000</td>\n",
       "      <td>8956.000000</td>\n",
       "      <td>8956.000000</td>\n",
       "      <td>8208.000000</td>\n",
       "    </tr>\n",
       "    <tr>\n",
       "      <th>mean</th>\n",
       "      <td>9.738496e+05</td>\n",
       "      <td>58.190536</td>\n",
       "      <td>16862.503587</td>\n",
       "      <td>2.383318</td>\n",
       "      <td>4.865342</td>\n",
       "      <td>2.636668</td>\n",
       "      <td>2002.958577</td>\n",
       "    </tr>\n",
       "    <tr>\n",
       "      <th>std</th>\n",
       "      <td>6.402502e+05</td>\n",
       "      <td>28.827063</td>\n",
       "      <td>4838.352868</td>\n",
       "      <td>2.177881</td>\n",
       "      <td>2.449572</td>\n",
       "      <td>1.257195</td>\n",
       "      <td>37.862947</td>\n",
       "    </tr>\n",
       "    <tr>\n",
       "      <th>min</th>\n",
       "      <td>1.490000e+05</td>\n",
       "      <td>11.700000</td>\n",
       "      <td>19.140000</td>\n",
       "      <td>-1.000000</td>\n",
       "      <td>1.000000</td>\n",
       "      <td>1.000000</td>\n",
       "      <td>1300.000000</td>\n",
       "    </tr>\n",
       "    <tr>\n",
       "      <th>25%</th>\n",
       "      <td>6.600000e+05</td>\n",
       "      <td>40.500000</td>\n",
       "      <td>14000.000000</td>\n",
       "      <td>1.000000</td>\n",
       "      <td>3.000000</td>\n",
       "      <td>2.000000</td>\n",
       "      <td>1997.000000</td>\n",
       "    </tr>\n",
       "    <tr>\n",
       "      <th>50%</th>\n",
       "      <td>8.150000e+05</td>\n",
       "      <td>52.000000</td>\n",
       "      <td>16176.470000</td>\n",
       "      <td>2.000000</td>\n",
       "      <td>4.000000</td>\n",
       "      <td>3.000000</td>\n",
       "      <td>2022.000000</td>\n",
       "    </tr>\n",
       "    <tr>\n",
       "      <th>75%</th>\n",
       "      <td>1.063000e+06</td>\n",
       "      <td>67.000000</td>\n",
       "      <td>18779.340000</td>\n",
       "      <td>4.000000</td>\n",
       "      <td>6.000000</td>\n",
       "      <td>3.000000</td>\n",
       "      <td>2024.000000</td>\n",
       "    </tr>\n",
       "    <tr>\n",
       "      <th>max</th>\n",
       "      <td>1.600000e+07</td>\n",
       "      <td>550.000000</td>\n",
       "      <td>152594.090000</td>\n",
       "      <td>15.000000</td>\n",
       "      <td>17.000000</td>\n",
       "      <td>44.000000</td>\n",
       "      <td>2026.000000</td>\n",
       "    </tr>\n",
       "  </tbody>\n",
       "</table>\n",
       "</div>"
      ],
      "text/plain": [
       "              price         area  price-per-area  floor/store  \\\n",
       "count  8.956000e+03  8956.000000     8956.000000  8956.000000   \n",
       "mean   9.738496e+05    58.190536    16862.503587     2.383318   \n",
       "std    6.402502e+05    28.827063     4838.352868     2.177881   \n",
       "min    1.490000e+05    11.700000       19.140000    -1.000000   \n",
       "25%    6.600000e+05    40.500000    14000.000000     1.000000   \n",
       "50%    8.150000e+05    52.000000    16176.470000     2.000000   \n",
       "75%    1.063000e+06    67.000000    18779.340000     4.000000   \n",
       "max    1.600000e+07   550.000000   152594.090000    15.000000   \n",
       "\n",
       "       no of floors/stores in the building  no of rooms  year of construction  \n",
       "count                          8956.000000  8956.000000           8208.000000  \n",
       "mean                              4.865342     2.636668           2002.958577  \n",
       "std                               2.449572     1.257195             37.862947  \n",
       "min                               1.000000     1.000000           1300.000000  \n",
       "25%                               3.000000     2.000000           1997.000000  \n",
       "50%                               4.000000     3.000000           2022.000000  \n",
       "75%                               6.000000     3.000000           2024.000000  \n",
       "max                              17.000000    44.000000           2026.000000  "
      ]
     },
     "execution_count": 147,
     "metadata": {},
     "output_type": "execute_result"
    }
   ],
   "source": [
    "df_nieruchomosci.describe()"
   ]
  },
  {
   "cell_type": "code",
   "execution_count": 148,
   "metadata": {
    "ExecuteTime": {
     "end_time": "2024-05-07T15:53:17.881678Z",
     "start_time": "2024-05-07T15:53:17.870757Z"
    },
    "collapsed": false
   },
   "outputs": [
    {
     "data": {
      "text/plain": [
       "url                                       0\n",
       "name/title                                0\n",
       "address                                   0\n",
       "price                                     0\n",
       "area                                      0\n",
       "price-per-area                            0\n",
       "floor/store                               0\n",
       "no of floors/stores in the building       0\n",
       "no of rooms                               0\n",
       "year of construction                    748\n",
       "parking space                             0\n",
       "market                                    0\n",
       "form of ownership                      1661\n",
       "parking space details                     0\n",
       "dtype: int64"
      ]
     },
     "execution_count": 148,
     "metadata": {},
     "output_type": "execute_result"
    }
   ],
   "source": [
    "df_nieruchomosci.isnull().sum()"
   ]
  },
  {
   "cell_type": "markdown",
   "metadata": {},
   "source": [
    "## Addresses - Preliminary"
   ]
  },
  {
   "cell_type": "code",
   "execution_count": 149,
   "metadata": {
    "ExecuteTime": {
     "end_time": "2024-05-07T15:53:18.176860Z",
     "start_time": "2024-05-07T15:53:18.159677Z"
    }
   },
   "outputs": [
    {
     "data": {
      "text/html": [
       "<div>\n",
       "<style scoped>\n",
       "    .dataframe tbody tr th:only-of-type {\n",
       "        vertical-align: middle;\n",
       "    }\n",
       "\n",
       "    .dataframe tbody tr th {\n",
       "        vertical-align: top;\n",
       "    }\n",
       "\n",
       "    .dataframe thead th {\n",
       "        text-align: right;\n",
       "    }\n",
       "</style>\n",
       "<table border=\"1\" class=\"dataframe\">\n",
       "  <thead>\n",
       "    <tr style=\"text-align: right;\">\n",
       "      <th></th>\n",
       "      <th>url</th>\n",
       "      <th>name/title</th>\n",
       "      <th>address</th>\n",
       "      <th>price</th>\n",
       "      <th>area</th>\n",
       "      <th>price-per-area</th>\n",
       "      <th>floor/store</th>\n",
       "      <th>no of floors/stores in the building</th>\n",
       "      <th>no of rooms</th>\n",
       "      <th>year of construction</th>\n",
       "      <th>parking space</th>\n",
       "      <th>market</th>\n",
       "      <th>form of ownership</th>\n",
       "      <th>parking space details</th>\n",
       "    </tr>\n",
       "  </thead>\n",
       "  <tbody>\n",
       "  </tbody>\n",
       "</table>\n",
       "</div>"
      ],
      "text/plain": [
       "Empty DataFrame\n",
       "Columns: [url, name/title, address, price, area, price-per-area, floor/store, no of floors/stores in the building, no of rooms, year of construction, parking space, market, form of ownership, parking space details]\n",
       "Index: []"
      ]
     },
     "execution_count": 149,
     "metadata": {},
     "output_type": "execute_result"
    }
   ],
   "source": [
    "df_nieruchomosci[~df_nieruchomosci['address'].str.contains(\"Kraków\", na=False)]"
   ]
  },
  {
   "cell_type": "markdown",
   "metadata": {},
   "source": [
    "# Data Engineering"
   ]
  },
  {
   "cell_type": "markdown",
   "metadata": {},
   "source": [
    "## Data Unification"
   ]
  },
  {
   "cell_type": "code",
   "execution_count": 150,
   "metadata": {
    "ExecuteTime": {
     "end_time": "2024-05-07T15:53:18.692936Z",
     "start_time": "2024-05-07T15:53:18.665067Z"
    }
   },
   "outputs": [
    {
     "data": {
      "text/html": [
       "<div>\n",
       "<style scoped>\n",
       "    .dataframe tbody tr th:only-of-type {\n",
       "        vertical-align: middle;\n",
       "    }\n",
       "\n",
       "    .dataframe tbody tr th {\n",
       "        vertical-align: top;\n",
       "    }\n",
       "\n",
       "    .dataframe thead th {\n",
       "        text-align: right;\n",
       "    }\n",
       "</style>\n",
       "<table border=\"1\" class=\"dataframe\">\n",
       "  <thead>\n",
       "    <tr style=\"text-align: right;\">\n",
       "      <th></th>\n",
       "      <th>url</th>\n",
       "      <th>name/title</th>\n",
       "      <th>address</th>\n",
       "      <th>price</th>\n",
       "      <th>area</th>\n",
       "      <th>price-per-area</th>\n",
       "      <th>floor/store</th>\n",
       "      <th>no of floors/stores in the building</th>\n",
       "      <th>no of rooms</th>\n",
       "      <th>year of construction</th>\n",
       "      <th>parking space</th>\n",
       "      <th>market</th>\n",
       "      <th>form of ownership</th>\n",
       "    </tr>\n",
       "  </thead>\n",
       "  <tbody>\n",
       "    <tr>\n",
       "      <th>0</th>\n",
       "      <td>https://www.otodom.pl/pl/oferta/gotowe-2-pokoj...</td>\n",
       "      <td>Gotowe| 2 pokoje| blisko centrum| Bonarka</td>\n",
       "      <td>Wola Duchacka, Podgórze Duchackie, Kraków, mał...</td>\n",
       "      <td>719000.0</td>\n",
       "      <td>55.98</td>\n",
       "      <td>12844.00</td>\n",
       "      <td>0</td>\n",
       "      <td>8</td>\n",
       "      <td>3</td>\n",
       "      <td>2022.0</td>\n",
       "      <td>False</td>\n",
       "      <td>pierwotny</td>\n",
       "      <td>pełna własność</td>\n",
       "    </tr>\n",
       "    <tr>\n",
       "      <th>1</th>\n",
       "      <td>https://www.otodom.pl/pl/oferta/4-pok-mieszkan...</td>\n",
       "      <td>4-pok.mieszkanie z Sauną - Wysoki Standard ! 2...</td>\n",
       "      <td>Biskupa Albina Małysiaka, Kobierzyn, Dębniki, ...</td>\n",
       "      <td>1350000.0</td>\n",
       "      <td>87.00</td>\n",
       "      <td>15517.00</td>\n",
       "      <td>2</td>\n",
       "      <td>4</td>\n",
       "      <td>4</td>\n",
       "      <td>2021.0</td>\n",
       "      <td>True</td>\n",
       "      <td>wtórny</td>\n",
       "      <td>pełna własność</td>\n",
       "    </tr>\n",
       "    <tr>\n",
       "      <th>2</th>\n",
       "      <td>https://www.otodom.pl/pl/oferta/3-pokoje-w-rza...</td>\n",
       "      <td>3 pokoje w rządowym programie kredyt 2%</td>\n",
       "      <td>Bieżanów, Bieżanów-Prokocim, Kraków, małopolskie</td>\n",
       "      <td>599000.0</td>\n",
       "      <td>47.10</td>\n",
       "      <td>12718.00</td>\n",
       "      <td>1</td>\n",
       "      <td>4</td>\n",
       "      <td>3</td>\n",
       "      <td>2023.0</td>\n",
       "      <td>True</td>\n",
       "      <td>pierwotny</td>\n",
       "      <td>pełna własność</td>\n",
       "    </tr>\n",
       "    <tr>\n",
       "      <th>3</th>\n",
       "      <td>https://www.otodom.pl/pl/oferta/mieszkanie-ide...</td>\n",
       "      <td>Mieszkanie idealne na start, 3 - pokoje!</td>\n",
       "      <td>ul. Erazma Jerzmanowskiego, Prokocim, Bieżanów...</td>\n",
       "      <td>833500.0</td>\n",
       "      <td>66.69</td>\n",
       "      <td>12498.00</td>\n",
       "      <td>3</td>\n",
       "      <td>8</td>\n",
       "      <td>3</td>\n",
       "      <td>2024.0</td>\n",
       "      <td>True</td>\n",
       "      <td>pierwotny</td>\n",
       "      <td>pełna własność</td>\n",
       "    </tr>\n",
       "    <tr>\n",
       "      <th>4</th>\n",
       "      <td>https://www.otodom.pl/pl/oferta/ul-lasowka-3-p...</td>\n",
       "      <td>ul. Lasówka, 3 pokoje, 65m2 + taras 20m2!</td>\n",
       "      <td>ul. Lasówka, Płaszów, Podgórze, Kraków, małopo...</td>\n",
       "      <td>949000.0</td>\n",
       "      <td>65.81</td>\n",
       "      <td>14420.00</td>\n",
       "      <td>7</td>\n",
       "      <td>7</td>\n",
       "      <td>3</td>\n",
       "      <td>2023.0</td>\n",
       "      <td>False</td>\n",
       "      <td>wtórny</td>\n",
       "      <td>pełna własność</td>\n",
       "    </tr>\n",
       "    <tr>\n",
       "      <th>...</th>\n",
       "      <td>...</td>\n",
       "      <td>...</td>\n",
       "      <td>...</td>\n",
       "      <td>...</td>\n",
       "      <td>...</td>\n",
       "      <td>...</td>\n",
       "      <td>...</td>\n",
       "      <td>...</td>\n",
       "      <td>...</td>\n",
       "      <td>...</td>\n",
       "      <td>...</td>\n",
       "      <td>...</td>\n",
       "      <td>...</td>\n",
       "    </tr>\n",
       "    <tr>\n",
       "      <th>20204</th>\n",
       "      <td>https://krakow.nieruchomosci-online.pl/mieszka...</td>\n",
       "      <td>Mieszkanie, ul. Kobierzyńska</td>\n",
       "      <td>Kobierzyńska, Mateczny, Kraków, małopolskie</td>\n",
       "      <td>659000.0</td>\n",
       "      <td>35.50</td>\n",
       "      <td>18563.38</td>\n",
       "      <td>4</td>\n",
       "      <td>4</td>\n",
       "      <td>2</td>\n",
       "      <td>2024.0</td>\n",
       "      <td>True</td>\n",
       "      <td>pierwotny</td>\n",
       "      <td>pełna własność</td>\n",
       "    </tr>\n",
       "    <tr>\n",
       "      <th>20205</th>\n",
       "      <td>https://krakow.nieruchomosci-online.pl/mieszka...</td>\n",
       "      <td>Mieszkanie, ul. Retoryka</td>\n",
       "      <td>Retoryka, Stare Miasto, Kraków, małopolskie</td>\n",
       "      <td>1750000.0</td>\n",
       "      <td>95.00</td>\n",
       "      <td>18421.05</td>\n",
       "      <td>2</td>\n",
       "      <td>4</td>\n",
       "      <td>3</td>\n",
       "      <td>1938.0</td>\n",
       "      <td>False</td>\n",
       "      <td>wtórny</td>\n",
       "      <td>pełna własność</td>\n",
       "    </tr>\n",
       "    <tr>\n",
       "      <th>20206</th>\n",
       "      <td>https://krakow.nieruchomosci-online.pl/mieszka...</td>\n",
       "      <td>Mieszkanie, ul. Bieżanowska</td>\n",
       "      <td>Bieżanowska, Bieżanów, Kraków, małopolskie</td>\n",
       "      <td>659000.0</td>\n",
       "      <td>50.00</td>\n",
       "      <td>13180.00</td>\n",
       "      <td>9</td>\n",
       "      <td>11</td>\n",
       "      <td>3</td>\n",
       "      <td>1975.0</td>\n",
       "      <td>True</td>\n",
       "      <td>wtórny</td>\n",
       "      <td>NaN</td>\n",
       "    </tr>\n",
       "    <tr>\n",
       "      <th>20207</th>\n",
       "      <td>https://krakow.nieruchomosci-online.pl/mieszka...</td>\n",
       "      <td>Mieszkanie, ul. Lubostroń</td>\n",
       "      <td>Lubostroń, Ruczaj, Kraków, małopolskie</td>\n",
       "      <td>715000.0</td>\n",
       "      <td>41.00</td>\n",
       "      <td>17439.02</td>\n",
       "      <td>1</td>\n",
       "      <td>3</td>\n",
       "      <td>2</td>\n",
       "      <td>2008.0</td>\n",
       "      <td>False</td>\n",
       "      <td>wtórny</td>\n",
       "      <td>pełna własność</td>\n",
       "    </tr>\n",
       "    <tr>\n",
       "      <th>20208</th>\n",
       "      <td>https://krakow.nieruchomosci-online.pl/mieszka...</td>\n",
       "      <td>Mieszkanie, ul. Prandoty</td>\n",
       "      <td>Prandoty, Stare Miasto, Kraków, małopolskie</td>\n",
       "      <td>646875.0</td>\n",
       "      <td>34.50</td>\n",
       "      <td>18750.00</td>\n",
       "      <td>0</td>\n",
       "      <td>6</td>\n",
       "      <td>1</td>\n",
       "      <td>2024.0</td>\n",
       "      <td>True</td>\n",
       "      <td>pierwotny</td>\n",
       "      <td>pełna własność</td>\n",
       "    </tr>\n",
       "  </tbody>\n",
       "</table>\n",
       "<p>20209 rows × 13 columns</p>\n",
       "</div>"
      ],
      "text/plain": [
       "                                                     url  \\\n",
       "0      https://www.otodom.pl/pl/oferta/gotowe-2-pokoj...   \n",
       "1      https://www.otodom.pl/pl/oferta/4-pok-mieszkan...   \n",
       "2      https://www.otodom.pl/pl/oferta/3-pokoje-w-rza...   \n",
       "3      https://www.otodom.pl/pl/oferta/mieszkanie-ide...   \n",
       "4      https://www.otodom.pl/pl/oferta/ul-lasowka-3-p...   \n",
       "...                                                  ...   \n",
       "20204  https://krakow.nieruchomosci-online.pl/mieszka...   \n",
       "20205  https://krakow.nieruchomosci-online.pl/mieszka...   \n",
       "20206  https://krakow.nieruchomosci-online.pl/mieszka...   \n",
       "20207  https://krakow.nieruchomosci-online.pl/mieszka...   \n",
       "20208  https://krakow.nieruchomosci-online.pl/mieszka...   \n",
       "\n",
       "                                              name/title  \\\n",
       "0              Gotowe| 2 pokoje| blisko centrum| Bonarka   \n",
       "1      4-pok.mieszkanie z Sauną - Wysoki Standard ! 2...   \n",
       "2                3 pokoje w rządowym programie kredyt 2%   \n",
       "3               Mieszkanie idealne na start, 3 - pokoje!   \n",
       "4              ul. Lasówka, 3 pokoje, 65m2 + taras 20m2!   \n",
       "...                                                  ...   \n",
       "20204                       Mieszkanie, ul. Kobierzyńska   \n",
       "20205                           Mieszkanie, ul. Retoryka   \n",
       "20206                        Mieszkanie, ul. Bieżanowska   \n",
       "20207                          Mieszkanie, ul. Lubostroń   \n",
       "20208                           Mieszkanie, ul. Prandoty   \n",
       "\n",
       "                                                 address      price   area  \\\n",
       "0      Wola Duchacka, Podgórze Duchackie, Kraków, mał...   719000.0  55.98   \n",
       "1      Biskupa Albina Małysiaka, Kobierzyn, Dębniki, ...  1350000.0  87.00   \n",
       "2       Bieżanów, Bieżanów-Prokocim, Kraków, małopolskie   599000.0  47.10   \n",
       "3      ul. Erazma Jerzmanowskiego, Prokocim, Bieżanów...   833500.0  66.69   \n",
       "4      ul. Lasówka, Płaszów, Podgórze, Kraków, małopo...   949000.0  65.81   \n",
       "...                                                  ...        ...    ...   \n",
       "20204        Kobierzyńska, Mateczny, Kraków, małopolskie   659000.0  35.50   \n",
       "20205        Retoryka, Stare Miasto, Kraków, małopolskie  1750000.0  95.00   \n",
       "20206         Bieżanowska, Bieżanów, Kraków, małopolskie   659000.0  50.00   \n",
       "20207             Lubostroń, Ruczaj, Kraków, małopolskie   715000.0  41.00   \n",
       "20208        Prandoty, Stare Miasto, Kraków, małopolskie   646875.0  34.50   \n",
       "\n",
       "       price-per-area  floor/store  no of floors/stores in the building  \\\n",
       "0            12844.00            0                                    8   \n",
       "1            15517.00            2                                    4   \n",
       "2            12718.00            1                                    4   \n",
       "3            12498.00            3                                    8   \n",
       "4            14420.00            7                                    7   \n",
       "...               ...          ...                                  ...   \n",
       "20204        18563.38            4                                    4   \n",
       "20205        18421.05            2                                    4   \n",
       "20206        13180.00            9                                   11   \n",
       "20207        17439.02            1                                    3   \n",
       "20208        18750.00            0                                    6   \n",
       "\n",
       "       no of rooms  year of construction  parking space     market  \\\n",
       "0                3                2022.0          False  pierwotny   \n",
       "1                4                2021.0           True     wtórny   \n",
       "2                3                2023.0           True  pierwotny   \n",
       "3                3                2024.0           True  pierwotny   \n",
       "4                3                2023.0          False     wtórny   \n",
       "...            ...                   ...            ...        ...   \n",
       "20204            2                2024.0           True  pierwotny   \n",
       "20205            3                1938.0          False     wtórny   \n",
       "20206            3                1975.0           True     wtórny   \n",
       "20207            2                2008.0          False     wtórny   \n",
       "20208            1                2024.0           True  pierwotny   \n",
       "\n",
       "      form of ownership  \n",
       "0        pełna własność  \n",
       "1        pełna własność  \n",
       "2        pełna własność  \n",
       "3        pełna własność  \n",
       "4        pełna własność  \n",
       "...                 ...  \n",
       "20204    pełna własność  \n",
       "20205    pełna własność  \n",
       "20206               NaN  \n",
       "20207    pełna własność  \n",
       "20208    pełna własność  \n",
       "\n",
       "[20209 rows x 13 columns]"
      ]
     },
     "execution_count": 150,
     "metadata": {},
     "output_type": "execute_result"
    }
   ],
   "source": [
    "common_columns = df_otodom.columns.intersection(df_nieruchomosci.columns)\n",
    "df_apartments = pd.concat([df_otodom[common_columns], df_nieruchomosci[common_columns]], ignore_index=True)\n",
    "df_apartments"
   ]
  },
  {
   "cell_type": "code",
   "execution_count": 151,
   "metadata": {
    "ExecuteTime": {
     "end_time": "2024-05-07T15:53:19.119243Z",
     "start_time": "2024-05-07T15:53:19.103436Z"
    }
   },
   "outputs": [
    {
     "name": "stdout",
     "output_type": "stream",
     "text": [
      "<class 'pandas.core.frame.DataFrame'>\n",
      "RangeIndex: 20209 entries, 0 to 20208\n",
      "Data columns (total 13 columns):\n",
      " #   Column                               Non-Null Count  Dtype  \n",
      "---  ------                               --------------  -----  \n",
      " 0   url                                  20209 non-null  object \n",
      " 1   name/title                           20209 non-null  object \n",
      " 2   address                              20209 non-null  object \n",
      " 3   price                                20209 non-null  float64\n",
      " 4   area                                 20209 non-null  float64\n",
      " 5   price-per-area                       20209 non-null  float64\n",
      " 6   floor/store                          20209 non-null  int32  \n",
      " 7   no of floors/stores in the building  20209 non-null  int32  \n",
      " 8   no of rooms                          20209 non-null  int32  \n",
      " 9   year of construction                 18025 non-null  float64\n",
      " 10  parking space                        20209 non-null  bool   \n",
      " 11  market                               20209 non-null  object \n",
      " 12  form of ownership                    17435 non-null  object \n",
      "dtypes: bool(1), float64(4), int32(3), object(5)\n",
      "memory usage: 1.6+ MB\n"
     ]
    }
   ],
   "source": [
    "df_apartments.info()"
   ]
  },
  {
   "cell_type": "markdown",
   "metadata": {},
   "source": [
    "## Duplicates"
   ]
  },
  {
   "cell_type": "code",
   "execution_count": 152,
   "metadata": {
    "ExecuteTime": {
     "end_time": "2024-05-07T15:53:19.854749Z",
     "start_time": "2024-05-07T15:53:19.847227Z"
    }
   },
   "outputs": [],
   "source": [
    "def check_similarity(group):\n",
    "    if len(group) > 1:\n",
    "        price_mean = group['price'].mean()\n",
    "        area_mean = group['area'].mean()\n",
    "        price_range = price_mean * 0.01\n",
    "        area_range = area_mean * 0.01\n",
    "        similar_price = group['price'].between(price_mean - price_range, price_mean + price_range)\n",
    "        similar_area = group['area'].between(area_mean - area_range, area_mean + area_range)\n",
    "        return (similar_price & similar_area).rename('is_duplicate')\n",
    "    else:\n",
    "        return pd.Series(False, index=group.index, name='is_duplicate')\n",
    "\n",
    "def fill_from_group(group):\n",
    "    group['non_null_count'] = group.notna().sum(axis=1)\n",
    "    sorted_group = group.sort_values('non_null_count', ascending=False)\n",
    "    sorted_group.drop('non_null_count', axis=1, inplace=True)\n",
    "    most_complete_row = sorted_group.iloc[0]\n",
    "    for _, row in sorted_group.iloc[1:].iterrows():\n",
    "        most_complete_row = most_complete_row.combine_first(row)\n",
    "    return most_complete_row\n",
    "\n",
    "def remove_duplicates(df, group_cols=None):\n",
    "    if group_cols is None:\n",
    "        group_cols = ['address', 'floor/store', 'no of floors/stores in the building', 'no of rooms']\n",
    "    \n",
    "    df['is_duplicate'] = df.groupby(group_cols, group_keys=False).apply(check_similarity)\n",
    "    \n",
    "    duplicates = df[df['is_duplicate']]\n",
    "    non_duplicates = df[~df['is_duplicate']]\n",
    "    \n",
    "    most_complete_duplicates = duplicates.groupby(group_cols).apply(fill_from_group).reset_index(drop=True)\n",
    "    \n",
    "    filtered_df = pd.concat([non_duplicates, most_complete_duplicates], ignore_index=True)\n",
    "    \n",
    "    sorted_filtered_df = filtered_df.sort_values(by=['address', 'price', 'area'])\n",
    "    \n",
    "    return sorted_filtered_df"
   ]
  },
  {
   "cell_type": "code",
   "execution_count": null,
   "metadata": {},
   "outputs": [],
   "source": [
    "df_filtered_sorted_apartments = remove_duplicates(df_apartments)\n",
    "df_filtered_sorted_apartments.drop('is_duplicate', axis=1, inplace=True)"
   ]
  },
  {
   "cell_type": "markdown",
   "metadata": {},
   "source": [
    "## Addresses"
   ]
  },
  {
   "cell_type": "code",
   "execution_count": 154,
   "metadata": {
    "ExecuteTime": {
     "end_time": "2024-05-07T15:53:29.938584Z",
     "start_time": "2024-05-07T15:53:29.930148Z"
    }
   },
   "outputs": [],
   "source": [
    "import re\n",
    "\n",
    "# Regex pattern adjusted to exclude capturing prefixes directly\n",
    "pattern = r'(ul\\.|Aleja|aleja|pl\\.|al\\.)\\s*([^,\\d]+[\\d]*\\b)'\n",
    "\n",
    "def update_address(row):\n",
    "    if pd.isna(row['name/title']):\n",
    "        return row['address']\n",
    "\n",
    "    match = re.search(pattern, row['name/title'])\n",
    "    if match:\n",
    "        street_name = match.group(2).strip()\n",
    "        if pd.isna(row['address']):\n",
    "            updated_address = street_name\n",
    "        else:\n",
    "            if street_name.lower() not in row['address'].lower():\n",
    "                updated_address = f\"{street_name}, {row['address']}\"\n",
    "            else:\n",
    "                updated_address = row['address']\n",
    "    else:\n",
    "        updated_address = row['address']\n",
    "    \n",
    "    return updated_address"
   ]
  },
  {
   "cell_type": "code",
   "execution_count": 155,
   "metadata": {
    "ExecuteTime": {
     "end_time": "2024-05-07T15:53:30.338584Z",
     "start_time": "2024-05-07T15:53:29.939589Z"
    }
   },
   "outputs": [
    {
     "data": {
      "text/html": [
       "<div>\n",
       "<style scoped>\n",
       "    .dataframe tbody tr th:only-of-type {\n",
       "        vertical-align: middle;\n",
       "    }\n",
       "\n",
       "    .dataframe tbody tr th {\n",
       "        vertical-align: top;\n",
       "    }\n",
       "\n",
       "    .dataframe thead th {\n",
       "        text-align: right;\n",
       "    }\n",
       "</style>\n",
       "<table border=\"1\" class=\"dataframe\">\n",
       "  <thead>\n",
       "    <tr style=\"text-align: right;\">\n",
       "      <th></th>\n",
       "      <th>url</th>\n",
       "      <th>name/title</th>\n",
       "      <th>address</th>\n",
       "      <th>price</th>\n",
       "      <th>area</th>\n",
       "      <th>price-per-area</th>\n",
       "      <th>floor/store</th>\n",
       "      <th>no of floors/stores in the building</th>\n",
       "      <th>no of rooms</th>\n",
       "      <th>year of construction</th>\n",
       "      <th>parking space</th>\n",
       "      <th>market</th>\n",
       "      <th>form of ownership</th>\n",
       "    </tr>\n",
       "  </thead>\n",
       "  <tbody>\n",
       "    <tr>\n",
       "      <th>15814</th>\n",
       "      <td>https://krakow.nieruchomosci-online.pl/mieszka...</td>\n",
       "      <td>Mieszkanie Kraków</td>\n",
       "      <td>103171, Mistrzejowice, Kraków, małopolskie</td>\n",
       "      <td>1087000.0</td>\n",
       "      <td>74.80</td>\n",
       "      <td>14532.09</td>\n",
       "      <td>6</td>\n",
       "      <td>7</td>\n",
       "      <td>3</td>\n",
       "      <td>2016.0</td>\n",
       "      <td>True</td>\n",
       "      <td>wtórny</td>\n",
       "      <td>pełna własność</td>\n",
       "    </tr>\n",
       "    <tr>\n",
       "      <th>15415</th>\n",
       "      <td>https://krakow.nieruchomosci-online.pl/mieszka...</td>\n",
       "      <td>Mieszkanie Kraków</td>\n",
       "      <td>2 Pułku Lotniczego, Kraków, małopolskie</td>\n",
       "      <td>550000.0</td>\n",
       "      <td>32.00</td>\n",
       "      <td>17187.50</td>\n",
       "      <td>4</td>\n",
       "      <td>8</td>\n",
       "      <td>1</td>\n",
       "      <td>NaN</td>\n",
       "      <td>False</td>\n",
       "      <td>wtórny</td>\n",
       "      <td>NaN</td>\n",
       "    </tr>\n",
       "    <tr>\n",
       "      <th>15937</th>\n",
       "      <td>https://krakow.nieruchomosci-online.pl/mieszka...</td>\n",
       "      <td>Mieszkanie Kraków</td>\n",
       "      <td>2 Pułku Lotniczego, Kraków, małopolskie</td>\n",
       "      <td>550000.0</td>\n",
       "      <td>32.30</td>\n",
       "      <td>17028.00</td>\n",
       "      <td>4</td>\n",
       "      <td>10</td>\n",
       "      <td>1</td>\n",
       "      <td>1985.0</td>\n",
       "      <td>False</td>\n",
       "      <td>wtórny</td>\n",
       "      <td>NaN</td>\n",
       "    </tr>\n",
       "    <tr>\n",
       "      <th>13941</th>\n",
       "      <td>https://krakow.nieruchomosci-online.pl/mieszka...</td>\n",
       "      <td>Apartament, ul. 28 Lipca 1943</td>\n",
       "      <td>28 Lipca 1943, Wola Justowska, Kraków, małopol...</td>\n",
       "      <td>2290000.0</td>\n",
       "      <td>155.16</td>\n",
       "      <td>14758.96</td>\n",
       "      <td>0</td>\n",
       "      <td>2</td>\n",
       "      <td>5</td>\n",
       "      <td>2009.0</td>\n",
       "      <td>True</td>\n",
       "      <td>wtórny</td>\n",
       "      <td>pełna własność</td>\n",
       "    </tr>\n",
       "    <tr>\n",
       "      <th>10191</th>\n",
       "      <td>https://krakow.nieruchomosci-online.pl/mieszka...</td>\n",
       "      <td>Mieszkanie, ul. 28 Lipca 1943</td>\n",
       "      <td>28 Lipca 1943, Wola Justowska, Kraków, małopol...</td>\n",
       "      <td>2399000.0</td>\n",
       "      <td>139.00</td>\n",
       "      <td>17258.99</td>\n",
       "      <td>1</td>\n",
       "      <td>2</td>\n",
       "      <td>3</td>\n",
       "      <td>2022.0</td>\n",
       "      <td>False</td>\n",
       "      <td>wtórny</td>\n",
       "      <td>pełna własność</td>\n",
       "    </tr>\n",
       "    <tr>\n",
       "      <th>...</th>\n",
       "      <td>...</td>\n",
       "      <td>...</td>\n",
       "      <td>...</td>\n",
       "      <td>...</td>\n",
       "      <td>...</td>\n",
       "      <td>...</td>\n",
       "      <td>...</td>\n",
       "      <td>...</td>\n",
       "      <td>...</td>\n",
       "      <td>...</td>\n",
       "      <td>...</td>\n",
       "      <td>...</td>\n",
       "      <td>...</td>\n",
       "    </tr>\n",
       "    <tr>\n",
       "      <th>15803</th>\n",
       "      <td>https://krakow.nieruchomosci-online.pl/mieszka...</td>\n",
       "      <td>Mieszkanie, ul. Żółkiewskiego</td>\n",
       "      <td>Żółkiewskiego, Grzegórzki, Kraków, małopolskie</td>\n",
       "      <td>695000.0</td>\n",
       "      <td>36.97</td>\n",
       "      <td>18799.03</td>\n",
       "      <td>1</td>\n",
       "      <td>2</td>\n",
       "      <td>2</td>\n",
       "      <td>1900.0</td>\n",
       "      <td>True</td>\n",
       "      <td>wtórny</td>\n",
       "      <td>NaN</td>\n",
       "    </tr>\n",
       "    <tr>\n",
       "      <th>16362</th>\n",
       "      <td>https://krakow.nieruchomosci-online.pl/mieszka...</td>\n",
       "      <td>Mieszkanie, ul. Żółkiewskiego</td>\n",
       "      <td>Żółkiewskiego, Grzegórzki, Kraków, małopolskie</td>\n",
       "      <td>695000.0</td>\n",
       "      <td>37.98</td>\n",
       "      <td>18299.10</td>\n",
       "      <td>0</td>\n",
       "      <td>2</td>\n",
       "      <td>1</td>\n",
       "      <td>1900.0</td>\n",
       "      <td>False</td>\n",
       "      <td>wtórny</td>\n",
       "      <td>NaN</td>\n",
       "    </tr>\n",
       "    <tr>\n",
       "      <th>10889</th>\n",
       "      <td>https://krakow.nieruchomosci-online.pl/mieszka...</td>\n",
       "      <td>Mieszkanie, ul. Żółkiewskiego</td>\n",
       "      <td>Żółkiewskiego, Grzegórzki, Kraków, małopolskie</td>\n",
       "      <td>1698500.0</td>\n",
       "      <td>79.00</td>\n",
       "      <td>21500.00</td>\n",
       "      <td>2</td>\n",
       "      <td>4</td>\n",
       "      <td>4</td>\n",
       "      <td>2024.0</td>\n",
       "      <td>False</td>\n",
       "      <td>pierwotny</td>\n",
       "      <td>pełna własność</td>\n",
       "    </tr>\n",
       "    <tr>\n",
       "      <th>11077</th>\n",
       "      <td>https://krakow.nieruchomosci-online.pl/mieszka...</td>\n",
       "      <td>Mieszkanie, ul. Żółkiewskiego</td>\n",
       "      <td>Żółkiewskiego, Grzegórzki, Kraków, małopolskie</td>\n",
       "      <td>2722500.0</td>\n",
       "      <td>121.00</td>\n",
       "      <td>22500.00</td>\n",
       "      <td>2</td>\n",
       "      <td>4</td>\n",
       "      <td>4</td>\n",
       "      <td>2024.0</td>\n",
       "      <td>False</td>\n",
       "      <td>pierwotny</td>\n",
       "      <td>pełna własność</td>\n",
       "    </tr>\n",
       "    <tr>\n",
       "      <th>2770</th>\n",
       "      <td>https://www.otodom.pl/pl/oferta/1m-wyposazone-...</td>\n",
       "      <td>1M! Wyposażone|Ogródek 25m2|Inwestycja - ROI 10%</td>\n",
       "      <td>żabniec, Żabiniec, Prądnik Biały, Kraków, mało...</td>\n",
       "      <td>639000.0</td>\n",
       "      <td>26.00</td>\n",
       "      <td>24577.00</td>\n",
       "      <td>0</td>\n",
       "      <td>4</td>\n",
       "      <td>1</td>\n",
       "      <td>2017.0</td>\n",
       "      <td>False</td>\n",
       "      <td>wtórny</td>\n",
       "      <td>pełna własność</td>\n",
       "    </tr>\n",
       "  </tbody>\n",
       "</table>\n",
       "<p>17973 rows × 13 columns</p>\n",
       "</div>"
      ],
      "text/plain": [
       "                                                     url  \\\n",
       "15814  https://krakow.nieruchomosci-online.pl/mieszka...   \n",
       "15415  https://krakow.nieruchomosci-online.pl/mieszka...   \n",
       "15937  https://krakow.nieruchomosci-online.pl/mieszka...   \n",
       "13941  https://krakow.nieruchomosci-online.pl/mieszka...   \n",
       "10191  https://krakow.nieruchomosci-online.pl/mieszka...   \n",
       "...                                                  ...   \n",
       "15803  https://krakow.nieruchomosci-online.pl/mieszka...   \n",
       "16362  https://krakow.nieruchomosci-online.pl/mieszka...   \n",
       "10889  https://krakow.nieruchomosci-online.pl/mieszka...   \n",
       "11077  https://krakow.nieruchomosci-online.pl/mieszka...   \n",
       "2770   https://www.otodom.pl/pl/oferta/1m-wyposazone-...   \n",
       "\n",
       "                                             name/title  \\\n",
       "15814                                 Mieszkanie Kraków   \n",
       "15415                                 Mieszkanie Kraków   \n",
       "15937                                 Mieszkanie Kraków   \n",
       "13941                     Apartament, ul. 28 Lipca 1943   \n",
       "10191                     Mieszkanie, ul. 28 Lipca 1943   \n",
       "...                                                 ...   \n",
       "15803                     Mieszkanie, ul. Żółkiewskiego   \n",
       "16362                     Mieszkanie, ul. Żółkiewskiego   \n",
       "10889                     Mieszkanie, ul. Żółkiewskiego   \n",
       "11077                     Mieszkanie, ul. Żółkiewskiego   \n",
       "2770   1M! Wyposażone|Ogródek 25m2|Inwestycja - ROI 10%   \n",
       "\n",
       "                                                 address      price    area  \\\n",
       "15814         103171, Mistrzejowice, Kraków, małopolskie  1087000.0   74.80   \n",
       "15415            2 Pułku Lotniczego, Kraków, małopolskie   550000.0   32.00   \n",
       "15937            2 Pułku Lotniczego, Kraków, małopolskie   550000.0   32.30   \n",
       "13941  28 Lipca 1943, Wola Justowska, Kraków, małopol...  2290000.0  155.16   \n",
       "10191  28 Lipca 1943, Wola Justowska, Kraków, małopol...  2399000.0  139.00   \n",
       "...                                                  ...        ...     ...   \n",
       "15803     Żółkiewskiego, Grzegórzki, Kraków, małopolskie   695000.0   36.97   \n",
       "16362     Żółkiewskiego, Grzegórzki, Kraków, małopolskie   695000.0   37.98   \n",
       "10889     Żółkiewskiego, Grzegórzki, Kraków, małopolskie  1698500.0   79.00   \n",
       "11077     Żółkiewskiego, Grzegórzki, Kraków, małopolskie  2722500.0  121.00   \n",
       "2770   żabniec, Żabiniec, Prądnik Biały, Kraków, mało...   639000.0   26.00   \n",
       "\n",
       "       price-per-area  floor/store  no of floors/stores in the building  \\\n",
       "15814        14532.09            6                                    7   \n",
       "15415        17187.50            4                                    8   \n",
       "15937        17028.00            4                                   10   \n",
       "13941        14758.96            0                                    2   \n",
       "10191        17258.99            1                                    2   \n",
       "...               ...          ...                                  ...   \n",
       "15803        18799.03            1                                    2   \n",
       "16362        18299.10            0                                    2   \n",
       "10889        21500.00            2                                    4   \n",
       "11077        22500.00            2                                    4   \n",
       "2770         24577.00            0                                    4   \n",
       "\n",
       "       no of rooms  year of construction  parking space     market  \\\n",
       "15814            3                2016.0           True     wtórny   \n",
       "15415            1                   NaN          False     wtórny   \n",
       "15937            1                1985.0          False     wtórny   \n",
       "13941            5                2009.0           True     wtórny   \n",
       "10191            3                2022.0          False     wtórny   \n",
       "...            ...                   ...            ...        ...   \n",
       "15803            2                1900.0           True     wtórny   \n",
       "16362            1                1900.0          False     wtórny   \n",
       "10889            4                2024.0          False  pierwotny   \n",
       "11077            4                2024.0          False  pierwotny   \n",
       "2770             1                2017.0          False     wtórny   \n",
       "\n",
       "      form of ownership  \n",
       "15814    pełna własność  \n",
       "15415               NaN  \n",
       "15937               NaN  \n",
       "13941    pełna własność  \n",
       "10191    pełna własność  \n",
       "...                 ...  \n",
       "15803               NaN  \n",
       "16362               NaN  \n",
       "10889    pełna własność  \n",
       "11077    pełna własność  \n",
       "2770     pełna własność  \n",
       "\n",
       "[17973 rows x 13 columns]"
      ]
     },
     "execution_count": 155,
     "metadata": {},
     "output_type": "execute_result"
    }
   ],
   "source": [
    "df_filtered_sorted_apartments['address'] = df_filtered_sorted_apartments.apply(update_address, axis=1)\n",
    "df_filtered_sorted_apartments['address'] = df_filtered_sorted_apartments['address'].str.replace(r'^ul\\.\\s+', '', regex=True)\n",
    "df_filtered_sorted_apartments['address'] = df_filtered_sorted_apartments['address'].str.replace(r',\\s*ul\\.\\s[^,\\d]+,\\s', ', ', regex=True)\n",
    "df_filtered_sorted_apartments"
   ]
  },
  {
   "cell_type": "markdown",
   "metadata": {},
   "source": [
    "## Geolocation"
   ]
  },
  {
   "cell_type": "code",
   "execution_count": 196,
   "metadata": {
    "ExecuteTime": {
     "end_time": "2024-05-07T16:17:57.500212Z",
     "start_time": "2024-05-07T16:17:57.421420Z"
    }
   },
   "outputs": [],
   "source": [
    "from geopy.geocoders import Nominatim\n",
    "import time\n",
    "\n",
    "geolocator = Nominatim(user_agent=\"AGH_Student_Data_Exploration_Project\")\n",
    "\n",
    "\n",
    "def geocode(address):\n",
    "    timeout = 10\n",
    "    attempts = 0\n",
    "    while attempts < 3:\n",
    "        try:\n",
    "            location = geolocator.geocode(address, timeout=timeout)\n",
    "            if location:\n",
    "                print(f\"{location.address}, {location.latitude}, {location.longitude}\")\n",
    "                return pd.Series([location.address, location.latitude, location.longitude])\n",
    "            else:\n",
    "                return pd.Series([np.NaN, np.NaN, np.NaN])\n",
    "        except Exception as e:\n",
    "            print(f\"Retry {attempts + 1}: Error during geocoding for address '{address}' - {str(e)}\")\n",
    "            attempts += 1\n",
    "            timeout += 5\n",
    "            time.sleep(2)\n",
    "    return pd.Series([np.NaN, np.NaN, np.NaN])"
   ]
  },
  {
   "cell_type": "code",
   "execution_count": 198,
   "metadata": {
    "ExecuteTime": {
     "end_time": "2024-05-07T16:18:11.579765Z",
     "start_time": "2024-05-07T16:18:11.569334Z"
    }
   },
   "outputs": [
    {
     "data": {
      "text/plain": [
       "3829"
      ]
     },
     "execution_count": 198,
     "metadata": {},
     "output_type": "execute_result"
    }
   ],
   "source": [
    "unique_addresses = set(df_filtered_sorted_apartments['address'].unique())\n",
    "len(unique_addresses)"
   ]
  },
  {
   "cell_type": "code",
   "execution_count": 199,
   "metadata": {
    "ExecuteTime": {
     "end_time": "2024-05-07T16:18:13.551460Z",
     "start_time": "2024-05-07T16:18:13.546814Z"
    }
   },
   "outputs": [],
   "source": [
    "address_list = list(unique_addresses)\n",
    "\n",
    "location_df = pd.DataFrame({\n",
    "    'address': address_list,\n",
    "    'manipulated address': address_list\n",
    "})"
   ]
  },
  {
   "cell_type": "code",
   "execution_count": 197,
   "metadata": {
    "ExecuteTime": {
     "end_time": "2024-05-07T16:18:04.869566Z",
     "start_time": "2024-05-07T16:18:04.861493Z"
    }
   },
   "outputs": [],
   "source": [
    "import os\n",
    "\n",
    "def geocode_and_save(temp_df, csv_path=\"datasets/geocoded_addresses.csv\"):\n",
    "    if 'location' not in temp_df:\n",
    "        temp_df['location'] = np.NaN\n",
    "    if 'latitude' not in temp_df:\n",
    "        temp_df['latitude'] = np.nan\n",
    "    if 'longitude' not in temp_df:\n",
    "        temp_df['longitude'] = np.nan\n",
    "\n",
    "    if os.path.exists(csv_path):\n",
    "        existing_df = pd.read_csv(csv_path)\n",
    "        existing_df = existing_df.drop(columns='manipulated address', errors='ignore')\n",
    "\n",
    "        columns_to_drop = ['location', 'latitude', 'longitude']\n",
    "        temp_df = temp_df.drop(columns=columns_to_drop, errors='ignore')\n",
    "\n",
    "        merged_df = pd.merge(temp_df, existing_df, on='address', how='left')\n",
    "\n",
    "        for col in columns_to_drop:\n",
    "            if col + '_existing' in merged_df.columns:\n",
    "                merged_df[col] = merged_df[col + '_existing'].combine_first(merged_df[col])\n",
    "                merged_df.drop(col + '_existing', axis=1, inplace=True)\n",
    "\n",
    "        needs_geocoding = merged_df['location'].isna()\n",
    "        print(f\"Rows needing geocoding: {needs_geocoding.sum()}\")\n",
    "\n",
    "        if needs_geocoding.any():\n",
    "            geocoded_data = merged_df.loc[needs_geocoding, 'manipulated address'].apply(geocode)\n",
    "            merged_df.loc[needs_geocoding, ['location', 'latitude', 'longitude']] = geocoded_data.values\n",
    "        \n",
    "        temp_df = merged_df\n",
    "    else:\n",
    "        geocoded_data = temp_df['manipulated address'].apply(geocode)\n",
    "        temp_df[['location', 'latitude', 'longitude']] = geocoded_data.values\n",
    "\n",
    "    temp_df.drop_duplicates(subset='address', keep='last', inplace=True)\n",
    "    temp_df.to_csv(csv_path, index=False)\n",
    "    print(f\"Data saved to {csv_path}\")\n",
    "    \n",
    "    return temp_df"
   ]
  },
  {
   "cell_type": "code",
   "execution_count": 188,
   "metadata": {
    "ExecuteTime": {
     "end_time": "2024-05-07T16:14:47.430542Z",
     "start_time": "2024-05-07T16:14:47.357734Z"
    }
   },
   "outputs": [],
   "source": [
    "geocoded_file = 'datasets/geocoded_addresses.csv'\n",
    "df_geocoded = pd.read_csv(geocoded_file)\n",
    "df_unique = df_geocoded.drop_duplicates()\n",
    "location_df \n",
    "df_unique.to_csv(geocoded_file, index=False)"
   ]
  },
  {
   "cell_type": "code",
   "execution_count": 206,
   "metadata": {
    "ExecuteTime": {
     "end_time": "2024-05-07T16:23:16.268388Z",
     "start_time": "2024-05-07T16:23:16.212874Z"
    }
   },
   "outputs": [],
   "source": [
    "df2 = pd.read_csv('datasets/geocoded_from_xlsx.csv')\n",
    "merged_df = pd.merge(df_geocoded, df2, on='address', how='left', suffixes=('', '_from_df2'))\n",
    "df_geocoded.update(merged_df.filter(like='_from_df2').rename(columns=lambda x: x.replace('_from_df2', '')))\n",
    "columns_to_drop = [col for col in df_geocoded.columns if '_from_df2' in col]\n",
    "df_geocoded.drop(columns=columns_to_drop, axis=1, inplace=True)\n",
    "df_geocoded.to_csv(geocoded_file, index=False)"
   ]
  },
  {
   "cell_type": "code",
   "execution_count": 209,
   "metadata": {
    "ExecuteTime": {
     "end_time": "2024-05-07T16:23:47.578935Z",
     "start_time": "2024-05-07T16:23:47.502617Z"
    }
   },
   "outputs": [
    {
     "name": "stdout",
     "output_type": "stream",
     "text": [
      "Rows needing geocoding: 0\n",
      "Data saved to datasets/geocoded_addresses.csv\n"
     ]
    }
   ],
   "source": [
    "location_df = geocode_and_save(location_df)"
   ]
  },
  {
   "cell_type": "code",
   "execution_count": 208,
   "metadata": {
    "ExecuteTime": {
     "end_time": "2024-05-07T16:23:41.580881Z",
     "start_time": "2024-05-07T16:23:41.572663Z"
    }
   },
   "outputs": [
    {
     "data": {
      "text/html": [
       "<div>\n",
       "<style scoped>\n",
       "    .dataframe tbody tr th:only-of-type {\n",
       "        vertical-align: middle;\n",
       "    }\n",
       "\n",
       "    .dataframe tbody tr th {\n",
       "        vertical-align: top;\n",
       "    }\n",
       "\n",
       "    .dataframe thead th {\n",
       "        text-align: right;\n",
       "    }\n",
       "</style>\n",
       "<table border=\"1\" class=\"dataframe\">\n",
       "  <thead>\n",
       "    <tr style=\"text-align: right;\">\n",
       "      <th></th>\n",
       "      <th>address</th>\n",
       "      <th>manipulated address</th>\n",
       "      <th>location</th>\n",
       "      <th>latitude</th>\n",
       "      <th>longitude</th>\n",
       "    </tr>\n",
       "  </thead>\n",
       "  <tbody>\n",
       "  </tbody>\n",
       "</table>\n",
       "</div>"
      ],
      "text/plain": [
       "Empty DataFrame\n",
       "Columns: [address, manipulated address, location, latitude, longitude]\n",
       "Index: []"
      ]
     },
     "execution_count": 208,
     "metadata": {},
     "output_type": "execute_result"
    }
   ],
   "source": [
    "location_df[location_df['location'].isna()] "
   ]
  },
  {
   "cell_type": "code",
   "execution_count": 195,
   "metadata": {
    "ExecuteTime": {
     "end_time": "2024-05-07T16:17:16.582578Z",
     "start_time": "2024-05-07T16:17:16.569938Z"
    }
   },
   "outputs": [],
   "source": [
    "location_df.loc[location_df['location'].isna(), 'manipulated address'] = location_df['manipulated address'].str.replace(r',.*?, Kraków, małopolskie', ', Kraków, małopolskie', regex=True)"
   ]
  },
  {
   "cell_type": "code",
   "execution_count": 120,
   "metadata": {
    "ExecuteTime": {
     "end_time": "2024-05-05T23:12:10.446623Z",
     "start_time": "2024-05-05T23:12:10.436648Z"
    }
   },
   "outputs": [],
   "source": [
    "location_df.loc[location_df['location'].isna(), 'manipulated address'] = location_df['manipulated address'].str.replace(r'^(ul\\. |ul\\.|os\\. |U |Ok\\. |abp\\. |al\\. |mrj\\.|Św\\. |Aleja gen\\. |Św\\. |prof\\. |gen\\. )', '', regex=True)"
   ]
  },
  {
   "cell_type": "code",
   "execution_count": 122,
   "metadata": {
    "ExecuteTime": {
     "end_time": "2024-05-05T23:12:43.628052Z",
     "start_time": "2024-05-05T23:12:43.619537Z"
    }
   },
   "outputs": [],
   "source": [
    "phrases_to_remove = [\n",
    "    \"okolice\", \"Wykończone inwestycyjne mieszkanie\", \"garsoniera wypoczynkowa\",\n",
    "    \"⭐️ obok tramwaj\", \"EKOPARK\", r\"\\| brak pcc \\|\", \"wykończone bez PCC\",\n",
    "    \"przy UP\", \"/bez pośredników\", \"- dwupoziomowe mieszkanie w centrum\",\n",
    "    \" ENG\", r\"\\(Os\\.Piastow\", \" z ogródkiem\", \" - Bezpośrednio\", \" - stan deweloperski\",\n",
    "    r\"\\/ nowy apartament\\/\", \" - Wykończone\", \" Tbs\"\n",
    "    ]\n",
    "\n",
    "# Create a regex pattern string to match any of the phrases\n",
    "phrases_pattern = r'|'.join([re.escape(phrase) for phrase in phrases_to_remove])\n",
    "\n",
    "# Apply regex only where location is NaN\n",
    "location_df.loc[location_df['location'].isna(), 'manipulated address'] = \\\n",
    "    location_df.loc[location_df['location'].isna(), 'manipulated address'].str.replace(phrases_pattern, '', regex=True)\n"
   ]
  },
  {
   "cell_type": "code",
   "execution_count": 124,
   "metadata": {
    "ExecuteTime": {
     "end_time": "2024-05-05T23:13:24.182739Z",
     "start_time": "2024-05-05T23:13:24.169706Z"
    }
   },
   "outputs": [],
   "source": [
    "location_df.loc[location_df['location'].isna(), 'manipulated address'] = location_df[location_df['location'].isna()]['manipulated address'].str.replace(r'^-\\s*,', ',', regex=True)\n",
    "location_df.loc[location_df['location'].isna(), 'manipulated address'] = location_df[location_df['location'].isna()]['manipulated address'].str.replace(r'^iej,', 'a,', regex=True)\n",
    "location_df.loc[location_df['location'].isna(), 'manipulated address'] = location_df[location_df['location'].isna()]['manipulated address'].str.replace(r'^ej,', 'a,', regex=True)"
   ]
  },
  {
   "cell_type": "code",
   "execution_count": 126,
   "metadata": {
    "ExecuteTime": {
     "end_time": "2024-05-05T23:14:55.309917Z",
     "start_time": "2024-05-05T23:14:55.190901Z"
    }
   },
   "outputs": [
    {
     "ename": "FileNotFoundError",
     "evalue": "[Errno 2] No such file or directory: 'geocoded_addresses.csv'",
     "output_type": "error",
     "traceback": [
      "\u001B[1;31m---------------------------------------------------------------------------\u001B[0m",
      "\u001B[1;31mFileNotFoundError\u001B[0m                         Traceback (most recent call last)",
      "Cell \u001B[1;32mIn[126], line 1\u001B[0m\n\u001B[1;32m----> 1\u001B[0m existing_df \u001B[38;5;241m=\u001B[39m \u001B[43mpd\u001B[49m\u001B[38;5;241;43m.\u001B[39;49m\u001B[43mread_csv\u001B[49m\u001B[43m(\u001B[49m\u001B[38;5;124;43m\"\u001B[39;49m\u001B[38;5;124;43mgeocoded_addresses.csv\u001B[39;49m\u001B[38;5;124;43m\"\u001B[39;49m\u001B[43m)\u001B[49m\n\u001B[0;32m      2\u001B[0m condition \u001B[38;5;241m=\u001B[39m existing_df[\u001B[38;5;124m'\u001B[39m\u001B[38;5;124mlocation\u001B[39m\u001B[38;5;124m'\u001B[39m] \u001B[38;5;241m==\u001B[39m \u001B[38;5;124m\"\u001B[39m\u001B[38;5;124mKraków, województwo małopolskie, Polska\u001B[39m\u001B[38;5;124m\"\u001B[39m\n\u001B[0;32m      3\u001B[0m existing_df\u001B[38;5;241m.\u001B[39mloc[condition, [\u001B[38;5;124m'\u001B[39m\u001B[38;5;124mlocation\u001B[39m\u001B[38;5;124m'\u001B[39m, \u001B[38;5;124m'\u001B[39m\u001B[38;5;124mlatitude\u001B[39m\u001B[38;5;124m'\u001B[39m, \u001B[38;5;124m'\u001B[39m\u001B[38;5;124mlongitude\u001B[39m\u001B[38;5;124m'\u001B[39m]] \u001B[38;5;241m=\u001B[39m \u001B[38;5;28;01mNone\u001B[39;00m\n",
      "File \u001B[1;32mD:\\AGH_studia\\semestr1\\Eksploracja Danych\\ED2024\\venv\\Lib\\site-packages\\pandas\\io\\parsers\\readers.py:1026\u001B[0m, in \u001B[0;36mread_csv\u001B[1;34m(filepath_or_buffer, sep, delimiter, header, names, index_col, usecols, dtype, engine, converters, true_values, false_values, skipinitialspace, skiprows, skipfooter, nrows, na_values, keep_default_na, na_filter, verbose, skip_blank_lines, parse_dates, infer_datetime_format, keep_date_col, date_parser, date_format, dayfirst, cache_dates, iterator, chunksize, compression, thousands, decimal, lineterminator, quotechar, quoting, doublequote, escapechar, comment, encoding, encoding_errors, dialect, on_bad_lines, delim_whitespace, low_memory, memory_map, float_precision, storage_options, dtype_backend)\u001B[0m\n\u001B[0;32m   1013\u001B[0m kwds_defaults \u001B[38;5;241m=\u001B[39m _refine_defaults_read(\n\u001B[0;32m   1014\u001B[0m     dialect,\n\u001B[0;32m   1015\u001B[0m     delimiter,\n\u001B[1;32m   (...)\u001B[0m\n\u001B[0;32m   1022\u001B[0m     dtype_backend\u001B[38;5;241m=\u001B[39mdtype_backend,\n\u001B[0;32m   1023\u001B[0m )\n\u001B[0;32m   1024\u001B[0m kwds\u001B[38;5;241m.\u001B[39mupdate(kwds_defaults)\n\u001B[1;32m-> 1026\u001B[0m \u001B[38;5;28;01mreturn\u001B[39;00m \u001B[43m_read\u001B[49m\u001B[43m(\u001B[49m\u001B[43mfilepath_or_buffer\u001B[49m\u001B[43m,\u001B[49m\u001B[43m \u001B[49m\u001B[43mkwds\u001B[49m\u001B[43m)\u001B[49m\n",
      "File \u001B[1;32mD:\\AGH_studia\\semestr1\\Eksploracja Danych\\ED2024\\venv\\Lib\\site-packages\\pandas\\io\\parsers\\readers.py:620\u001B[0m, in \u001B[0;36m_read\u001B[1;34m(filepath_or_buffer, kwds)\u001B[0m\n\u001B[0;32m    617\u001B[0m _validate_names(kwds\u001B[38;5;241m.\u001B[39mget(\u001B[38;5;124m\"\u001B[39m\u001B[38;5;124mnames\u001B[39m\u001B[38;5;124m\"\u001B[39m, \u001B[38;5;28;01mNone\u001B[39;00m))\n\u001B[0;32m    619\u001B[0m \u001B[38;5;66;03m# Create the parser.\u001B[39;00m\n\u001B[1;32m--> 620\u001B[0m parser \u001B[38;5;241m=\u001B[39m \u001B[43mTextFileReader\u001B[49m\u001B[43m(\u001B[49m\u001B[43mfilepath_or_buffer\u001B[49m\u001B[43m,\u001B[49m\u001B[43m \u001B[49m\u001B[38;5;241;43m*\u001B[39;49m\u001B[38;5;241;43m*\u001B[39;49m\u001B[43mkwds\u001B[49m\u001B[43m)\u001B[49m\n\u001B[0;32m    622\u001B[0m \u001B[38;5;28;01mif\u001B[39;00m chunksize \u001B[38;5;129;01mor\u001B[39;00m iterator:\n\u001B[0;32m    623\u001B[0m     \u001B[38;5;28;01mreturn\u001B[39;00m parser\n",
      "File \u001B[1;32mD:\\AGH_studia\\semestr1\\Eksploracja Danych\\ED2024\\venv\\Lib\\site-packages\\pandas\\io\\parsers\\readers.py:1620\u001B[0m, in \u001B[0;36mTextFileReader.__init__\u001B[1;34m(self, f, engine, **kwds)\u001B[0m\n\u001B[0;32m   1617\u001B[0m     \u001B[38;5;28mself\u001B[39m\u001B[38;5;241m.\u001B[39moptions[\u001B[38;5;124m\"\u001B[39m\u001B[38;5;124mhas_index_names\u001B[39m\u001B[38;5;124m\"\u001B[39m] \u001B[38;5;241m=\u001B[39m kwds[\u001B[38;5;124m\"\u001B[39m\u001B[38;5;124mhas_index_names\u001B[39m\u001B[38;5;124m\"\u001B[39m]\n\u001B[0;32m   1619\u001B[0m \u001B[38;5;28mself\u001B[39m\u001B[38;5;241m.\u001B[39mhandles: IOHandles \u001B[38;5;241m|\u001B[39m \u001B[38;5;28;01mNone\u001B[39;00m \u001B[38;5;241m=\u001B[39m \u001B[38;5;28;01mNone\u001B[39;00m\n\u001B[1;32m-> 1620\u001B[0m \u001B[38;5;28mself\u001B[39m\u001B[38;5;241m.\u001B[39m_engine \u001B[38;5;241m=\u001B[39m \u001B[38;5;28;43mself\u001B[39;49m\u001B[38;5;241;43m.\u001B[39;49m\u001B[43m_make_engine\u001B[49m\u001B[43m(\u001B[49m\u001B[43mf\u001B[49m\u001B[43m,\u001B[49m\u001B[43m \u001B[49m\u001B[38;5;28;43mself\u001B[39;49m\u001B[38;5;241;43m.\u001B[39;49m\u001B[43mengine\u001B[49m\u001B[43m)\u001B[49m\n",
      "File \u001B[1;32mD:\\AGH_studia\\semestr1\\Eksploracja Danych\\ED2024\\venv\\Lib\\site-packages\\pandas\\io\\parsers\\readers.py:1880\u001B[0m, in \u001B[0;36mTextFileReader._make_engine\u001B[1;34m(self, f, engine)\u001B[0m\n\u001B[0;32m   1878\u001B[0m     \u001B[38;5;28;01mif\u001B[39;00m \u001B[38;5;124m\"\u001B[39m\u001B[38;5;124mb\u001B[39m\u001B[38;5;124m\"\u001B[39m \u001B[38;5;129;01mnot\u001B[39;00m \u001B[38;5;129;01min\u001B[39;00m mode:\n\u001B[0;32m   1879\u001B[0m         mode \u001B[38;5;241m+\u001B[39m\u001B[38;5;241m=\u001B[39m \u001B[38;5;124m\"\u001B[39m\u001B[38;5;124mb\u001B[39m\u001B[38;5;124m\"\u001B[39m\n\u001B[1;32m-> 1880\u001B[0m \u001B[38;5;28mself\u001B[39m\u001B[38;5;241m.\u001B[39mhandles \u001B[38;5;241m=\u001B[39m \u001B[43mget_handle\u001B[49m\u001B[43m(\u001B[49m\n\u001B[0;32m   1881\u001B[0m \u001B[43m    \u001B[49m\u001B[43mf\u001B[49m\u001B[43m,\u001B[49m\n\u001B[0;32m   1882\u001B[0m \u001B[43m    \u001B[49m\u001B[43mmode\u001B[49m\u001B[43m,\u001B[49m\n\u001B[0;32m   1883\u001B[0m \u001B[43m    \u001B[49m\u001B[43mencoding\u001B[49m\u001B[38;5;241;43m=\u001B[39;49m\u001B[38;5;28;43mself\u001B[39;49m\u001B[38;5;241;43m.\u001B[39;49m\u001B[43moptions\u001B[49m\u001B[38;5;241;43m.\u001B[39;49m\u001B[43mget\u001B[49m\u001B[43m(\u001B[49m\u001B[38;5;124;43m\"\u001B[39;49m\u001B[38;5;124;43mencoding\u001B[39;49m\u001B[38;5;124;43m\"\u001B[39;49m\u001B[43m,\u001B[49m\u001B[43m \u001B[49m\u001B[38;5;28;43;01mNone\u001B[39;49;00m\u001B[43m)\u001B[49m\u001B[43m,\u001B[49m\n\u001B[0;32m   1884\u001B[0m \u001B[43m    \u001B[49m\u001B[43mcompression\u001B[49m\u001B[38;5;241;43m=\u001B[39;49m\u001B[38;5;28;43mself\u001B[39;49m\u001B[38;5;241;43m.\u001B[39;49m\u001B[43moptions\u001B[49m\u001B[38;5;241;43m.\u001B[39;49m\u001B[43mget\u001B[49m\u001B[43m(\u001B[49m\u001B[38;5;124;43m\"\u001B[39;49m\u001B[38;5;124;43mcompression\u001B[39;49m\u001B[38;5;124;43m\"\u001B[39;49m\u001B[43m,\u001B[49m\u001B[43m \u001B[49m\u001B[38;5;28;43;01mNone\u001B[39;49;00m\u001B[43m)\u001B[49m\u001B[43m,\u001B[49m\n\u001B[0;32m   1885\u001B[0m \u001B[43m    \u001B[49m\u001B[43mmemory_map\u001B[49m\u001B[38;5;241;43m=\u001B[39;49m\u001B[38;5;28;43mself\u001B[39;49m\u001B[38;5;241;43m.\u001B[39;49m\u001B[43moptions\u001B[49m\u001B[38;5;241;43m.\u001B[39;49m\u001B[43mget\u001B[49m\u001B[43m(\u001B[49m\u001B[38;5;124;43m\"\u001B[39;49m\u001B[38;5;124;43mmemory_map\u001B[39;49m\u001B[38;5;124;43m\"\u001B[39;49m\u001B[43m,\u001B[49m\u001B[43m \u001B[49m\u001B[38;5;28;43;01mFalse\u001B[39;49;00m\u001B[43m)\u001B[49m\u001B[43m,\u001B[49m\n\u001B[0;32m   1886\u001B[0m \u001B[43m    \u001B[49m\u001B[43mis_text\u001B[49m\u001B[38;5;241;43m=\u001B[39;49m\u001B[43mis_text\u001B[49m\u001B[43m,\u001B[49m\n\u001B[0;32m   1887\u001B[0m \u001B[43m    \u001B[49m\u001B[43merrors\u001B[49m\u001B[38;5;241;43m=\u001B[39;49m\u001B[38;5;28;43mself\u001B[39;49m\u001B[38;5;241;43m.\u001B[39;49m\u001B[43moptions\u001B[49m\u001B[38;5;241;43m.\u001B[39;49m\u001B[43mget\u001B[49m\u001B[43m(\u001B[49m\u001B[38;5;124;43m\"\u001B[39;49m\u001B[38;5;124;43mencoding_errors\u001B[39;49m\u001B[38;5;124;43m\"\u001B[39;49m\u001B[43m,\u001B[49m\u001B[43m \u001B[49m\u001B[38;5;124;43m\"\u001B[39;49m\u001B[38;5;124;43mstrict\u001B[39;49m\u001B[38;5;124;43m\"\u001B[39;49m\u001B[43m)\u001B[49m\u001B[43m,\u001B[49m\n\u001B[0;32m   1888\u001B[0m \u001B[43m    \u001B[49m\u001B[43mstorage_options\u001B[49m\u001B[38;5;241;43m=\u001B[39;49m\u001B[38;5;28;43mself\u001B[39;49m\u001B[38;5;241;43m.\u001B[39;49m\u001B[43moptions\u001B[49m\u001B[38;5;241;43m.\u001B[39;49m\u001B[43mget\u001B[49m\u001B[43m(\u001B[49m\u001B[38;5;124;43m\"\u001B[39;49m\u001B[38;5;124;43mstorage_options\u001B[39;49m\u001B[38;5;124;43m\"\u001B[39;49m\u001B[43m,\u001B[49m\u001B[43m \u001B[49m\u001B[38;5;28;43;01mNone\u001B[39;49;00m\u001B[43m)\u001B[49m\u001B[43m,\u001B[49m\n\u001B[0;32m   1889\u001B[0m \u001B[43m\u001B[49m\u001B[43m)\u001B[49m\n\u001B[0;32m   1890\u001B[0m \u001B[38;5;28;01massert\u001B[39;00m \u001B[38;5;28mself\u001B[39m\u001B[38;5;241m.\u001B[39mhandles \u001B[38;5;129;01mis\u001B[39;00m \u001B[38;5;129;01mnot\u001B[39;00m \u001B[38;5;28;01mNone\u001B[39;00m\n\u001B[0;32m   1891\u001B[0m f \u001B[38;5;241m=\u001B[39m \u001B[38;5;28mself\u001B[39m\u001B[38;5;241m.\u001B[39mhandles\u001B[38;5;241m.\u001B[39mhandle\n",
      "File \u001B[1;32mD:\\AGH_studia\\semestr1\\Eksploracja Danych\\ED2024\\venv\\Lib\\site-packages\\pandas\\io\\common.py:873\u001B[0m, in \u001B[0;36mget_handle\u001B[1;34m(path_or_buf, mode, encoding, compression, memory_map, is_text, errors, storage_options)\u001B[0m\n\u001B[0;32m    868\u001B[0m \u001B[38;5;28;01melif\u001B[39;00m \u001B[38;5;28misinstance\u001B[39m(handle, \u001B[38;5;28mstr\u001B[39m):\n\u001B[0;32m    869\u001B[0m     \u001B[38;5;66;03m# Check whether the filename is to be opened in binary mode.\u001B[39;00m\n\u001B[0;32m    870\u001B[0m     \u001B[38;5;66;03m# Binary mode does not support 'encoding' and 'newline'.\u001B[39;00m\n\u001B[0;32m    871\u001B[0m     \u001B[38;5;28;01mif\u001B[39;00m ioargs\u001B[38;5;241m.\u001B[39mencoding \u001B[38;5;129;01mand\u001B[39;00m \u001B[38;5;124m\"\u001B[39m\u001B[38;5;124mb\u001B[39m\u001B[38;5;124m\"\u001B[39m \u001B[38;5;129;01mnot\u001B[39;00m \u001B[38;5;129;01min\u001B[39;00m ioargs\u001B[38;5;241m.\u001B[39mmode:\n\u001B[0;32m    872\u001B[0m         \u001B[38;5;66;03m# Encoding\u001B[39;00m\n\u001B[1;32m--> 873\u001B[0m         handle \u001B[38;5;241m=\u001B[39m \u001B[38;5;28mopen\u001B[39m(\n\u001B[0;32m    874\u001B[0m             handle,\n\u001B[0;32m    875\u001B[0m             ioargs\u001B[38;5;241m.\u001B[39mmode,\n\u001B[0;32m    876\u001B[0m             encoding\u001B[38;5;241m=\u001B[39mioargs\u001B[38;5;241m.\u001B[39mencoding,\n\u001B[0;32m    877\u001B[0m             errors\u001B[38;5;241m=\u001B[39merrors,\n\u001B[0;32m    878\u001B[0m             newline\u001B[38;5;241m=\u001B[39m\u001B[38;5;124m\"\u001B[39m\u001B[38;5;124m\"\u001B[39m,\n\u001B[0;32m    879\u001B[0m         )\n\u001B[0;32m    880\u001B[0m     \u001B[38;5;28;01melse\u001B[39;00m:\n\u001B[0;32m    881\u001B[0m         \u001B[38;5;66;03m# Binary mode\u001B[39;00m\n\u001B[0;32m    882\u001B[0m         handle \u001B[38;5;241m=\u001B[39m \u001B[38;5;28mopen\u001B[39m(handle, ioargs\u001B[38;5;241m.\u001B[39mmode)\n",
      "\u001B[1;31mFileNotFoundError\u001B[0m: [Errno 2] No such file or directory: 'geocoded_addresses.csv'"
     ]
    }
   ],
   "source": [
    "existing_df = pd.read_csv(\"geocoded_addresses.csv\")\n",
    "condition = existing_df['location'] == \"Kraków, województwo małopolskie, Polska\"\n",
    "existing_df.loc[condition, ['location', 'latitude', 'longitude']] = None\n",
    "existing_df.to_csv(\"geocoded_addresses.csv\", index=False)"
   ]
  },
  {
   "cell_type": "code",
   "execution_count": 127,
   "metadata": {
    "ExecuteTime": {
     "end_time": "2024-05-05T23:15:11.510409Z",
     "start_time": "2024-05-05T23:15:11.496943Z"
    }
   },
   "outputs": [
    {
     "data": {
      "text/html": [
       "<div>\n",
       "<style scoped>\n",
       "    .dataframe tbody tr th:only-of-type {\n",
       "        vertical-align: middle;\n",
       "    }\n",
       "\n",
       "    .dataframe tbody tr th {\n",
       "        vertical-align: top;\n",
       "    }\n",
       "\n",
       "    .dataframe thead th {\n",
       "        text-align: right;\n",
       "    }\n",
       "</style>\n",
       "<table border=\"1\" class=\"dataframe\">\n",
       "  <thead>\n",
       "    <tr style=\"text-align: right;\">\n",
       "      <th></th>\n",
       "      <th>address</th>\n",
       "      <th>manipulated address</th>\n",
       "      <th>location</th>\n",
       "      <th>latitude</th>\n",
       "      <th>longitude</th>\n",
       "    </tr>\n",
       "  </thead>\n",
       "  <tbody>\n",
       "    <tr>\n",
       "      <th>68013</th>\n",
       "      <td>64108, Kraków, małopolskie</td>\n",
       "      <td>64108, Kraków, małopolskie</td>\n",
       "      <td>Kraków, województwo małopolskie, Polska</td>\n",
       "      <td>50.061947</td>\n",
       "      <td>19.936856</td>\n",
       "    </tr>\n",
       "    <tr>\n",
       "      <th>68429</th>\n",
       "      <td>Kraków, małopolskie</td>\n",
       "      <td>Kraków, małopolskie</td>\n",
       "      <td>Kraków, województwo małopolskie, Polska</td>\n",
       "      <td>50.046943</td>\n",
       "      <td>19.997153</td>\n",
       "    </tr>\n",
       "  </tbody>\n",
       "</table>\n",
       "</div>"
      ],
      "text/plain": [
       "                          address         manipulated address  \\\n",
       "68013  64108, Kraków, małopolskie  64108, Kraków, małopolskie   \n",
       "68429         Kraków, małopolskie         Kraków, małopolskie   \n",
       "\n",
       "                                      location   latitude  longitude  \n",
       "68013  Kraków, województwo małopolskie, Polska  50.061947  19.936856  \n",
       "68429  Kraków, województwo małopolskie, Polska  50.046943  19.997153  "
      ]
     },
     "execution_count": 127,
     "metadata": {},
     "output_type": "execute_result"
    }
   ],
   "source": [
    "location_df[location_df['location'] == \"Kraków, województwo małopolskie, Polska\"]"
   ]
  },
  {
   "cell_type": "code",
   "execution_count": 202,
   "metadata": {
    "ExecuteTime": {
     "end_time": "2024-05-07T16:19:04.476111Z",
     "start_time": "2024-05-07T16:19:03.924321Z"
    }
   },
   "outputs": [],
   "source": [
    "# import openpyxl\n",
    "na_location = location_df[location_df['location'].isna()]\n",
    "na_location.to_excel(\"temp.xlsx\", index=False)"
   ]
  },
  {
   "cell_type": "code",
   "execution_count": 205,
   "metadata": {
    "ExecuteTime": {
     "end_time": "2024-05-07T16:21:43.236455Z",
     "start_time": "2024-05-07T16:21:42.935455Z"
    }
   },
   "outputs": [
    {
     "name": "stdout",
     "output_type": "stream",
     "text": [
      "Rows needing geocoding: 1\n",
      "Krzemieniecka, Barycz, Kosocice, Swoszowice, Kraków, województwo małopolskie, 30-699, Polska, 49.9835607, 19.9961567\n",
      "Data saved to datasets/geocoded_from_xlsx.csv\n"
     ]
    },
    {
     "data": {
      "text/html": [
       "<div>\n",
       "<style scoped>\n",
       "    .dataframe tbody tr th:only-of-type {\n",
       "        vertical-align: middle;\n",
       "    }\n",
       "\n",
       "    .dataframe tbody tr th {\n",
       "        vertical-align: top;\n",
       "    }\n",
       "\n",
       "    .dataframe thead th {\n",
       "        text-align: right;\n",
       "    }\n",
       "</style>\n",
       "<table border=\"1\" class=\"dataframe\">\n",
       "  <thead>\n",
       "    <tr style=\"text-align: right;\">\n",
       "      <th></th>\n",
       "      <th>address</th>\n",
       "      <th>manipulated address</th>\n",
       "      <th>location</th>\n",
       "      <th>latitude</th>\n",
       "      <th>longitude</th>\n",
       "    </tr>\n",
       "  </thead>\n",
       "  <tbody>\n",
       "    <tr>\n",
       "      <th>0</th>\n",
       "      <td>Kuźnicy K - OD WŁAŚCICIELA, Górka Narodowa, Pr...</td>\n",
       "      <td>Kuźnicy Kołłątajowskiej, Górka Narodowa, Prądn...</td>\n",
       "      <td>Kuźnicy Kołłątajowskiej, Górka Narodowa, Prądn...</td>\n",
       "      <td>50.098114</td>\n",
       "      <td>19.959952</td>\n",
       "    </tr>\n",
       "    <tr>\n",
       "      <th>1</th>\n",
       "      <td>Krzemienicka Prokocim z ogrodem, Kosocice, Swo...</td>\n",
       "      <td>Krzemieniecka, Kosocice, Swoszowice, Kraków, ...</td>\n",
       "      <td>Krzemieniecka, Barycz, Kosocice, Swoszowice, K...</td>\n",
       "      <td>49.983561</td>\n",
       "      <td>19.996157</td>\n",
       "    </tr>\n",
       "  </tbody>\n",
       "</table>\n",
       "</div>"
      ],
      "text/plain": [
       "                                             address  \\\n",
       "0  Kuźnicy K - OD WŁAŚCICIELA, Górka Narodowa, Pr...   \n",
       "1  Krzemienicka Prokocim z ogrodem, Kosocice, Swo...   \n",
       "\n",
       "                                 manipulated address  \\\n",
       "0  Kuźnicy Kołłątajowskiej, Górka Narodowa, Prądn...   \n",
       "1   Krzemieniecka, Kosocice, Swoszowice, Kraków, ...   \n",
       "\n",
       "                                            location   latitude  longitude  \n",
       "0  Kuźnicy Kołłątajowskiej, Górka Narodowa, Prądn...  50.098114  19.959952  \n",
       "1  Krzemieniecka, Barycz, Kosocice, Swoszowice, K...  49.983561  19.996157  "
      ]
     },
     "execution_count": 205,
     "metadata": {},
     "output_type": "execute_result"
    }
   ],
   "source": [
    "geocode_and_save(pd.read_excel(\"temp.xlsx\"), 'datasets/geocoded_from_xlsx.csv')"
   ]
  },
  {
   "cell_type": "code",
   "execution_count": 168,
   "metadata": {
    "ExecuteTime": {
     "end_time": "2024-05-05T23:55:26.758718Z",
     "start_time": "2024-05-05T23:55:26.748197Z"
    }
   },
   "outputs": [
    {
     "data": {
      "text/html": [
       "<div>\n",
       "<style scoped>\n",
       "    .dataframe tbody tr th:only-of-type {\n",
       "        vertical-align: middle;\n",
       "    }\n",
       "\n",
       "    .dataframe tbody tr th {\n",
       "        vertical-align: top;\n",
       "    }\n",
       "\n",
       "    .dataframe thead th {\n",
       "        text-align: right;\n",
       "    }\n",
       "</style>\n",
       "<table border=\"1\" class=\"dataframe\">\n",
       "  <thead>\n",
       "    <tr style=\"text-align: right;\">\n",
       "      <th></th>\n",
       "      <th>address</th>\n",
       "      <th>manipulated address</th>\n",
       "      <th>location</th>\n",
       "      <th>latitude</th>\n",
       "      <th>longitude</th>\n",
       "    </tr>\n",
       "  </thead>\n",
       "  <tbody>\n",
       "    <tr>\n",
       "      <th>1153</th>\n",
       "      <td>Kuźnicy K - OD WŁAŚCICIELA, Górka Narodowa, Pr...</td>\n",
       "      <td>Kuźnicy K - OD WŁAŚCICIELA, Górka Narodowa, Pr...</td>\n",
       "      <td>None</td>\n",
       "      <td>None</td>\n",
       "      <td>None</td>\n",
       "    </tr>\n",
       "    <tr>\n",
       "      <th>2894</th>\n",
       "      <td>Krzemienicka Prokocim z ogrodem, Kosocice, Swo...</td>\n",
       "      <td>Krzemienicka Prokocim z ogrodem, Kosocice, Swo...</td>\n",
       "      <td>None</td>\n",
       "      <td>None</td>\n",
       "      <td>None</td>\n",
       "    </tr>\n",
       "  </tbody>\n",
       "</table>\n",
       "</div>"
      ],
      "text/plain": [
       "                                                address  \\\n",
       "1153  Kuźnicy K - OD WŁAŚCICIELA, Górka Narodowa, Pr...   \n",
       "2894  Krzemienicka Prokocim z ogrodem, Kosocice, Swo...   \n",
       "\n",
       "                                    manipulated address location latitude  \\\n",
       "1153  Kuźnicy K - OD WŁAŚCICIELA, Górka Narodowa, Pr...     None     None   \n",
       "2894  Krzemienicka Prokocim z ogrodem, Kosocice, Swo...     None     None   \n",
       "\n",
       "     longitude  \n",
       "1153      None  \n",
       "2894      None  "
      ]
     },
     "execution_count": 168,
     "metadata": {},
     "output_type": "execute_result"
    }
   ],
   "source": [
    "na_location[na_location['location'].isna()]"
   ]
  },
  {
   "cell_type": "code",
   "execution_count": 210,
   "metadata": {
    "ExecuteTime": {
     "end_time": "2024-05-07T16:24:02.597106Z",
     "start_time": "2024-05-07T16:24:02.570445Z"
    }
   },
   "outputs": [],
   "source": [
    "merged_df = pd.merge(\n",
    "    df_filtered_sorted_apartments, \n",
    "    location_df[['address', 'location', 'latitude', 'longitude']], \n",
    "    on='address', \n",
    "    how='left'\n",
    ")\n",
    "\n",
    "needs_update = merged_df['location'].isna()\n",
    "merged_df.loc[needs_update, 'location'] = merged_df.loc[needs_update, 'location']\n",
    "merged_df.loc[needs_update, 'latitude'] = merged_df.loc[needs_update, 'latitude']\n",
    "merged_df.loc[needs_update, 'longitude'] = merged_df.loc[needs_update, 'longitude']\n",
    "\n",
    "df_filtered_sorted_apartments = merged_df\n"
   ]
  },
  {
   "cell_type": "code",
   "execution_count": 211,
   "metadata": {
    "ExecuteTime": {
     "end_time": "2024-05-07T16:24:08.917453Z",
     "start_time": "2024-05-07T16:24:08.908853Z"
    }
   },
   "outputs": [],
   "source": [
    "df_filtered_sorted_apartments = df_filtered_sorted_apartments[df_filtered_sorted_apartments['location'] != \"Kraków, województwo małopolskie, Polska\"]"
   ]
  },
  {
   "cell_type": "markdown",
   "metadata": {},
   "source": [
    "## Calculating Distance from the City Center"
   ]
  },
  {
   "cell_type": "code",
   "execution_count": 213,
   "metadata": {
    "ExecuteTime": {
     "end_time": "2024-05-07T16:25:52.090747Z",
     "start_time": "2024-05-07T16:25:52.084363Z"
    }
   },
   "outputs": [],
   "source": [
    "# https://en.wikipedia.org/wiki/Haversine_formula\n",
    "def haversine(lat1, lon1, lat2, lon2):\n",
    "    lat1, lon1, lat2, lon2 = map(np.radians, [lat1, lon1, lat2, lon2])\n",
    "    \n",
    "    dlat = lat2 - lat1\n",
    "    dlon = lon2 - lon1\n",
    "    a = np.sin(dlat/2)**2 + np.cos(lat1) * np.cos(lat2) * np.sin(dlon/2)**2\n",
    "    c = 2 * np.arcsin(np.sqrt(a))\n",
    "    \n",
    "    r = 6371\n",
    "    \n",
    "    return c * r"
   ]
  },
  {
   "cell_type": "code",
   "execution_count": 214,
   "metadata": {
    "ExecuteTime": {
     "end_time": "2024-05-07T16:25:55.062600Z",
     "start_time": "2024-05-07T16:25:55.058885Z"
    }
   },
   "outputs": [],
   "source": [
    "# Center of the Cloth Hall\n",
    "city_center_lat = 50.061853457016106\n",
    "city_center_lon = 19.937306011671154"
   ]
  },
  {
   "cell_type": "code",
   "execution_count": null,
   "metadata": {},
   "outputs": [],
   "source": [
    "df_filtered_sorted_apartments['distance'] = df_filtered_sorted_apartments.apply(\n",
    "    lambda row: haversine(city_center_lat, city_center_lon, row['latitude'], row['longitude']),\n",
    "    axis=1\n",
    ")"
   ]
  },
  {
   "cell_type": "code",
   "execution_count": null,
   "metadata": {},
   "outputs": [],
   "source": [
    "# Extracting districts\n",
    "df_filtered_sorted_apartments['district'] = df_filtered_sorted_apartments['location'].str.extract(r'(?:^|, )([^,]+), Kraków')\n",
    "df_filtered_sorted_apartments"
   ]
  },
  {
   "cell_type": "markdown",
   "metadata": {},
   "source": [
    "### Verification of District Assignment Accuracy"
   ]
  },
  {
   "cell_type": "code",
   "execution_count": null,
   "metadata": {},
   "outputs": [],
   "source": [
    "df_filtered_sorted_apartments['district'].unique()"
   ]
  },
  {
   "cell_type": "code",
   "execution_count": null,
   "metadata": {},
   "outputs": [],
   "source": [
    "df_filtered_sorted_apartments[df_filtered_sorted_apartments['district'] == 'Rajsko']"
   ]
  },
  {
   "cell_type": "code",
   "execution_count": null,
   "metadata": {},
   "outputs": [],
   "source": [
    "df_filtered_sorted_apartments[df_filtered_sorted_apartments['district'] == 'Henryka Niewodniczańskiego']"
   ]
  },
  {
   "cell_type": "code",
   "execution_count": null,
   "metadata": {},
   "outputs": [],
   "source": [
    "df_filtered_sorted_apartments[df_filtered_sorted_apartments['district'] == 'Tytusa Chałubińskiego']"
   ]
  },
  {
   "cell_type": "code",
   "execution_count": null,
   "metadata": {},
   "outputs": [],
   "source": [
    "df_filtered_sorted_apartments[df_filtered_sorted_apartments['district'] == 'Wawel']"
   ]
  },
  {
   "cell_type": "code",
   "execution_count": null,
   "metadata": {},
   "outputs": [],
   "source": [
    "# Correcting incorrectly assigned districts\n",
    "df_filtered_sorted_apartments.loc[df_filtered_sorted_apartments['district'] == 'Tytusa Chałubińskiego', 'district'] = 'Swoszowice'\n",
    "df_filtered_sorted_apartments[df_filtered_sorted_apartments['district'] == 'Henryka Niewodniczańskiego'] = 'Swoszowice'\n",
    "df_filtered_sorted_apartments[df_filtered_sorted_apartments['district'] == 'Rajsko'] = 'Swoszowice'\n",
    "df_filtered_sorted_apartments[df_filtered_sorted_apartments['district'] == 'Wawel'] = 'Stare Miasto'"
   ]
  },
  {
   "cell_type": "code",
   "execution_count": 217,
   "metadata": {
    "ExecuteTime": {
     "end_time": "2024-05-07T16:26:11.769289Z",
     "start_time": "2024-05-07T16:26:11.755639Z"
    }
   },
   "outputs": [
    {
     "name": "stdout",
     "output_type": "stream",
     "text": [
      "7\n"
     ]
    }
   ],
   "source": [
    "print(df_filtered_sorted_apartments[df_filtered_sorted_apartments['district'].isna()].shape[0])\n",
    "df_filtered_sorted_apartments = df_filtered_sorted_apartments.dropna(subset=['district'])"
   ]
  },
  {
   "cell_type": "code",
   "execution_count": 223,
   "metadata": {
    "ExecuteTime": {
     "end_time": "2024-05-01T10:01:56.097064Z",
     "start_time": "2024-05-01T10:01:55.824558Z"
    }
   },
   "outputs": [
    {
     "name": "stdout",
     "output_type": "stream",
     "text": [
      "Zgodna, Knapówka, Libertów, gmina Mogilany, powiat krakowski, województwo małopolskie, 30-444, Polska, 49.9782828, 19.895051\n"
     ]
    },
    {
     "data": {
      "text/plain": [
       "0    Zgodna, Knapówka, Libertów, gmina Mogilany, po...\n",
       "1                                            49.978283\n",
       "2                                            19.895051\n",
       "dtype: object"
      ]
     },
     "execution_count": 223,
     "metadata": {},
     "output_type": "execute_result"
    }
   ],
   "source": [
    "temp_df = geocode('Zgodna, 32-031 Kraków, małopolskie')\n",
    "temp_df"
   ]
  },
  {
   "cell_type": "code",
   "execution_count": 218,
   "metadata": {
    "ExecuteTime": {
     "end_time": "2024-05-07T16:26:28.219289Z",
     "start_time": "2024-05-07T16:26:28.202643Z"
    }
   },
   "outputs": [
    {
     "data": {
      "text/plain": [
       "url                                       0\n",
       "name/title                                0\n",
       "address                                   0\n",
       "price                                     0\n",
       "area                                      0\n",
       "price-per-area                            0\n",
       "floor/store                               0\n",
       "no of floors/stores in the building       0\n",
       "no of rooms                               0\n",
       "year of construction                   1891\n",
       "parking space                             0\n",
       "market                                    0\n",
       "form of ownership                      2379\n",
       "location                                  0\n",
       "latitude                                  0\n",
       "longitude                                 0\n",
       "distance                                  0\n",
       "district                                  0\n",
       "dtype: int64"
      ]
     },
     "execution_count": 218,
     "metadata": {},
     "output_type": "execute_result"
    }
   ],
   "source": [
    "df_filtered_sorted_apartments.isnull().sum()"
   ]
  },
  {
   "cell_type": "code",
   "execution_count": 219,
   "metadata": {
    "ExecuteTime": {
     "end_time": "2024-05-07T16:26:34.848197Z",
     "start_time": "2024-05-07T16:26:34.819153Z"
    }
   },
   "outputs": [
    {
     "data": {
      "text/plain": [
       "14588"
      ]
     },
     "execution_count": 219,
     "metadata": {},
     "output_type": "execute_result"
    }
   ],
   "source": [
    "nan_row_count = df_filtered_sorted_apartments.isna().any(axis=1).sum()\n",
    "df_filtered_sorted_apartments.shape[0] - nan_row_count"
   ]
  },
  {
   "cell_type": "markdown",
   "metadata": {},
   "source": [
    "## Filling NaNs and Exporting Unified Dataset"
   ]
  },
  {
   "cell_type": "code",
   "execution_count": null,
   "metadata": {},
   "outputs": [],
   "source": [
    "df_filtered_sorted_apartments['year of construction'] = df_filtered_sorted_apartments['year of construction'].fillna(new_mean_year)\n",
    "df_filtered_sorted_apartments['form of ownership'] = df_filtered_sorted_apartments['form of ownership'].fillna('pełna własność')\n",
    "df_filtered_sorted_apartments.to_csv('datasets/apartments_collective.csv')"
   ]
  },
  {
   "cell_type": "markdown",
   "metadata": {},
   "source": [
    "## Removing Duplicates, Geolocation, Filling NaNs, and Exporting nieruchomosci-online Dataset"
   ]
  },
  {
   "cell_type": "code",
   "execution_count": null,
   "metadata": {},
   "outputs": [],
   "source": [
    "df_filtered_sorted_nieruchomosci = remove_duplicates(df_nieruchomosci)\n",
    "df_filtered_sorted_nieruchomosci.drop('is_duplicate', axis=1, inplace=True)\n",
    "df_filtered_sorted_nieruchomosci"
   ]
  },
  {
   "cell_type": "code",
   "execution_count": 228,
   "metadata": {
    "ExecuteTime": {
     "end_time": "2024-05-07T16:34:23.702634Z",
     "start_time": "2024-05-07T16:34:23.675349Z"
    }
   },
   "outputs": [
    {
     "data": {
      "text/html": [
       "<div>\n",
       "<style scoped>\n",
       "    .dataframe tbody tr th:only-of-type {\n",
       "        vertical-align: middle;\n",
       "    }\n",
       "\n",
       "    .dataframe tbody tr th {\n",
       "        vertical-align: top;\n",
       "    }\n",
       "\n",
       "    .dataframe thead th {\n",
       "        text-align: right;\n",
       "    }\n",
       "</style>\n",
       "<table border=\"1\" class=\"dataframe\">\n",
       "  <thead>\n",
       "    <tr style=\"text-align: right;\">\n",
       "      <th></th>\n",
       "      <th>address</th>\n",
       "      <th>location</th>\n",
       "      <th>latitude</th>\n",
       "      <th>longitude</th>\n",
       "    </tr>\n",
       "  </thead>\n",
       "  <tbody>\n",
       "    <tr>\n",
       "      <th>0</th>\n",
       "      <td>103171, Mistrzejowice, Kraków, małopolskie</td>\n",
       "      <td>Mistrzejowice, Kraków, województwo małopolskie...</td>\n",
       "      <td>50.097426</td>\n",
       "      <td>20.009603</td>\n",
       "    </tr>\n",
       "    <tr>\n",
       "      <th>1</th>\n",
       "      <td>2 Pułku Lotniczego, Kraków, małopolskie</td>\n",
       "      <td>2, Osiedle 2 Pułku Lotniczego, Czyżyny, Kraków...</td>\n",
       "      <td>50.077806</td>\n",
       "      <td>20.012307</td>\n",
       "    </tr>\n",
       "    <tr>\n",
       "      <th>2</th>\n",
       "      <td>2 Pułku Lotniczego, Kraków, małopolskie</td>\n",
       "      <td>2, Osiedle 2 Pułku Lotniczego, Czyżyny, Kraków...</td>\n",
       "      <td>50.077806</td>\n",
       "      <td>20.012307</td>\n",
       "    </tr>\n",
       "    <tr>\n",
       "      <th>3</th>\n",
       "      <td>28 Lipca 1943, Wola Justowska, Kraków, małopol...</td>\n",
       "      <td>28 Lipca 1943, Wola Justowska, Zwierzyniec, Kr...</td>\n",
       "      <td>50.062710</td>\n",
       "      <td>19.872002</td>\n",
       "    </tr>\n",
       "    <tr>\n",
       "      <th>4</th>\n",
       "      <td>28 Lipca 1943, Wola Justowska, Kraków, małopol...</td>\n",
       "      <td>28 Lipca 1943, Wola Justowska, Zwierzyniec, Kr...</td>\n",
       "      <td>50.062710</td>\n",
       "      <td>19.872002</td>\n",
       "    </tr>\n",
       "  </tbody>\n",
       "</table>\n",
       "</div>"
      ],
      "text/plain": [
       "                                             address  \\\n",
       "0         103171, Mistrzejowice, Kraków, małopolskie   \n",
       "1            2 Pułku Lotniczego, Kraków, małopolskie   \n",
       "2            2 Pułku Lotniczego, Kraków, małopolskie   \n",
       "3  28 Lipca 1943, Wola Justowska, Kraków, małopol...   \n",
       "4  28 Lipca 1943, Wola Justowska, Kraków, małopol...   \n",
       "\n",
       "                                            location   latitude  longitude  \n",
       "0  Mistrzejowice, Kraków, województwo małopolskie...  50.097426  20.009603  \n",
       "1  2, Osiedle 2 Pułku Lotniczego, Czyżyny, Kraków...  50.077806  20.012307  \n",
       "2  2, Osiedle 2 Pułku Lotniczego, Czyżyny, Kraków...  50.077806  20.012307  \n",
       "3  28 Lipca 1943, Wola Justowska, Zwierzyniec, Kr...  50.062710  19.872002  \n",
       "4  28 Lipca 1943, Wola Justowska, Zwierzyniec, Kr...  50.062710  19.872002  "
      ]
     },
     "execution_count": 228,
     "metadata": {},
     "output_type": "execute_result"
    }
   ],
   "source": [
    "merged_df = pd.merge(\n",
    "    df_filtered_sorted_nieruchomosci,\n",
    "    location_df_nieruchomosci[['address', 'location', 'latitude', 'longitude']],\n",
    "    on='address',\n",
    "    how='left',\n",
    "    suffixes=('', '_from_location')\n",
    ")\n",
    "\n",
    "\n",
    "# Check and update the original columns conditionally\n",
    "if 'location_from_location' in merged_df.columns:\n",
    "    merged_df['location'] = merged_df['location_from_location'].combine_first(merged_df['location'])\n",
    "    merged_df['latitude'] = merged_df['latitude_from_location'].combine_first(merged_df['latitude'])\n",
    "    merged_df['longitude'] = merged_df['longitude_from_location'].combine_first(merged_df['longitude'])\n",
    "\n",
    "    # Drop the _from_location columns if they exist\n",
    "    cols_to_drop = ['location_from_location', 'latitude_from_location', 'longitude_from_location']\n",
    "    cols_to_drop = [col for col in cols_to_drop if col in merged_df.columns]\n",
    "    merged_df.drop(cols_to_drop, axis=1, inplace=True)\n",
    "else:\n",
    "    needs_update = merged_df['location'].isna()\n",
    "    merged_df.loc[needs_update, 'location'] = merged_df.loc[needs_update, 'location']\n",
    "    merged_df.loc[needs_update, 'latitude'] = merged_df.loc[needs_update, 'latitude']\n",
    "    merged_df.loc[needs_update, 'longitude'] = merged_df.loc[needs_update, 'longitude']\n",
    "\n",
    "# Update the original DataFrame with the merged data\n",
    "df_filtered_sorted_nieruchomosci = merged_df\n",
    "\n",
    "\n",
    "df_filtered_sorted_nieruchomosci[['address', 'location', 'latitude', 'longitude']].head()"
   ]
  },
  {
   "cell_type": "code",
   "execution_count": 229,
   "metadata": {
    "ExecuteTime": {
     "end_time": "2024-05-07T16:34:28.129088Z",
     "start_time": "2024-05-07T16:34:28.119539Z"
    }
   },
   "outputs": [
    {
     "data": {
      "text/html": [
       "<div>\n",
       "<style scoped>\n",
       "    .dataframe tbody tr th:only-of-type {\n",
       "        vertical-align: middle;\n",
       "    }\n",
       "\n",
       "    .dataframe tbody tr th {\n",
       "        vertical-align: top;\n",
       "    }\n",
       "\n",
       "    .dataframe thead th {\n",
       "        text-align: right;\n",
       "    }\n",
       "</style>\n",
       "<table border=\"1\" class=\"dataframe\">\n",
       "  <thead>\n",
       "    <tr style=\"text-align: right;\">\n",
       "      <th></th>\n",
       "      <th>url</th>\n",
       "      <th>name/title</th>\n",
       "      <th>address</th>\n",
       "      <th>price</th>\n",
       "      <th>area</th>\n",
       "      <th>price-per-area</th>\n",
       "      <th>floor/store</th>\n",
       "      <th>no of floors/stores in the building</th>\n",
       "      <th>no of rooms</th>\n",
       "      <th>year of construction</th>\n",
       "      <th>parking space</th>\n",
       "      <th>market</th>\n",
       "      <th>form of ownership</th>\n",
       "      <th>parking space details</th>\n",
       "      <th>location</th>\n",
       "      <th>latitude</th>\n",
       "      <th>longitude</th>\n",
       "    </tr>\n",
       "  </thead>\n",
       "  <tbody>\n",
       "  </tbody>\n",
       "</table>\n",
       "</div>"
      ],
      "text/plain": [
       "Empty DataFrame\n",
       "Columns: [url, name/title, address, price, area, price-per-area, floor/store, no of floors/stores in the building, no of rooms, year of construction, parking space, market, form of ownership, parking space details, location, latitude, longitude]\n",
       "Index: []"
      ]
     },
     "execution_count": 229,
     "metadata": {},
     "output_type": "execute_result"
    }
   ],
   "source": [
    "df_filtered_sorted_nieruchomosci[df_filtered_sorted_nieruchomosci['location'].isna()]"
   ]
  },
  {
   "cell_type": "code",
   "execution_count": 224,
   "metadata": {
    "ExecuteTime": {
     "end_time": "2024-05-07T16:27:46.216016Z",
     "start_time": "2024-05-07T16:27:46.183986Z"
    }
   },
   "outputs": [
    {
     "data": {
      "text/html": [
       "<div>\n",
       "<style scoped>\n",
       "    .dataframe tbody tr th:only-of-type {\n",
       "        vertical-align: middle;\n",
       "    }\n",
       "\n",
       "    .dataframe tbody tr th {\n",
       "        vertical-align: top;\n",
       "    }\n",
       "\n",
       "    .dataframe thead th {\n",
       "        text-align: right;\n",
       "    }\n",
       "</style>\n",
       "<table border=\"1\" class=\"dataframe\">\n",
       "  <thead>\n",
       "    <tr style=\"text-align: right;\">\n",
       "      <th></th>\n",
       "      <th>address</th>\n",
       "      <th>manipulated address</th>\n",
       "    </tr>\n",
       "  </thead>\n",
       "  <tbody>\n",
       "    <tr>\n",
       "      <th>0</th>\n",
       "      <td>Armii \"Kraków\", Podgórze, Kraków, małopolskie</td>\n",
       "      <td>Armii \"Kraków\", Podgórze, Kraków, małopolskie</td>\n",
       "    </tr>\n",
       "    <tr>\n",
       "      <th>1</th>\n",
       "      <td>Bronowice Nowe, Kraków, małopolskie</td>\n",
       "      <td>Bronowice Nowe, Kraków, małopolskie</td>\n",
       "    </tr>\n",
       "    <tr>\n",
       "      <th>2</th>\n",
       "      <td>Lichecka, Łagiewniki, Kraków, małopolskie</td>\n",
       "      <td>Lichecka, Łagiewniki, Kraków, małopolskie</td>\n",
       "    </tr>\n",
       "    <tr>\n",
       "      <th>3</th>\n",
       "      <td>Armii Kraków, Jugowice, Kraków, małopolskie</td>\n",
       "      <td>Armii Kraków, Jugowice, Kraków, małopolskie</td>\n",
       "    </tr>\n",
       "    <tr>\n",
       "      <th>4</th>\n",
       "      <td>ul. Żeglarska 7, Zarzecze 34-326, Kraków, mało...</td>\n",
       "      <td>ul. Żeglarska 7, Zarzecze 34-326, Kraków, mało...</td>\n",
       "    </tr>\n",
       "    <tr>\n",
       "      <th>5</th>\n",
       "      <td>Armii Kraków, Swoszowice, Kraków, małopolskie</td>\n",
       "      <td>Armii Kraków, Swoszowice, Kraków, małopolskie</td>\n",
       "    </tr>\n",
       "    <tr>\n",
       "      <th>6</th>\n",
       "      <td>okolica ul. Mogilskiej, Grzegórzki, Kraków, ma...</td>\n",
       "      <td>okolica ul. Mogilskiej, Grzegórzki, Kraków, ma...</td>\n",
       "    </tr>\n",
       "    <tr>\n",
       "      <th>7</th>\n",
       "      <td>Gancarska, Stare Miasto, Kraków, małopolskie</td>\n",
       "      <td>Gancarska, Stare Miasto, Kraków, małopolskie</td>\n",
       "    </tr>\n",
       "    <tr>\n",
       "      <th>8</th>\n",
       "      <td>Kazimierza Siemianowicza, Płaszów, Kraków, mał...</td>\n",
       "      <td>Kazimierza Siemianowicza, Płaszów, Kraków, mał...</td>\n",
       "    </tr>\n",
       "    <tr>\n",
       "      <th>9</th>\n",
       "      <td>Łobzów, Kraków, małopolskie</td>\n",
       "      <td>Łobzów, Kraków, małopolskie</td>\n",
       "    </tr>\n",
       "  </tbody>\n",
       "</table>\n",
       "</div>"
      ],
      "text/plain": [
       "                                             address  \\\n",
       "0      Armii \"Kraków\", Podgórze, Kraków, małopolskie   \n",
       "1                Bronowice Nowe, Kraków, małopolskie   \n",
       "2          Lichecka, Łagiewniki, Kraków, małopolskie   \n",
       "3        Armii Kraków, Jugowice, Kraków, małopolskie   \n",
       "4  ul. Żeglarska 7, Zarzecze 34-326, Kraków, mało...   \n",
       "5      Armii Kraków, Swoszowice, Kraków, małopolskie   \n",
       "6  okolica ul. Mogilskiej, Grzegórzki, Kraków, ma...   \n",
       "7       Gancarska, Stare Miasto, Kraków, małopolskie   \n",
       "8  Kazimierza Siemianowicza, Płaszów, Kraków, mał...   \n",
       "9                        Łobzów, Kraków, małopolskie   \n",
       "\n",
       "                                 manipulated address  \n",
       "0      Armii \"Kraków\", Podgórze, Kraków, małopolskie  \n",
       "1                Bronowice Nowe, Kraków, małopolskie  \n",
       "2          Lichecka, Łagiewniki, Kraków, małopolskie  \n",
       "3        Armii Kraków, Jugowice, Kraków, małopolskie  \n",
       "4  ul. Żeglarska 7, Zarzecze 34-326, Kraków, mało...  \n",
       "5      Armii Kraków, Swoszowice, Kraków, małopolskie  \n",
       "6  okolica ul. Mogilskiej, Grzegórzki, Kraków, ma...  \n",
       "7       Gancarska, Stare Miasto, Kraków, małopolskie  \n",
       "8  Kazimierza Siemianowicza, Płaszów, Kraków, mał...  \n",
       "9                        Łobzów, Kraków, małopolskie  "
      ]
     },
     "execution_count": 224,
     "metadata": {},
     "output_type": "execute_result"
    }
   ],
   "source": [
    "unique_addresses = set(df_filtered_sorted_nieruchomosci[df_filtered_sorted_nieruchomosci['location'].isna()]['address'].unique())\n",
    "address_list = list(unique_addresses)\n",
    "\n",
    "location_df_nieruchomosci = pd.DataFrame({\n",
    "    'address': address_list,\n",
    "    'manipulated address': address_list\n",
    "})  \n",
    "\n",
    "location_df_nieruchomosci.to_excel(\"temp.xlsx\", index=False)\n",
    "location_df_nieruchomosci"
   ]
  },
  {
   "cell_type": "code",
   "execution_count": 225,
   "metadata": {
    "ExecuteTime": {
     "end_time": "2024-05-07T16:30:05.588504Z",
     "start_time": "2024-05-07T16:30:00.804770Z"
    }
   },
   "outputs": [
    {
     "name": "stdout",
     "output_type": "stream",
     "text": [
      "Rows needing geocoding: 10\n",
      "Armii \"Kraków\", Jugowice, Swoszowice, Kraków, województwo małopolskie, 30-432, Polska, 50.0030589, 19.9260994\n",
      "Bronowice, Kraków, województwo małopolskie, Polska, 50.0833247, 19.869783648014888\n",
      "Lechicka, Łagiewniki, Łagiewniki-Borek Fałęcki, Kraków, województwo małopolskie, 30-601, Polska, 50.0241242, 19.9369609\n",
      "Armii \"Kraków\", Jugowice, Swoszowice, Kraków, województwo małopolskie, 30-432, Polska, 50.0030589, 19.9260994\n",
      "7, Żeglarska, Na Stawach, Zarzecze, gmina Łodygowice, powiat żywiecki, 34-326, Polska, 49.72273145, 19.182580935031844\n",
      "Armii \"Kraków\", Jugowice, Swoszowice, Kraków, województwo małopolskie, 30-432, Polska, 50.0030589, 19.9260994\n",
      "Mogilska, Osiedle Oficerskie, Grzegórzki, Kraków, województwo małopolskie, 31-525, Polska, 50.0662338, 19.9614209\n",
      "Garncarska, Piasek, Stare Miasto, Kraków, województwo małopolskie, 31-115, Polska, 50.0626415, 19.9277117\n",
      "Bagry - ul. Lipska/Siemienowicza, Płaszów, Podgórze, Kraków, województwo małopolskie, Polska, 50.0380141, 19.995589989646206\n",
      "Łobzów, Krowodrza, Kraków, województwo małopolskie, Polska, 50.07527, 19.9077779\n",
      "Data saved to datasets/geocoded_from_xlsx.csv\n"
     ]
    },
    {
     "data": {
      "text/html": [
       "<div>\n",
       "<style scoped>\n",
       "    .dataframe tbody tr th:only-of-type {\n",
       "        vertical-align: middle;\n",
       "    }\n",
       "\n",
       "    .dataframe tbody tr th {\n",
       "        vertical-align: top;\n",
       "    }\n",
       "\n",
       "    .dataframe thead th {\n",
       "        text-align: right;\n",
       "    }\n",
       "</style>\n",
       "<table border=\"1\" class=\"dataframe\">\n",
       "  <thead>\n",
       "    <tr style=\"text-align: right;\">\n",
       "      <th></th>\n",
       "      <th>address</th>\n",
       "      <th>manipulated address</th>\n",
       "      <th>location</th>\n",
       "      <th>latitude</th>\n",
       "      <th>longitude</th>\n",
       "    </tr>\n",
       "  </thead>\n",
       "  <tbody>\n",
       "    <tr>\n",
       "      <th>0</th>\n",
       "      <td>Armii \"Kraków\", Podgórze, Kraków, małopolskie</td>\n",
       "      <td>Armii Kraków, Kraków, małopolskie</td>\n",
       "      <td>Armii \"Kraków\", Jugowice, Swoszowice, Kraków, ...</td>\n",
       "      <td>50.003059</td>\n",
       "      <td>19.926099</td>\n",
       "    </tr>\n",
       "    <tr>\n",
       "      <th>1</th>\n",
       "      <td>Bronowice Nowe, Kraków, małopolskie</td>\n",
       "      <td>Bronowice, Kraków, małopolskie</td>\n",
       "      <td>Bronowice, Kraków, województwo małopolskie, Po...</td>\n",
       "      <td>50.083325</td>\n",
       "      <td>19.869784</td>\n",
       "    </tr>\n",
       "    <tr>\n",
       "      <th>2</th>\n",
       "      <td>Lichecka, Łagiewniki, Kraków, małopolskie</td>\n",
       "      <td>Lechicka, Łagiewniki, Kraków, małopolskie</td>\n",
       "      <td>Lechicka, Łagiewniki, Łagiewniki-Borek Fałęcki...</td>\n",
       "      <td>50.024124</td>\n",
       "      <td>19.936961</td>\n",
       "    </tr>\n",
       "    <tr>\n",
       "      <th>3</th>\n",
       "      <td>Armii Kraków, Jugowice, Kraków, małopolskie</td>\n",
       "      <td>Armii Kraków, Jugowice, Kraków, małopolskie</td>\n",
       "      <td>Armii \"Kraków\", Jugowice, Swoszowice, Kraków, ...</td>\n",
       "      <td>50.003059</td>\n",
       "      <td>19.926099</td>\n",
       "    </tr>\n",
       "    <tr>\n",
       "      <th>4</th>\n",
       "      <td>ul. Żeglarska 7, Zarzecze 34-326, Kraków, mało...</td>\n",
       "      <td>Żeglarska 7, Zarzecze 34-326</td>\n",
       "      <td>7, Żeglarska, Na Stawach, Zarzecze, gmina Łody...</td>\n",
       "      <td>49.722731</td>\n",
       "      <td>19.182581</td>\n",
       "    </tr>\n",
       "    <tr>\n",
       "      <th>5</th>\n",
       "      <td>Armii Kraków, Swoszowice, Kraków, małopolskie</td>\n",
       "      <td>Armii Kraków, Kraków, małopolskie</td>\n",
       "      <td>Armii \"Kraków\", Jugowice, Swoszowice, Kraków, ...</td>\n",
       "      <td>50.003059</td>\n",
       "      <td>19.926099</td>\n",
       "    </tr>\n",
       "    <tr>\n",
       "      <th>6</th>\n",
       "      <td>okolica ul. Mogilskiej, Grzegórzki, Kraków, ma...</td>\n",
       "      <td>Mogilska, Grzegórzki, Kraków, małopolskie</td>\n",
       "      <td>Mogilska, Osiedle Oficerskie, Grzegórzki, Krak...</td>\n",
       "      <td>50.066234</td>\n",
       "      <td>19.961421</td>\n",
       "    </tr>\n",
       "    <tr>\n",
       "      <th>7</th>\n",
       "      <td>Gancarska, Stare Miasto, Kraków, małopolskie</td>\n",
       "      <td>Garncarska, Kraków, małopolskie</td>\n",
       "      <td>Garncarska, Piasek, Stare Miasto, Kraków, woje...</td>\n",
       "      <td>50.062641</td>\n",
       "      <td>19.927712</td>\n",
       "    </tr>\n",
       "    <tr>\n",
       "      <th>8</th>\n",
       "      <td>Kazimierza Siemianowicza, Płaszów, Kraków, mał...</td>\n",
       "      <td>Siemienowicza, Płaszów, Kraków, małopolskie</td>\n",
       "      <td>Bagry - ul. Lipska/Siemienowicza, Płaszów, Pod...</td>\n",
       "      <td>50.038014</td>\n",
       "      <td>19.995590</td>\n",
       "    </tr>\n",
       "    <tr>\n",
       "      <th>9</th>\n",
       "      <td>Łobzów, Kraków, małopolskie</td>\n",
       "      <td>Łobzów, Kraków, małopolskie</td>\n",
       "      <td>Łobzów, Krowodrza, Kraków, województwo małopol...</td>\n",
       "      <td>50.075270</td>\n",
       "      <td>19.907778</td>\n",
       "    </tr>\n",
       "  </tbody>\n",
       "</table>\n",
       "</div>"
      ],
      "text/plain": [
       "                                             address  \\\n",
       "0      Armii \"Kraków\", Podgórze, Kraków, małopolskie   \n",
       "1                Bronowice Nowe, Kraków, małopolskie   \n",
       "2          Lichecka, Łagiewniki, Kraków, małopolskie   \n",
       "3        Armii Kraków, Jugowice, Kraków, małopolskie   \n",
       "4  ul. Żeglarska 7, Zarzecze 34-326, Kraków, mało...   \n",
       "5      Armii Kraków, Swoszowice, Kraków, małopolskie   \n",
       "6  okolica ul. Mogilskiej, Grzegórzki, Kraków, ma...   \n",
       "7       Gancarska, Stare Miasto, Kraków, małopolskie   \n",
       "8  Kazimierza Siemianowicza, Płaszów, Kraków, mał...   \n",
       "9                        Łobzów, Kraków, małopolskie   \n",
       "\n",
       "                           manipulated address  \\\n",
       "0            Armii Kraków, Kraków, małopolskie   \n",
       "1               Bronowice, Kraków, małopolskie   \n",
       "2    Lechicka, Łagiewniki, Kraków, małopolskie   \n",
       "3  Armii Kraków, Jugowice, Kraków, małopolskie   \n",
       "4                 Żeglarska 7, Zarzecze 34-326   \n",
       "5            Armii Kraków, Kraków, małopolskie   \n",
       "6    Mogilska, Grzegórzki, Kraków, małopolskie   \n",
       "7              Garncarska, Kraków, małopolskie   \n",
       "8  Siemienowicza, Płaszów, Kraków, małopolskie   \n",
       "9                  Łobzów, Kraków, małopolskie   \n",
       "\n",
       "                                            location   latitude  longitude  \n",
       "0  Armii \"Kraków\", Jugowice, Swoszowice, Kraków, ...  50.003059  19.926099  \n",
       "1  Bronowice, Kraków, województwo małopolskie, Po...  50.083325  19.869784  \n",
       "2  Lechicka, Łagiewniki, Łagiewniki-Borek Fałęcki...  50.024124  19.936961  \n",
       "3  Armii \"Kraków\", Jugowice, Swoszowice, Kraków, ...  50.003059  19.926099  \n",
       "4  7, Żeglarska, Na Stawach, Zarzecze, gmina Łody...  49.722731  19.182581  \n",
       "5  Armii \"Kraków\", Jugowice, Swoszowice, Kraków, ...  50.003059  19.926099  \n",
       "6  Mogilska, Osiedle Oficerskie, Grzegórzki, Krak...  50.066234  19.961421  \n",
       "7  Garncarska, Piasek, Stare Miasto, Kraków, woje...  50.062641  19.927712  \n",
       "8  Bagry - ul. Lipska/Siemienowicza, Płaszów, Pod...  50.038014  19.995590  \n",
       "9  Łobzów, Krowodrza, Kraków, województwo małopol...  50.075270  19.907778  "
      ]
     },
     "execution_count": 225,
     "metadata": {},
     "output_type": "execute_result"
    }
   ],
   "source": [
    "location_df_nieruchomosci=geocode_and_save(pd.read_excel('temp.xlsx'), 'datasets/geocoded_from_xlsx.csv')\n",
    "location_df_nieruchomosci"
   ]
  },
  {
   "cell_type": "code",
   "execution_count": 230,
   "metadata": {
    "ExecuteTime": {
     "end_time": "2024-05-07T16:34:42.246617Z",
     "start_time": "2024-05-07T16:34:42.040816Z"
    }
   },
   "outputs": [
    {
     "data": {
      "text/html": [
       "<div>\n",
       "<style scoped>\n",
       "    .dataframe tbody tr th:only-of-type {\n",
       "        vertical-align: middle;\n",
       "    }\n",
       "\n",
       "    .dataframe tbody tr th {\n",
       "        vertical-align: top;\n",
       "    }\n",
       "\n",
       "    .dataframe thead th {\n",
       "        text-align: right;\n",
       "    }\n",
       "</style>\n",
       "<table border=\"1\" class=\"dataframe\">\n",
       "  <thead>\n",
       "    <tr style=\"text-align: right;\">\n",
       "      <th></th>\n",
       "      <th>url</th>\n",
       "      <th>name/title</th>\n",
       "      <th>address</th>\n",
       "      <th>price</th>\n",
       "      <th>area</th>\n",
       "      <th>price-per-area</th>\n",
       "      <th>floor/store</th>\n",
       "      <th>no of floors/stores in the building</th>\n",
       "      <th>no of rooms</th>\n",
       "      <th>year of construction</th>\n",
       "      <th>parking space</th>\n",
       "      <th>market</th>\n",
       "      <th>form of ownership</th>\n",
       "      <th>parking space details</th>\n",
       "      <th>location</th>\n",
       "      <th>latitude</th>\n",
       "      <th>longitude</th>\n",
       "      <th>distance</th>\n",
       "    </tr>\n",
       "  </thead>\n",
       "  <tbody>\n",
       "    <tr>\n",
       "      <th>0</th>\n",
       "      <td>https://krakow.nieruchomosci-online.pl/mieszka...</td>\n",
       "      <td>Mieszkanie Kraków</td>\n",
       "      <td>103171, Mistrzejowice, Kraków, małopolskie</td>\n",
       "      <td>1087000.0</td>\n",
       "      <td>74.80</td>\n",
       "      <td>14532.09</td>\n",
       "      <td>6</td>\n",
       "      <td>7</td>\n",
       "      <td>3</td>\n",
       "      <td>2016.0</td>\n",
       "      <td>True</td>\n",
       "      <td>wtórny</td>\n",
       "      <td>pełna własność</td>\n",
       "      <td>w garażu podziemnym</td>\n",
       "      <td>Mistrzejowice, Kraków, województwo małopolskie...</td>\n",
       "      <td>50.097426</td>\n",
       "      <td>20.009603</td>\n",
       "      <td>6.500728</td>\n",
       "    </tr>\n",
       "    <tr>\n",
       "      <th>1</th>\n",
       "      <td>https://krakow.nieruchomosci-online.pl/mieszka...</td>\n",
       "      <td>Mieszkanie Kraków</td>\n",
       "      <td>2 Pułku Lotniczego, Kraków, małopolskie</td>\n",
       "      <td>550000.0</td>\n",
       "      <td>32.00</td>\n",
       "      <td>17187.50</td>\n",
       "      <td>4</td>\n",
       "      <td>8</td>\n",
       "      <td>1</td>\n",
       "      <td>NaN</td>\n",
       "      <td>False</td>\n",
       "      <td>wtórny</td>\n",
       "      <td>NaN</td>\n",
       "      <td>parking publiczny / na ulicy</td>\n",
       "      <td>2, Osiedle 2 Pułku Lotniczego, Czyżyny, Kraków...</td>\n",
       "      <td>50.077806</td>\n",
       "      <td>20.012307</td>\n",
       "      <td>5.639111</td>\n",
       "    </tr>\n",
       "    <tr>\n",
       "      <th>2</th>\n",
       "      <td>https://krakow.nieruchomosci-online.pl/mieszka...</td>\n",
       "      <td>Mieszkanie Kraków</td>\n",
       "      <td>2 Pułku Lotniczego, Kraków, małopolskie</td>\n",
       "      <td>550000.0</td>\n",
       "      <td>32.30</td>\n",
       "      <td>17028.00</td>\n",
       "      <td>4</td>\n",
       "      <td>10</td>\n",
       "      <td>1</td>\n",
       "      <td>1985.0</td>\n",
       "      <td>False</td>\n",
       "      <td>wtórny</td>\n",
       "      <td>NaN</td>\n",
       "      <td>parking publiczny / na ulicy</td>\n",
       "      <td>2, Osiedle 2 Pułku Lotniczego, Czyżyny, Kraków...</td>\n",
       "      <td>50.077806</td>\n",
       "      <td>20.012307</td>\n",
       "      <td>5.639111</td>\n",
       "    </tr>\n",
       "    <tr>\n",
       "      <th>3</th>\n",
       "      <td>https://krakow.nieruchomosci-online.pl/mieszka...</td>\n",
       "      <td>Apartament, ul. 28 Lipca 1943</td>\n",
       "      <td>28 Lipca 1943, Wola Justowska, Kraków, małopol...</td>\n",
       "      <td>2290000.0</td>\n",
       "      <td>155.16</td>\n",
       "      <td>14758.96</td>\n",
       "      <td>0</td>\n",
       "      <td>2</td>\n",
       "      <td>5</td>\n",
       "      <td>2009.0</td>\n",
       "      <td>True</td>\n",
       "      <td>wtórny</td>\n",
       "      <td>pełna własność</td>\n",
       "      <td>garaż wolnostojący</td>\n",
       "      <td>28 Lipca 1943, Wola Justowska, Zwierzyniec, Kr...</td>\n",
       "      <td>50.062710</td>\n",
       "      <td>19.872002</td>\n",
       "      <td>4.662523</td>\n",
       "    </tr>\n",
       "    <tr>\n",
       "      <th>4</th>\n",
       "      <td>https://krakow.nieruchomosci-online.pl/mieszka...</td>\n",
       "      <td>Mieszkanie, ul. 28 Lipca 1943</td>\n",
       "      <td>28 Lipca 1943, Wola Justowska, Kraków, małopol...</td>\n",
       "      <td>2399000.0</td>\n",
       "      <td>139.00</td>\n",
       "      <td>17258.99</td>\n",
       "      <td>1</td>\n",
       "      <td>2</td>\n",
       "      <td>3</td>\n",
       "      <td>2022.0</td>\n",
       "      <td>False</td>\n",
       "      <td>wtórny</td>\n",
       "      <td>pełna własność</td>\n",
       "      <td>parking publiczny / na ulicy</td>\n",
       "      <td>28 Lipca 1943, Wola Justowska, Zwierzyniec, Kr...</td>\n",
       "      <td>50.062710</td>\n",
       "      <td>19.872002</td>\n",
       "      <td>4.662523</td>\n",
       "    </tr>\n",
       "    <tr>\n",
       "      <th>...</th>\n",
       "      <td>...</td>\n",
       "      <td>...</td>\n",
       "      <td>...</td>\n",
       "      <td>...</td>\n",
       "      <td>...</td>\n",
       "      <td>...</td>\n",
       "      <td>...</td>\n",
       "      <td>...</td>\n",
       "      <td>...</td>\n",
       "      <td>...</td>\n",
       "      <td>...</td>\n",
       "      <td>...</td>\n",
       "      <td>...</td>\n",
       "      <td>...</td>\n",
       "      <td>...</td>\n",
       "      <td>...</td>\n",
       "      <td>...</td>\n",
       "      <td>...</td>\n",
       "    </tr>\n",
       "    <tr>\n",
       "      <th>8073</th>\n",
       "      <td>https://krakow.nieruchomosci-online.pl/mieszka...</td>\n",
       "      <td>Kawalerka, ul. Żółkiewskiego</td>\n",
       "      <td>Żółkiewskiego, Grzegórzki, Kraków, małopolskie</td>\n",
       "      <td>532000.0</td>\n",
       "      <td>24.40</td>\n",
       "      <td>21803.28</td>\n",
       "      <td>1</td>\n",
       "      <td>2</td>\n",
       "      <td>1</td>\n",
       "      <td>1900.0</td>\n",
       "      <td>True</td>\n",
       "      <td>wtórny</td>\n",
       "      <td>NaN</td>\n",
       "      <td>tak</td>\n",
       "      <td>Hetmana Stanisława Żółkiewskiego, Wesoła, Grze...</td>\n",
       "      <td>50.057738</td>\n",
       "      <td>19.957939</td>\n",
       "      <td>1.542326</td>\n",
       "    </tr>\n",
       "    <tr>\n",
       "      <th>8074</th>\n",
       "      <td>https://krakow.nieruchomosci-online.pl/mieszka...</td>\n",
       "      <td>Mieszkanie, ul. Żółkiewskiego</td>\n",
       "      <td>Żółkiewskiego, Grzegórzki, Kraków, małopolskie</td>\n",
       "      <td>695000.0</td>\n",
       "      <td>36.97</td>\n",
       "      <td>18799.03</td>\n",
       "      <td>1</td>\n",
       "      <td>2</td>\n",
       "      <td>2</td>\n",
       "      <td>1900.0</td>\n",
       "      <td>True</td>\n",
       "      <td>wtórny</td>\n",
       "      <td>NaN</td>\n",
       "      <td>tak</td>\n",
       "      <td>Hetmana Stanisława Żółkiewskiego, Wesoła, Grze...</td>\n",
       "      <td>50.057738</td>\n",
       "      <td>19.957939</td>\n",
       "      <td>1.542326</td>\n",
       "    </tr>\n",
       "    <tr>\n",
       "      <th>8075</th>\n",
       "      <td>https://krakow.nieruchomosci-online.pl/mieszka...</td>\n",
       "      <td>Mieszkanie, ul. Żółkiewskiego</td>\n",
       "      <td>Żółkiewskiego, Grzegórzki, Kraków, małopolskie</td>\n",
       "      <td>695000.0</td>\n",
       "      <td>37.98</td>\n",
       "      <td>18299.10</td>\n",
       "      <td>0</td>\n",
       "      <td>2</td>\n",
       "      <td>1</td>\n",
       "      <td>1900.0</td>\n",
       "      <td>False</td>\n",
       "      <td>wtórny</td>\n",
       "      <td>NaN</td>\n",
       "      <td>parking strzeżony w pobliżu</td>\n",
       "      <td>Hetmana Stanisława Żółkiewskiego, Wesoła, Grze...</td>\n",
       "      <td>50.057738</td>\n",
       "      <td>19.957939</td>\n",
       "      <td>1.542326</td>\n",
       "    </tr>\n",
       "    <tr>\n",
       "      <th>8076</th>\n",
       "      <td>https://krakow.nieruchomosci-online.pl/mieszka...</td>\n",
       "      <td>Mieszkanie, ul. Żółkiewskiego</td>\n",
       "      <td>Żółkiewskiego, Grzegórzki, Kraków, małopolskie</td>\n",
       "      <td>1698500.0</td>\n",
       "      <td>79.00</td>\n",
       "      <td>21500.00</td>\n",
       "      <td>2</td>\n",
       "      <td>4</td>\n",
       "      <td>4</td>\n",
       "      <td>2024.0</td>\n",
       "      <td>False</td>\n",
       "      <td>pierwotny</td>\n",
       "      <td>pełna własność</td>\n",
       "      <td>parking publiczny / na ulicy</td>\n",
       "      <td>Hetmana Stanisława Żółkiewskiego, Wesoła, Grze...</td>\n",
       "      <td>50.057738</td>\n",
       "      <td>19.957939</td>\n",
       "      <td>1.542326</td>\n",
       "    </tr>\n",
       "    <tr>\n",
       "      <th>8077</th>\n",
       "      <td>https://krakow.nieruchomosci-online.pl/mieszka...</td>\n",
       "      <td>Mieszkanie, ul. Żółkiewskiego</td>\n",
       "      <td>Żółkiewskiego, Grzegórzki, Kraków, małopolskie</td>\n",
       "      <td>2722500.0</td>\n",
       "      <td>121.00</td>\n",
       "      <td>22500.00</td>\n",
       "      <td>2</td>\n",
       "      <td>4</td>\n",
       "      <td>4</td>\n",
       "      <td>2024.0</td>\n",
       "      <td>False</td>\n",
       "      <td>pierwotny</td>\n",
       "      <td>pełna własność</td>\n",
       "      <td>parking publiczny / na ulicy</td>\n",
       "      <td>Hetmana Stanisława Żółkiewskiego, Wesoła, Grze...</td>\n",
       "      <td>50.057738</td>\n",
       "      <td>19.957939</td>\n",
       "      <td>1.542326</td>\n",
       "    </tr>\n",
       "  </tbody>\n",
       "</table>\n",
       "<p>8078 rows × 18 columns</p>\n",
       "</div>"
      ],
      "text/plain": [
       "                                                    url  \\\n",
       "0     https://krakow.nieruchomosci-online.pl/mieszka...   \n",
       "1     https://krakow.nieruchomosci-online.pl/mieszka...   \n",
       "2     https://krakow.nieruchomosci-online.pl/mieszka...   \n",
       "3     https://krakow.nieruchomosci-online.pl/mieszka...   \n",
       "4     https://krakow.nieruchomosci-online.pl/mieszka...   \n",
       "...                                                 ...   \n",
       "8073  https://krakow.nieruchomosci-online.pl/mieszka...   \n",
       "8074  https://krakow.nieruchomosci-online.pl/mieszka...   \n",
       "8075  https://krakow.nieruchomosci-online.pl/mieszka...   \n",
       "8076  https://krakow.nieruchomosci-online.pl/mieszka...   \n",
       "8077  https://krakow.nieruchomosci-online.pl/mieszka...   \n",
       "\n",
       "                         name/title  \\\n",
       "0                 Mieszkanie Kraków   \n",
       "1                 Mieszkanie Kraków   \n",
       "2                 Mieszkanie Kraków   \n",
       "3     Apartament, ul. 28 Lipca 1943   \n",
       "4     Mieszkanie, ul. 28 Lipca 1943   \n",
       "...                             ...   \n",
       "8073   Kawalerka, ul. Żółkiewskiego   \n",
       "8074  Mieszkanie, ul. Żółkiewskiego   \n",
       "8075  Mieszkanie, ul. Żółkiewskiego   \n",
       "8076  Mieszkanie, ul. Żółkiewskiego   \n",
       "8077  Mieszkanie, ul. Żółkiewskiego   \n",
       "\n",
       "                                                address      price    area  \\\n",
       "0            103171, Mistrzejowice, Kraków, małopolskie  1087000.0   74.80   \n",
       "1               2 Pułku Lotniczego, Kraków, małopolskie   550000.0   32.00   \n",
       "2               2 Pułku Lotniczego, Kraków, małopolskie   550000.0   32.30   \n",
       "3     28 Lipca 1943, Wola Justowska, Kraków, małopol...  2290000.0  155.16   \n",
       "4     28 Lipca 1943, Wola Justowska, Kraków, małopol...  2399000.0  139.00   \n",
       "...                                                 ...        ...     ...   \n",
       "8073     Żółkiewskiego, Grzegórzki, Kraków, małopolskie   532000.0   24.40   \n",
       "8074     Żółkiewskiego, Grzegórzki, Kraków, małopolskie   695000.0   36.97   \n",
       "8075     Żółkiewskiego, Grzegórzki, Kraków, małopolskie   695000.0   37.98   \n",
       "8076     Żółkiewskiego, Grzegórzki, Kraków, małopolskie  1698500.0   79.00   \n",
       "8077     Żółkiewskiego, Grzegórzki, Kraków, małopolskie  2722500.0  121.00   \n",
       "\n",
       "      price-per-area  floor/store  no of floors/stores in the building  \\\n",
       "0           14532.09            6                                    7   \n",
       "1           17187.50            4                                    8   \n",
       "2           17028.00            4                                   10   \n",
       "3           14758.96            0                                    2   \n",
       "4           17258.99            1                                    2   \n",
       "...              ...          ...                                  ...   \n",
       "8073        21803.28            1                                    2   \n",
       "8074        18799.03            1                                    2   \n",
       "8075        18299.10            0                                    2   \n",
       "8076        21500.00            2                                    4   \n",
       "8077        22500.00            2                                    4   \n",
       "\n",
       "      no of rooms  year of construction  parking space     market  \\\n",
       "0               3                2016.0           True     wtórny   \n",
       "1               1                   NaN          False     wtórny   \n",
       "2               1                1985.0          False     wtórny   \n",
       "3               5                2009.0           True     wtórny   \n",
       "4               3                2022.0          False     wtórny   \n",
       "...           ...                   ...            ...        ...   \n",
       "8073            1                1900.0           True     wtórny   \n",
       "8074            2                1900.0           True     wtórny   \n",
       "8075            1                1900.0          False     wtórny   \n",
       "8076            4                2024.0          False  pierwotny   \n",
       "8077            4                2024.0          False  pierwotny   \n",
       "\n",
       "     form of ownership         parking space details  \\\n",
       "0       pełna własność           w garażu podziemnym   \n",
       "1                  NaN  parking publiczny / na ulicy   \n",
       "2                  NaN  parking publiczny / na ulicy   \n",
       "3       pełna własność            garaż wolnostojący   \n",
       "4       pełna własność  parking publiczny / na ulicy   \n",
       "...                ...                           ...   \n",
       "8073               NaN                           tak   \n",
       "8074               NaN                           tak   \n",
       "8075               NaN   parking strzeżony w pobliżu   \n",
       "8076    pełna własność  parking publiczny / na ulicy   \n",
       "8077    pełna własność  parking publiczny / na ulicy   \n",
       "\n",
       "                                               location   latitude  longitude  \\\n",
       "0     Mistrzejowice, Kraków, województwo małopolskie...  50.097426  20.009603   \n",
       "1     2, Osiedle 2 Pułku Lotniczego, Czyżyny, Kraków...  50.077806  20.012307   \n",
       "2     2, Osiedle 2 Pułku Lotniczego, Czyżyny, Kraków...  50.077806  20.012307   \n",
       "3     28 Lipca 1943, Wola Justowska, Zwierzyniec, Kr...  50.062710  19.872002   \n",
       "4     28 Lipca 1943, Wola Justowska, Zwierzyniec, Kr...  50.062710  19.872002   \n",
       "...                                                 ...        ...        ...   \n",
       "8073  Hetmana Stanisława Żółkiewskiego, Wesoła, Grze...  50.057738  19.957939   \n",
       "8074  Hetmana Stanisława Żółkiewskiego, Wesoła, Grze...  50.057738  19.957939   \n",
       "8075  Hetmana Stanisława Żółkiewskiego, Wesoła, Grze...  50.057738  19.957939   \n",
       "8076  Hetmana Stanisława Żółkiewskiego, Wesoła, Grze...  50.057738  19.957939   \n",
       "8077  Hetmana Stanisława Żółkiewskiego, Wesoła, Grze...  50.057738  19.957939   \n",
       "\n",
       "      distance  \n",
       "0     6.500728  \n",
       "1     5.639111  \n",
       "2     5.639111  \n",
       "3     4.662523  \n",
       "4     4.662523  \n",
       "...        ...  \n",
       "8073  1.542326  \n",
       "8074  1.542326  \n",
       "8075  1.542326  \n",
       "8076  1.542326  \n",
       "8077  1.542326  \n",
       "\n",
       "[8078 rows x 18 columns]"
      ]
     },
     "execution_count": 230,
     "metadata": {},
     "output_type": "execute_result"
    }
   ],
   "source": [
    "df_filtered_sorted_nieruchomosci['distance'] = df_filtered_sorted_nieruchomosci.apply(\n",
    "    lambda row: haversine(city_center_lat, city_center_lon, row['latitude'], row['longitude']),\n",
    "    axis=1\n",
    ")\n",
    "df_filtered_sorted_nieruchomosci"
   ]
  },
  {
   "cell_type": "code",
   "execution_count": 231,
   "metadata": {
    "ExecuteTime": {
     "end_time": "2024-05-07T16:34:53.503906Z",
     "start_time": "2024-05-07T16:34:53.457010Z"
    }
   },
   "outputs": [
    {
     "data": {
      "text/html": [
       "<div>\n",
       "<style scoped>\n",
       "    .dataframe tbody tr th:only-of-type {\n",
       "        vertical-align: middle;\n",
       "    }\n",
       "\n",
       "    .dataframe tbody tr th {\n",
       "        vertical-align: top;\n",
       "    }\n",
       "\n",
       "    .dataframe thead th {\n",
       "        text-align: right;\n",
       "    }\n",
       "</style>\n",
       "<table border=\"1\" class=\"dataframe\">\n",
       "  <thead>\n",
       "    <tr style=\"text-align: right;\">\n",
       "      <th></th>\n",
       "      <th>url</th>\n",
       "      <th>name/title</th>\n",
       "      <th>address</th>\n",
       "      <th>price</th>\n",
       "      <th>area</th>\n",
       "      <th>price-per-area</th>\n",
       "      <th>floor/store</th>\n",
       "      <th>no of floors/stores in the building</th>\n",
       "      <th>no of rooms</th>\n",
       "      <th>year of construction</th>\n",
       "      <th>parking space</th>\n",
       "      <th>market</th>\n",
       "      <th>form of ownership</th>\n",
       "      <th>parking space details</th>\n",
       "      <th>location</th>\n",
       "      <th>latitude</th>\n",
       "      <th>longitude</th>\n",
       "      <th>distance</th>\n",
       "      <th>district</th>\n",
       "    </tr>\n",
       "  </thead>\n",
       "  <tbody>\n",
       "    <tr>\n",
       "      <th>0</th>\n",
       "      <td>https://krakow.nieruchomosci-online.pl/mieszka...</td>\n",
       "      <td>Mieszkanie Kraków</td>\n",
       "      <td>103171, Mistrzejowice, Kraków, małopolskie</td>\n",
       "      <td>1087000.0</td>\n",
       "      <td>74.80</td>\n",
       "      <td>14532.09</td>\n",
       "      <td>6</td>\n",
       "      <td>7</td>\n",
       "      <td>3</td>\n",
       "      <td>2016.0</td>\n",
       "      <td>True</td>\n",
       "      <td>wtórny</td>\n",
       "      <td>pełna własność</td>\n",
       "      <td>w garażu podziemnym</td>\n",
       "      <td>Mistrzejowice, Kraków, województwo małopolskie...</td>\n",
       "      <td>50.097426</td>\n",
       "      <td>20.009603</td>\n",
       "      <td>6.500728</td>\n",
       "      <td>Mistrzejowice</td>\n",
       "    </tr>\n",
       "    <tr>\n",
       "      <th>1</th>\n",
       "      <td>https://krakow.nieruchomosci-online.pl/mieszka...</td>\n",
       "      <td>Mieszkanie Kraków</td>\n",
       "      <td>2 Pułku Lotniczego, Kraków, małopolskie</td>\n",
       "      <td>550000.0</td>\n",
       "      <td>32.00</td>\n",
       "      <td>17187.50</td>\n",
       "      <td>4</td>\n",
       "      <td>8</td>\n",
       "      <td>1</td>\n",
       "      <td>NaN</td>\n",
       "      <td>False</td>\n",
       "      <td>wtórny</td>\n",
       "      <td>NaN</td>\n",
       "      <td>parking publiczny / na ulicy</td>\n",
       "      <td>2, Osiedle 2 Pułku Lotniczego, Czyżyny, Kraków...</td>\n",
       "      <td>50.077806</td>\n",
       "      <td>20.012307</td>\n",
       "      <td>5.639111</td>\n",
       "      <td>Czyżyny</td>\n",
       "    </tr>\n",
       "    <tr>\n",
       "      <th>2</th>\n",
       "      <td>https://krakow.nieruchomosci-online.pl/mieszka...</td>\n",
       "      <td>Mieszkanie Kraków</td>\n",
       "      <td>2 Pułku Lotniczego, Kraków, małopolskie</td>\n",
       "      <td>550000.0</td>\n",
       "      <td>32.30</td>\n",
       "      <td>17028.00</td>\n",
       "      <td>4</td>\n",
       "      <td>10</td>\n",
       "      <td>1</td>\n",
       "      <td>1985.0</td>\n",
       "      <td>False</td>\n",
       "      <td>wtórny</td>\n",
       "      <td>NaN</td>\n",
       "      <td>parking publiczny / na ulicy</td>\n",
       "      <td>2, Osiedle 2 Pułku Lotniczego, Czyżyny, Kraków...</td>\n",
       "      <td>50.077806</td>\n",
       "      <td>20.012307</td>\n",
       "      <td>5.639111</td>\n",
       "      <td>Czyżyny</td>\n",
       "    </tr>\n",
       "    <tr>\n",
       "      <th>3</th>\n",
       "      <td>https://krakow.nieruchomosci-online.pl/mieszka...</td>\n",
       "      <td>Apartament, ul. 28 Lipca 1943</td>\n",
       "      <td>28 Lipca 1943, Wola Justowska, Kraków, małopol...</td>\n",
       "      <td>2290000.0</td>\n",
       "      <td>155.16</td>\n",
       "      <td>14758.96</td>\n",
       "      <td>0</td>\n",
       "      <td>2</td>\n",
       "      <td>5</td>\n",
       "      <td>2009.0</td>\n",
       "      <td>True</td>\n",
       "      <td>wtórny</td>\n",
       "      <td>pełna własność</td>\n",
       "      <td>garaż wolnostojący</td>\n",
       "      <td>28 Lipca 1943, Wola Justowska, Zwierzyniec, Kr...</td>\n",
       "      <td>50.062710</td>\n",
       "      <td>19.872002</td>\n",
       "      <td>4.662523</td>\n",
       "      <td>Zwierzyniec</td>\n",
       "    </tr>\n",
       "    <tr>\n",
       "      <th>4</th>\n",
       "      <td>https://krakow.nieruchomosci-online.pl/mieszka...</td>\n",
       "      <td>Mieszkanie, ul. 28 Lipca 1943</td>\n",
       "      <td>28 Lipca 1943, Wola Justowska, Kraków, małopol...</td>\n",
       "      <td>2399000.0</td>\n",
       "      <td>139.00</td>\n",
       "      <td>17258.99</td>\n",
       "      <td>1</td>\n",
       "      <td>2</td>\n",
       "      <td>3</td>\n",
       "      <td>2022.0</td>\n",
       "      <td>False</td>\n",
       "      <td>wtórny</td>\n",
       "      <td>pełna własność</td>\n",
       "      <td>parking publiczny / na ulicy</td>\n",
       "      <td>28 Lipca 1943, Wola Justowska, Zwierzyniec, Kr...</td>\n",
       "      <td>50.062710</td>\n",
       "      <td>19.872002</td>\n",
       "      <td>4.662523</td>\n",
       "      <td>Zwierzyniec</td>\n",
       "    </tr>\n",
       "    <tr>\n",
       "      <th>...</th>\n",
       "      <td>...</td>\n",
       "      <td>...</td>\n",
       "      <td>...</td>\n",
       "      <td>...</td>\n",
       "      <td>...</td>\n",
       "      <td>...</td>\n",
       "      <td>...</td>\n",
       "      <td>...</td>\n",
       "      <td>...</td>\n",
       "      <td>...</td>\n",
       "      <td>...</td>\n",
       "      <td>...</td>\n",
       "      <td>...</td>\n",
       "      <td>...</td>\n",
       "      <td>...</td>\n",
       "      <td>...</td>\n",
       "      <td>...</td>\n",
       "      <td>...</td>\n",
       "      <td>...</td>\n",
       "    </tr>\n",
       "    <tr>\n",
       "      <th>8073</th>\n",
       "      <td>https://krakow.nieruchomosci-online.pl/mieszka...</td>\n",
       "      <td>Kawalerka, ul. Żółkiewskiego</td>\n",
       "      <td>Żółkiewskiego, Grzegórzki, Kraków, małopolskie</td>\n",
       "      <td>532000.0</td>\n",
       "      <td>24.40</td>\n",
       "      <td>21803.28</td>\n",
       "      <td>1</td>\n",
       "      <td>2</td>\n",
       "      <td>1</td>\n",
       "      <td>1900.0</td>\n",
       "      <td>True</td>\n",
       "      <td>wtórny</td>\n",
       "      <td>NaN</td>\n",
       "      <td>tak</td>\n",
       "      <td>Hetmana Stanisława Żółkiewskiego, Wesoła, Grze...</td>\n",
       "      <td>50.057738</td>\n",
       "      <td>19.957939</td>\n",
       "      <td>1.542326</td>\n",
       "      <td>Grzegórzki</td>\n",
       "    </tr>\n",
       "    <tr>\n",
       "      <th>8074</th>\n",
       "      <td>https://krakow.nieruchomosci-online.pl/mieszka...</td>\n",
       "      <td>Mieszkanie, ul. Żółkiewskiego</td>\n",
       "      <td>Żółkiewskiego, Grzegórzki, Kraków, małopolskie</td>\n",
       "      <td>695000.0</td>\n",
       "      <td>36.97</td>\n",
       "      <td>18799.03</td>\n",
       "      <td>1</td>\n",
       "      <td>2</td>\n",
       "      <td>2</td>\n",
       "      <td>1900.0</td>\n",
       "      <td>True</td>\n",
       "      <td>wtórny</td>\n",
       "      <td>NaN</td>\n",
       "      <td>tak</td>\n",
       "      <td>Hetmana Stanisława Żółkiewskiego, Wesoła, Grze...</td>\n",
       "      <td>50.057738</td>\n",
       "      <td>19.957939</td>\n",
       "      <td>1.542326</td>\n",
       "      <td>Grzegórzki</td>\n",
       "    </tr>\n",
       "    <tr>\n",
       "      <th>8075</th>\n",
       "      <td>https://krakow.nieruchomosci-online.pl/mieszka...</td>\n",
       "      <td>Mieszkanie, ul. Żółkiewskiego</td>\n",
       "      <td>Żółkiewskiego, Grzegórzki, Kraków, małopolskie</td>\n",
       "      <td>695000.0</td>\n",
       "      <td>37.98</td>\n",
       "      <td>18299.10</td>\n",
       "      <td>0</td>\n",
       "      <td>2</td>\n",
       "      <td>1</td>\n",
       "      <td>1900.0</td>\n",
       "      <td>False</td>\n",
       "      <td>wtórny</td>\n",
       "      <td>NaN</td>\n",
       "      <td>parking strzeżony w pobliżu</td>\n",
       "      <td>Hetmana Stanisława Żółkiewskiego, Wesoła, Grze...</td>\n",
       "      <td>50.057738</td>\n",
       "      <td>19.957939</td>\n",
       "      <td>1.542326</td>\n",
       "      <td>Grzegórzki</td>\n",
       "    </tr>\n",
       "    <tr>\n",
       "      <th>8076</th>\n",
       "      <td>https://krakow.nieruchomosci-online.pl/mieszka...</td>\n",
       "      <td>Mieszkanie, ul. Żółkiewskiego</td>\n",
       "      <td>Żółkiewskiego, Grzegórzki, Kraków, małopolskie</td>\n",
       "      <td>1698500.0</td>\n",
       "      <td>79.00</td>\n",
       "      <td>21500.00</td>\n",
       "      <td>2</td>\n",
       "      <td>4</td>\n",
       "      <td>4</td>\n",
       "      <td>2024.0</td>\n",
       "      <td>False</td>\n",
       "      <td>pierwotny</td>\n",
       "      <td>pełna własność</td>\n",
       "      <td>parking publiczny / na ulicy</td>\n",
       "      <td>Hetmana Stanisława Żółkiewskiego, Wesoła, Grze...</td>\n",
       "      <td>50.057738</td>\n",
       "      <td>19.957939</td>\n",
       "      <td>1.542326</td>\n",
       "      <td>Grzegórzki</td>\n",
       "    </tr>\n",
       "    <tr>\n",
       "      <th>8077</th>\n",
       "      <td>https://krakow.nieruchomosci-online.pl/mieszka...</td>\n",
       "      <td>Mieszkanie, ul. Żółkiewskiego</td>\n",
       "      <td>Żółkiewskiego, Grzegórzki, Kraków, małopolskie</td>\n",
       "      <td>2722500.0</td>\n",
       "      <td>121.00</td>\n",
       "      <td>22500.00</td>\n",
       "      <td>2</td>\n",
       "      <td>4</td>\n",
       "      <td>4</td>\n",
       "      <td>2024.0</td>\n",
       "      <td>False</td>\n",
       "      <td>pierwotny</td>\n",
       "      <td>pełna własność</td>\n",
       "      <td>parking publiczny / na ulicy</td>\n",
       "      <td>Hetmana Stanisława Żółkiewskiego, Wesoła, Grze...</td>\n",
       "      <td>50.057738</td>\n",
       "      <td>19.957939</td>\n",
       "      <td>1.542326</td>\n",
       "      <td>Grzegórzki</td>\n",
       "    </tr>\n",
       "  </tbody>\n",
       "</table>\n",
       "<p>8078 rows × 19 columns</p>\n",
       "</div>"
      ],
      "text/plain": [
       "                                                    url  \\\n",
       "0     https://krakow.nieruchomosci-online.pl/mieszka...   \n",
       "1     https://krakow.nieruchomosci-online.pl/mieszka...   \n",
       "2     https://krakow.nieruchomosci-online.pl/mieszka...   \n",
       "3     https://krakow.nieruchomosci-online.pl/mieszka...   \n",
       "4     https://krakow.nieruchomosci-online.pl/mieszka...   \n",
       "...                                                 ...   \n",
       "8073  https://krakow.nieruchomosci-online.pl/mieszka...   \n",
       "8074  https://krakow.nieruchomosci-online.pl/mieszka...   \n",
       "8075  https://krakow.nieruchomosci-online.pl/mieszka...   \n",
       "8076  https://krakow.nieruchomosci-online.pl/mieszka...   \n",
       "8077  https://krakow.nieruchomosci-online.pl/mieszka...   \n",
       "\n",
       "                         name/title  \\\n",
       "0                 Mieszkanie Kraków   \n",
       "1                 Mieszkanie Kraków   \n",
       "2                 Mieszkanie Kraków   \n",
       "3     Apartament, ul. 28 Lipca 1943   \n",
       "4     Mieszkanie, ul. 28 Lipca 1943   \n",
       "...                             ...   \n",
       "8073   Kawalerka, ul. Żółkiewskiego   \n",
       "8074  Mieszkanie, ul. Żółkiewskiego   \n",
       "8075  Mieszkanie, ul. Żółkiewskiego   \n",
       "8076  Mieszkanie, ul. Żółkiewskiego   \n",
       "8077  Mieszkanie, ul. Żółkiewskiego   \n",
       "\n",
       "                                                address      price    area  \\\n",
       "0            103171, Mistrzejowice, Kraków, małopolskie  1087000.0   74.80   \n",
       "1               2 Pułku Lotniczego, Kraków, małopolskie   550000.0   32.00   \n",
       "2               2 Pułku Lotniczego, Kraków, małopolskie   550000.0   32.30   \n",
       "3     28 Lipca 1943, Wola Justowska, Kraków, małopol...  2290000.0  155.16   \n",
       "4     28 Lipca 1943, Wola Justowska, Kraków, małopol...  2399000.0  139.00   \n",
       "...                                                 ...        ...     ...   \n",
       "8073     Żółkiewskiego, Grzegórzki, Kraków, małopolskie   532000.0   24.40   \n",
       "8074     Żółkiewskiego, Grzegórzki, Kraków, małopolskie   695000.0   36.97   \n",
       "8075     Żółkiewskiego, Grzegórzki, Kraków, małopolskie   695000.0   37.98   \n",
       "8076     Żółkiewskiego, Grzegórzki, Kraków, małopolskie  1698500.0   79.00   \n",
       "8077     Żółkiewskiego, Grzegórzki, Kraków, małopolskie  2722500.0  121.00   \n",
       "\n",
       "      price-per-area  floor/store  no of floors/stores in the building  \\\n",
       "0           14532.09            6                                    7   \n",
       "1           17187.50            4                                    8   \n",
       "2           17028.00            4                                   10   \n",
       "3           14758.96            0                                    2   \n",
       "4           17258.99            1                                    2   \n",
       "...              ...          ...                                  ...   \n",
       "8073        21803.28            1                                    2   \n",
       "8074        18799.03            1                                    2   \n",
       "8075        18299.10            0                                    2   \n",
       "8076        21500.00            2                                    4   \n",
       "8077        22500.00            2                                    4   \n",
       "\n",
       "      no of rooms  year of construction  parking space     market  \\\n",
       "0               3                2016.0           True     wtórny   \n",
       "1               1                   NaN          False     wtórny   \n",
       "2               1                1985.0          False     wtórny   \n",
       "3               5                2009.0           True     wtórny   \n",
       "4               3                2022.0          False     wtórny   \n",
       "...           ...                   ...            ...        ...   \n",
       "8073            1                1900.0           True     wtórny   \n",
       "8074            2                1900.0           True     wtórny   \n",
       "8075            1                1900.0          False     wtórny   \n",
       "8076            4                2024.0          False  pierwotny   \n",
       "8077            4                2024.0          False  pierwotny   \n",
       "\n",
       "     form of ownership         parking space details  \\\n",
       "0       pełna własność           w garażu podziemnym   \n",
       "1                  NaN  parking publiczny / na ulicy   \n",
       "2                  NaN  parking publiczny / na ulicy   \n",
       "3       pełna własność            garaż wolnostojący   \n",
       "4       pełna własność  parking publiczny / na ulicy   \n",
       "...                ...                           ...   \n",
       "8073               NaN                           tak   \n",
       "8074               NaN                           tak   \n",
       "8075               NaN   parking strzeżony w pobliżu   \n",
       "8076    pełna własność  parking publiczny / na ulicy   \n",
       "8077    pełna własność  parking publiczny / na ulicy   \n",
       "\n",
       "                                               location   latitude  longitude  \\\n",
       "0     Mistrzejowice, Kraków, województwo małopolskie...  50.097426  20.009603   \n",
       "1     2, Osiedle 2 Pułku Lotniczego, Czyżyny, Kraków...  50.077806  20.012307   \n",
       "2     2, Osiedle 2 Pułku Lotniczego, Czyżyny, Kraków...  50.077806  20.012307   \n",
       "3     28 Lipca 1943, Wola Justowska, Zwierzyniec, Kr...  50.062710  19.872002   \n",
       "4     28 Lipca 1943, Wola Justowska, Zwierzyniec, Kr...  50.062710  19.872002   \n",
       "...                                                 ...        ...        ...   \n",
       "8073  Hetmana Stanisława Żółkiewskiego, Wesoła, Grze...  50.057738  19.957939   \n",
       "8074  Hetmana Stanisława Żółkiewskiego, Wesoła, Grze...  50.057738  19.957939   \n",
       "8075  Hetmana Stanisława Żółkiewskiego, Wesoła, Grze...  50.057738  19.957939   \n",
       "8076  Hetmana Stanisława Żółkiewskiego, Wesoła, Grze...  50.057738  19.957939   \n",
       "8077  Hetmana Stanisława Żółkiewskiego, Wesoła, Grze...  50.057738  19.957939   \n",
       "\n",
       "      distance       district  \n",
       "0     6.500728  Mistrzejowice  \n",
       "1     5.639111        Czyżyny  \n",
       "2     5.639111        Czyżyny  \n",
       "3     4.662523    Zwierzyniec  \n",
       "4     4.662523    Zwierzyniec  \n",
       "...        ...            ...  \n",
       "8073  1.542326     Grzegórzki  \n",
       "8074  1.542326     Grzegórzki  \n",
       "8075  1.542326     Grzegórzki  \n",
       "8076  1.542326     Grzegórzki  \n",
       "8077  1.542326     Grzegórzki  \n",
       "\n",
       "[8078 rows x 19 columns]"
      ]
     },
     "execution_count": 231,
     "metadata": {},
     "output_type": "execute_result"
    }
   ],
   "source": [
    "# Extracting districts\n",
    "df_filtered_sorted_nieruchomosci['district'] = df_filtered_sorted_nieruchomosci['location'].str.extract(r'(?:^|, )([^,]+), Kraków')\n",
    "df_filtered_sorted_nieruchomosci"
   ]
  },
  {
   "cell_type": "code",
   "execution_count": 232,
   "metadata": {
    "ExecuteTime": {
     "end_time": "2024-05-07T16:34:58.197688Z",
     "start_time": "2024-05-07T16:34:58.186876Z"
    }
   },
   "outputs": [
    {
     "name": "stdout",
     "output_type": "stream",
     "text": [
      "39\n"
     ]
    }
   ],
   "source": [
    "print(df_filtered_sorted_nieruchomosci[df_filtered_sorted_nieruchomosci['district'].isna()].shape[0])\n",
    "df_filtered_sorted_nieruchomosci = df_filtered_sorted_nieruchomosci.dropna(subset=['district'])"
   ]
  },
  {
   "cell_type": "code",
   "execution_count": null,
   "metadata": {},
   "outputs": [],
   "source": [
    "# Filling in\n",
    "df_filtered_sorted_nieruchomosci['year of construction'] = df_filtered_sorted_nieruchomosci['year of construction'].fillna(new_mean_year)\n",
    "df_filtered_sorted_nieruchomosci['form of ownership'] = df_filtered_sorted_nieruchomosci['form of ownership'].fillna('pełna własność')\n",
    "df_filtered_sorted_nieruchomosci.to_csv('datasets/apartments_nieruchomosci.csv')"
   ]
  },
  {
   "cell_type": "code",
   "execution_count": 234,
   "metadata": {
    "ExecuteTime": {
     "end_time": "2024-05-07T16:35:08.446730Z",
     "start_time": "2024-05-07T16:35:08.435209Z"
    }
   },
   "outputs": [
    {
     "data": {
      "text/plain": [
       "url                                    0\n",
       "name/title                             0\n",
       "address                                0\n",
       "price                                  0\n",
       "area                                   0\n",
       "price-per-area                         0\n",
       "floor/store                            0\n",
       "no of floors/stores in the building    0\n",
       "no of rooms                            0\n",
       "year of construction                   0\n",
       "parking space                          0\n",
       "market                                 0\n",
       "form of ownership                      0\n",
       "parking space details                  0\n",
       "location                               0\n",
       "latitude                               0\n",
       "longitude                              0\n",
       "distance                               0\n",
       "district                               0\n",
       "dtype: int64"
      ]
     },
     "execution_count": 234,
     "metadata": {},
     "output_type": "execute_result"
    }
   ],
   "source": [
    "df_filtered_sorted_nieruchomosci.isnull().sum()"
   ]
  },
  {
   "cell_type": "markdown",
   "metadata": {},
   "source": [
    "## Removing Duplicates, Geolocation, Filling NaNs, and Exporting Otodom Dataset"
   ]
  },
  {
   "cell_type": "code",
   "execution_count": null,
   "metadata": {},
   "outputs": [],
   "source": [
    "df_filtered_sorted_otodom = remove_duplicates(df_otodom)\n",
    "df_filtered_sorted_otodom.drop('is_duplicate', axis=1, inplace=True)\n",
    "df_filtered_sorted_otodom"
   ]
  },
  {
   "cell_type": "code",
   "execution_count": 236,
   "metadata": {
    "ExecuteTime": {
     "end_time": "2024-05-07T16:35:26.732960Z",
     "start_time": "2024-05-07T16:35:26.507937Z"
    }
   },
   "outputs": [
    {
     "data": {
      "text/html": [
       "<div>\n",
       "<style scoped>\n",
       "    .dataframe tbody tr th:only-of-type {\n",
       "        vertical-align: middle;\n",
       "    }\n",
       "\n",
       "    .dataframe tbody tr th {\n",
       "        vertical-align: top;\n",
       "    }\n",
       "\n",
       "    .dataframe thead th {\n",
       "        text-align: right;\n",
       "    }\n",
       "</style>\n",
       "<table border=\"1\" class=\"dataframe\">\n",
       "  <thead>\n",
       "    <tr style=\"text-align: right;\">\n",
       "      <th></th>\n",
       "      <th>url</th>\n",
       "      <th>name/title</th>\n",
       "      <th>address</th>\n",
       "      <th>price</th>\n",
       "      <th>area</th>\n",
       "      <th>price-per-area</th>\n",
       "      <th>floor/store</th>\n",
       "      <th>no of floors/stores in the building</th>\n",
       "      <th>no of rooms</th>\n",
       "      <th>year of construction</th>\n",
       "      <th>...</th>\n",
       "      <th>market</th>\n",
       "      <th>form of ownership</th>\n",
       "      <th>condition</th>\n",
       "      <th>rent</th>\n",
       "      <th>heating</th>\n",
       "      <th>advertiser type</th>\n",
       "      <th>elevator</th>\n",
       "      <th>outdoor area</th>\n",
       "      <th>building type</th>\n",
       "      <th>building material</th>\n",
       "    </tr>\n",
       "  </thead>\n",
       "  <tbody>\n",
       "    <tr>\n",
       "      <th>4499</th>\n",
       "      <td>https://www.otodom.pl/pl/oferta/nowe-mieszkani...</td>\n",
       "      <td>Nowe mieszkania na Górce Narodowej</td>\n",
       "      <td>29 listopada - okolice, Górka Narodowa, Prądni...</td>\n",
       "      <td>778689.0</td>\n",
       "      <td>61.3</td>\n",
       "      <td>12703.0</td>\n",
       "      <td>1</td>\n",
       "      <td>5</td>\n",
       "      <td>2</td>\n",
       "      <td>2023.0</td>\n",
       "      <td>...</td>\n",
       "      <td>pierwotny</td>\n",
       "      <td>pełna własność</td>\n",
       "      <td>NaN</td>\n",
       "      <td>NaN</td>\n",
       "      <td>miejskie</td>\n",
       "      <td>biuro nieruchomości</td>\n",
       "      <td>True</td>\n",
       "      <td>balkon</td>\n",
       "      <td>brak informacji</td>\n",
       "      <td>brak informacji</td>\n",
       "    </tr>\n",
       "    <tr>\n",
       "      <th>1143</th>\n",
       "      <td>https://www.otodom.pl/pl/oferta/balkon-3-pokoj...</td>\n",
       "      <td>balkon + 3 pokoje + parking</td>\n",
       "      <td>Adama Vetulaniego, Prądnik Biały, Prądnik Biał...</td>\n",
       "      <td>970000.0</td>\n",
       "      <td>55.0</td>\n",
       "      <td>17636.0</td>\n",
       "      <td>4</td>\n",
       "      <td>7</td>\n",
       "      <td>3</td>\n",
       "      <td>2023.0</td>\n",
       "      <td>...</td>\n",
       "      <td>wtórny</td>\n",
       "      <td>pełna własność</td>\n",
       "      <td>NaN</td>\n",
       "      <td>450.0</td>\n",
       "      <td>miejskie</td>\n",
       "      <td>biuro nieruchomości</td>\n",
       "      <td>True</td>\n",
       "      <td>balkon</td>\n",
       "      <td>blok</td>\n",
       "      <td>brak informacji</td>\n",
       "    </tr>\n",
       "    <tr>\n",
       "      <th>8954</th>\n",
       "      <td>https://www.otodom.pl/pl/oferta/zlocien-2-poko...</td>\n",
       "      <td>Złocień, 2 pokoje, balkon</td>\n",
       "      <td>Agatowa, Domagały,, Złocień, Bieżanów-Prokocim...</td>\n",
       "      <td>625000.0</td>\n",
       "      <td>36.8</td>\n",
       "      <td>16984.0</td>\n",
       "      <td>4</td>\n",
       "      <td>4</td>\n",
       "      <td>2</td>\n",
       "      <td>2019.0</td>\n",
       "      <td>...</td>\n",
       "      <td>wtórny</td>\n",
       "      <td>pełna własność</td>\n",
       "      <td>do zamieszkania</td>\n",
       "      <td>425.0</td>\n",
       "      <td>miejskie</td>\n",
       "      <td>biuro nieruchomości</td>\n",
       "      <td>True</td>\n",
       "      <td>balkon</td>\n",
       "      <td>blok</td>\n",
       "      <td>brak informacji</td>\n",
       "    </tr>\n",
       "    <tr>\n",
       "      <th>2385</th>\n",
       "      <td>https://www.otodom.pl/pl/oferta/komfortowe-2-p...</td>\n",
       "      <td>komfortowe 2-pokojowe mieszkanie 42m2</td>\n",
       "      <td>Albertyńskie, Bieńczyce, Bieńczyce, Kraków, ma...</td>\n",
       "      <td>559000.0</td>\n",
       "      <td>42.0</td>\n",
       "      <td>13310.0</td>\n",
       "      <td>2</td>\n",
       "      <td>4</td>\n",
       "      <td>2</td>\n",
       "      <td>1964.0</td>\n",
       "      <td>...</td>\n",
       "      <td>wtórny</td>\n",
       "      <td>NaN</td>\n",
       "      <td>NaN</td>\n",
       "      <td>500.0</td>\n",
       "      <td>miejskie</td>\n",
       "      <td>biuro nieruchomości</td>\n",
       "      <td>False</td>\n",
       "      <td>balkon</td>\n",
       "      <td>blok</td>\n",
       "      <td>brak informacji</td>\n",
       "    </tr>\n",
       "    <tr>\n",
       "      <th>3985</th>\n",
       "      <td>https://www.otodom.pl/pl/oferta/aleja-29-listo...</td>\n",
       "      <td>Aleja 29 Listopada obok UR</td>\n",
       "      <td>Aleja 29 Listopada, Górka Narodowa, Prądnik Bi...</td>\n",
       "      <td>695000.0</td>\n",
       "      <td>48.1</td>\n",
       "      <td>14449.0</td>\n",
       "      <td>3</td>\n",
       "      <td>3</td>\n",
       "      <td>2</td>\n",
       "      <td>NaN</td>\n",
       "      <td>...</td>\n",
       "      <td>wtórny</td>\n",
       "      <td>pełna własność</td>\n",
       "      <td>do zamieszkania</td>\n",
       "      <td>NaN</td>\n",
       "      <td>gazowe</td>\n",
       "      <td>biuro nieruchomości</td>\n",
       "      <td>False</td>\n",
       "      <td>balkon</td>\n",
       "      <td>blok</td>\n",
       "      <td>brak informacji</td>\n",
       "    </tr>\n",
       "    <tr>\n",
       "      <th>...</th>\n",
       "      <td>...</td>\n",
       "      <td>...</td>\n",
       "      <td>...</td>\n",
       "      <td>...</td>\n",
       "      <td>...</td>\n",
       "      <td>...</td>\n",
       "      <td>...</td>\n",
       "      <td>...</td>\n",
       "      <td>...</td>\n",
       "      <td>...</td>\n",
       "      <td>...</td>\n",
       "      <td>...</td>\n",
       "      <td>...</td>\n",
       "      <td>...</td>\n",
       "      <td>...</td>\n",
       "      <td>...</td>\n",
       "      <td>...</td>\n",
       "      <td>...</td>\n",
       "      <td>...</td>\n",
       "      <td>...</td>\n",
       "      <td>...</td>\n",
       "    </tr>\n",
       "    <tr>\n",
       "      <th>100</th>\n",
       "      <td>https://www.otodom.pl/pl/oferta/3-pokoje-na-za...</td>\n",
       "      <td>3 pokoje na Żabińcu !!!</td>\n",
       "      <td>Żabiniec, Prądnik Biały, Kraków, małopolskie</td>\n",
       "      <td>850000.0</td>\n",
       "      <td>77.0</td>\n",
       "      <td>11039.0</td>\n",
       "      <td>4</td>\n",
       "      <td>6</td>\n",
       "      <td>3</td>\n",
       "      <td>2002.0</td>\n",
       "      <td>...</td>\n",
       "      <td>wtórny</td>\n",
       "      <td>pełna własność</td>\n",
       "      <td>NaN</td>\n",
       "      <td>800.0</td>\n",
       "      <td>miejskie</td>\n",
       "      <td>biuro nieruchomości</td>\n",
       "      <td>True</td>\n",
       "      <td>balkon</td>\n",
       "      <td>blok</td>\n",
       "      <td>brak informacji</td>\n",
       "    </tr>\n",
       "    <tr>\n",
       "      <th>7127</th>\n",
       "      <td>https://www.otodom.pl/pl/oferta/pradnik-bialy-...</td>\n",
       "      <td>Prądnik Biały - Ul. Reja</td>\n",
       "      <td>Żabiniec, Prądnik Biały, Kraków, małopolskie</td>\n",
       "      <td>1100000.0</td>\n",
       "      <td>71.0</td>\n",
       "      <td>15493.0</td>\n",
       "      <td>0</td>\n",
       "      <td>6</td>\n",
       "      <td>3</td>\n",
       "      <td>2005.0</td>\n",
       "      <td>...</td>\n",
       "      <td>wtórny</td>\n",
       "      <td>NaN</td>\n",
       "      <td>do zamieszkania</td>\n",
       "      <td>NaN</td>\n",
       "      <td>miejskie</td>\n",
       "      <td>biuro nieruchomości</td>\n",
       "      <td>True</td>\n",
       "      <td>balkon</td>\n",
       "      <td>blok</td>\n",
       "      <td>brak informacji</td>\n",
       "    </tr>\n",
       "    <tr>\n",
       "      <th>7233</th>\n",
       "      <td>https://www.otodom.pl/pl/oferta/mieszkanie-73-...</td>\n",
       "      <td>Mieszkanie, 73 m², Kraków</td>\n",
       "      <td>Żabiniec, Prądnik Biały, Kraków, małopolskie</td>\n",
       "      <td>1100000.0</td>\n",
       "      <td>73.0</td>\n",
       "      <td>15068.0</td>\n",
       "      <td>0</td>\n",
       "      <td>6</td>\n",
       "      <td>3</td>\n",
       "      <td>2005.0</td>\n",
       "      <td>...</td>\n",
       "      <td>wtórny</td>\n",
       "      <td>pełna własność</td>\n",
       "      <td>NaN</td>\n",
       "      <td>700.0</td>\n",
       "      <td>miejskie</td>\n",
       "      <td>biuro nieruchomości</td>\n",
       "      <td>True</td>\n",
       "      <td>balkon</td>\n",
       "      <td>blok</td>\n",
       "      <td>brak informacji</td>\n",
       "    </tr>\n",
       "    <tr>\n",
       "      <th>388</th>\n",
       "      <td>https://www.otodom.pl/pl/oferta/widokowe-m3-z-...</td>\n",
       "      <td>Widokowe M3 z klimatyzacją i parkingiem, Żabiniec</td>\n",
       "      <td>Żabiniec, Prądnik Biały, Kraków, małopolskie</td>\n",
       "      <td>1179000.0</td>\n",
       "      <td>71.5</td>\n",
       "      <td>16490.0</td>\n",
       "      <td>5</td>\n",
       "      <td>8</td>\n",
       "      <td>3</td>\n",
       "      <td>2001.0</td>\n",
       "      <td>...</td>\n",
       "      <td>wtórny</td>\n",
       "      <td>pełna własność</td>\n",
       "      <td>do zamieszkania</td>\n",
       "      <td>940.0</td>\n",
       "      <td>miejskie</td>\n",
       "      <td>biuro nieruchomości</td>\n",
       "      <td>True</td>\n",
       "      <td>balkon</td>\n",
       "      <td>apartamentowiec</td>\n",
       "      <td>brak informacji</td>\n",
       "    </tr>\n",
       "    <tr>\n",
       "      <th>2771</th>\n",
       "      <td>https://www.otodom.pl/pl/oferta/1m-wyposazone-...</td>\n",
       "      <td>1M! Wyposażone|Ogródek 25m2|Inwestycja - ROI 10%</td>\n",
       "      <td>żabniec, Żabiniec, Prądnik Biały, Kraków, mało...</td>\n",
       "      <td>639000.0</td>\n",
       "      <td>26.0</td>\n",
       "      <td>24577.0</td>\n",
       "      <td>0</td>\n",
       "      <td>4</td>\n",
       "      <td>1</td>\n",
       "      <td>2017.0</td>\n",
       "      <td>...</td>\n",
       "      <td>wtórny</td>\n",
       "      <td>pełna własność</td>\n",
       "      <td>do zamieszkania</td>\n",
       "      <td>300.0</td>\n",
       "      <td>miejskie</td>\n",
       "      <td>biuro nieruchomości</td>\n",
       "      <td>False</td>\n",
       "      <td>ogródek</td>\n",
       "      <td>blok</td>\n",
       "      <td>brak informacji</td>\n",
       "    </tr>\n",
       "  </tbody>\n",
       "</table>\n",
       "<p>9895 rows × 21 columns</p>\n",
       "</div>"
      ],
      "text/plain": [
       "                                                    url  \\\n",
       "4499  https://www.otodom.pl/pl/oferta/nowe-mieszkani...   \n",
       "1143  https://www.otodom.pl/pl/oferta/balkon-3-pokoj...   \n",
       "8954  https://www.otodom.pl/pl/oferta/zlocien-2-poko...   \n",
       "2385  https://www.otodom.pl/pl/oferta/komfortowe-2-p...   \n",
       "3985  https://www.otodom.pl/pl/oferta/aleja-29-listo...   \n",
       "...                                                 ...   \n",
       "100   https://www.otodom.pl/pl/oferta/3-pokoje-na-za...   \n",
       "7127  https://www.otodom.pl/pl/oferta/pradnik-bialy-...   \n",
       "7233  https://www.otodom.pl/pl/oferta/mieszkanie-73-...   \n",
       "388   https://www.otodom.pl/pl/oferta/widokowe-m3-z-...   \n",
       "2771  https://www.otodom.pl/pl/oferta/1m-wyposazone-...   \n",
       "\n",
       "                                             name/title  \\\n",
       "4499                 Nowe mieszkania na Górce Narodowej   \n",
       "1143                        balkon + 3 pokoje + parking   \n",
       "8954                          Złocień, 2 pokoje, balkon   \n",
       "2385              komfortowe 2-pokojowe mieszkanie 42m2   \n",
       "3985                         Aleja 29 Listopada obok UR   \n",
       "...                                                 ...   \n",
       "100                             3 pokoje na Żabińcu !!!   \n",
       "7127                           Prądnik Biały - Ul. Reja   \n",
       "7233                          Mieszkanie, 73 m², Kraków   \n",
       "388   Widokowe M3 z klimatyzacją i parkingiem, Żabiniec   \n",
       "2771   1M! Wyposażone|Ogródek 25m2|Inwestycja - ROI 10%   \n",
       "\n",
       "                                                address      price  area  \\\n",
       "4499  29 listopada - okolice, Górka Narodowa, Prądni...   778689.0  61.3   \n",
       "1143  Adama Vetulaniego, Prądnik Biały, Prądnik Biał...   970000.0  55.0   \n",
       "8954  Agatowa, Domagały,, Złocień, Bieżanów-Prokocim...   625000.0  36.8   \n",
       "2385  Albertyńskie, Bieńczyce, Bieńczyce, Kraków, ma...   559000.0  42.0   \n",
       "3985  Aleja 29 Listopada, Górka Narodowa, Prądnik Bi...   695000.0  48.1   \n",
       "...                                                 ...        ...   ...   \n",
       "100        Żabiniec, Prądnik Biały, Kraków, małopolskie   850000.0  77.0   \n",
       "7127       Żabiniec, Prądnik Biały, Kraków, małopolskie  1100000.0  71.0   \n",
       "7233       Żabiniec, Prądnik Biały, Kraków, małopolskie  1100000.0  73.0   \n",
       "388        Żabiniec, Prądnik Biały, Kraków, małopolskie  1179000.0  71.5   \n",
       "2771  żabniec, Żabiniec, Prądnik Biały, Kraków, mało...   639000.0  26.0   \n",
       "\n",
       "      price-per-area  floor/store  no of floors/stores in the building  \\\n",
       "4499         12703.0            1                                    5   \n",
       "1143         17636.0            4                                    7   \n",
       "8954         16984.0            4                                    4   \n",
       "2385         13310.0            2                                    4   \n",
       "3985         14449.0            3                                    3   \n",
       "...              ...          ...                                  ...   \n",
       "100          11039.0            4                                    6   \n",
       "7127         15493.0            0                                    6   \n",
       "7233         15068.0            0                                    6   \n",
       "388          16490.0            5                                    8   \n",
       "2771         24577.0            0                                    4   \n",
       "\n",
       "      no of rooms  year of construction  ...     market form of ownership  \\\n",
       "4499            2                2023.0  ...  pierwotny    pełna własność   \n",
       "1143            3                2023.0  ...     wtórny    pełna własność   \n",
       "8954            2                2019.0  ...     wtórny    pełna własność   \n",
       "2385            2                1964.0  ...     wtórny               NaN   \n",
       "3985            2                   NaN  ...     wtórny    pełna własność   \n",
       "...           ...                   ...  ...        ...               ...   \n",
       "100             3                2002.0  ...     wtórny    pełna własność   \n",
       "7127            3                2005.0  ...     wtórny               NaN   \n",
       "7233            3                2005.0  ...     wtórny    pełna własność   \n",
       "388             3                2001.0  ...     wtórny    pełna własność   \n",
       "2771            1                2017.0  ...     wtórny    pełna własność   \n",
       "\n",
       "            condition   rent   heating      advertiser type elevator  \\\n",
       "4499              NaN    NaN  miejskie  biuro nieruchomości     True   \n",
       "1143              NaN  450.0  miejskie  biuro nieruchomości     True   \n",
       "8954  do zamieszkania  425.0  miejskie  biuro nieruchomości     True   \n",
       "2385              NaN  500.0  miejskie  biuro nieruchomości    False   \n",
       "3985  do zamieszkania    NaN    gazowe  biuro nieruchomości    False   \n",
       "...               ...    ...       ...                  ...      ...   \n",
       "100               NaN  800.0  miejskie  biuro nieruchomości     True   \n",
       "7127  do zamieszkania    NaN  miejskie  biuro nieruchomości     True   \n",
       "7233              NaN  700.0  miejskie  biuro nieruchomości     True   \n",
       "388   do zamieszkania  940.0  miejskie  biuro nieruchomości     True   \n",
       "2771  do zamieszkania  300.0  miejskie  biuro nieruchomości    False   \n",
       "\n",
       "      outdoor area    building type building material  \n",
       "4499        balkon  brak informacji   brak informacji  \n",
       "1143        balkon             blok   brak informacji  \n",
       "8954        balkon             blok   brak informacji  \n",
       "2385        balkon             blok   brak informacji  \n",
       "3985        balkon             blok   brak informacji  \n",
       "...            ...              ...               ...  \n",
       "100         balkon             blok   brak informacji  \n",
       "7127        balkon             blok   brak informacji  \n",
       "7233        balkon             blok   brak informacji  \n",
       "388         balkon  apartamentowiec   brak informacji  \n",
       "2771       ogródek             blok   brak informacji  \n",
       "\n",
       "[9895 rows x 21 columns]"
      ]
     },
     "execution_count": 236,
     "metadata": {},
     "output_type": "execute_result"
    }
   ],
   "source": [
    "df_filtered_sorted_otodom['address'] = df_filtered_sorted_otodom.apply(update_address, axis=1)\n",
    "df_filtered_sorted_otodom['address'] = df_filtered_sorted_otodom['address'].str.replace(r'^ul\\.\\s+', '', regex=True)\n",
    "df_filtered_sorted_otodom['address'] = df_filtered_sorted_otodom['address'].str.replace(r',\\s*ul\\.\\s[^,\\d]+,\\s', ', ', regex=True)\n",
    "df_filtered_sorted_otodom"
   ]
  },
  {
   "cell_type": "code",
   "execution_count": 237,
   "metadata": {
    "ExecuteTime": {
     "end_time": "2024-05-07T16:35:31.697039Z",
     "start_time": "2024-05-07T16:35:31.675988Z"
    }
   },
   "outputs": [],
   "source": [
    "merged_df = pd.merge(\n",
    "    df_filtered_sorted_otodom, \n",
    "    location_df[['address', 'location', 'latitude', 'longitude']], \n",
    "    on='address', \n",
    "    how='left'\n",
    ")\n",
    "\n",
    "needs_update = merged_df['location'].isna()\n",
    "\n",
    "merged_df.loc[needs_update, 'location'] = merged_df.loc[needs_update, 'location']\n",
    "merged_df.loc[needs_update, 'latitude'] = merged_df.loc[needs_update, 'latitude']\n",
    "merged_df.loc[needs_update, 'longitude'] = merged_df.loc[needs_update, 'longitude']\n",
    "\n",
    "\n",
    "df_filtered_sorted_otodom = merged_df"
   ]
  },
  {
   "cell_type": "code",
   "execution_count": 238,
   "metadata": {
    "ExecuteTime": {
     "end_time": "2024-05-07T16:35:34.951568Z",
     "start_time": "2024-05-07T16:35:34.931123Z"
    }
   },
   "outputs": [
    {
     "data": {
      "text/html": [
       "<div>\n",
       "<style scoped>\n",
       "    .dataframe tbody tr th:only-of-type {\n",
       "        vertical-align: middle;\n",
       "    }\n",
       "\n",
       "    .dataframe tbody tr th {\n",
       "        vertical-align: top;\n",
       "    }\n",
       "\n",
       "    .dataframe thead th {\n",
       "        text-align: right;\n",
       "    }\n",
       "</style>\n",
       "<table border=\"1\" class=\"dataframe\">\n",
       "  <thead>\n",
       "    <tr style=\"text-align: right;\">\n",
       "      <th></th>\n",
       "      <th>url</th>\n",
       "      <th>name/title</th>\n",
       "      <th>address</th>\n",
       "      <th>price</th>\n",
       "      <th>area</th>\n",
       "      <th>price-per-area</th>\n",
       "      <th>floor/store</th>\n",
       "      <th>no of floors/stores in the building</th>\n",
       "      <th>no of rooms</th>\n",
       "      <th>year of construction</th>\n",
       "      <th>...</th>\n",
       "      <th>rent</th>\n",
       "      <th>heating</th>\n",
       "      <th>advertiser type</th>\n",
       "      <th>elevator</th>\n",
       "      <th>outdoor area</th>\n",
       "      <th>building type</th>\n",
       "      <th>building material</th>\n",
       "      <th>location</th>\n",
       "      <th>latitude</th>\n",
       "      <th>longitude</th>\n",
       "    </tr>\n",
       "  </thead>\n",
       "  <tbody>\n",
       "    <tr>\n",
       "      <th>3919</th>\n",
       "      <td>https://www.otodom.pl/pl/oferta/mieszkanie-ul-...</td>\n",
       "      <td>Mieszkanie ul. Bajeczna - wysoki standard</td>\n",
       "      <td>Bajeczna - wysoki standard, Dąbie, Grzegórzki,...</td>\n",
       "      <td>1189000.0</td>\n",
       "      <td>56.67</td>\n",
       "      <td>20981.0</td>\n",
       "      <td>2</td>\n",
       "      <td>5</td>\n",
       "      <td>3</td>\n",
       "      <td>2023.0</td>\n",
       "      <td>...</td>\n",
       "      <td>650.0</td>\n",
       "      <td>NaN</td>\n",
       "      <td>prywatny</td>\n",
       "      <td>True</td>\n",
       "      <td>balkon</td>\n",
       "      <td>blok</td>\n",
       "      <td>brak informacji</td>\n",
       "      <td>NaN</td>\n",
       "      <td>NaN</td>\n",
       "      <td>NaN</td>\n",
       "    </tr>\n",
       "    <tr>\n",
       "      <th>7187</th>\n",
       "      <td>https://www.otodom.pl/pl/oferta/29-metrow-przy...</td>\n",
       "      <td>29 metrów przy ul. Pękowickiej - balkon i komórka</td>\n",
       "      <td>Pękowickiej - balkon i komórka, Tonie, Prądnik...</td>\n",
       "      <td>492999.0</td>\n",
       "      <td>29.00</td>\n",
       "      <td>17000.0</td>\n",
       "      <td>3</td>\n",
       "      <td>3</td>\n",
       "      <td>1</td>\n",
       "      <td>2019.0</td>\n",
       "      <td>...</td>\n",
       "      <td>310.0</td>\n",
       "      <td>miejskie</td>\n",
       "      <td>biuro nieruchomości</td>\n",
       "      <td>False</td>\n",
       "      <td>None</td>\n",
       "      <td>blok</td>\n",
       "      <td>brak informacji</td>\n",
       "      <td>NaN</td>\n",
       "      <td>NaN</td>\n",
       "      <td>NaN</td>\n",
       "    </tr>\n",
       "    <tr>\n",
       "      <th>9848</th>\n",
       "      <td>https://www.otodom.pl/pl/oferta/mieszkanie-ul-...</td>\n",
       "      <td>Mieszkanie ul. Lea po generalnym remoncie</td>\n",
       "      <td>Lea po generalnym remoncie, Łobzów, Krowodrza,...</td>\n",
       "      <td>995000.0</td>\n",
       "      <td>48.00</td>\n",
       "      <td>20729.0</td>\n",
       "      <td>7</td>\n",
       "      <td>10</td>\n",
       "      <td>3</td>\n",
       "      <td>1990.0</td>\n",
       "      <td>...</td>\n",
       "      <td>NaN</td>\n",
       "      <td>miejskie</td>\n",
       "      <td>prywatny</td>\n",
       "      <td>True</td>\n",
       "      <td>balkon</td>\n",
       "      <td>blok</td>\n",
       "      <td>brak informacji</td>\n",
       "      <td>NaN</td>\n",
       "      <td>NaN</td>\n",
       "      <td>NaN</td>\n",
       "    </tr>\n",
       "  </tbody>\n",
       "</table>\n",
       "<p>3 rows × 24 columns</p>\n",
       "</div>"
      ],
      "text/plain": [
       "                                                    url  \\\n",
       "3919  https://www.otodom.pl/pl/oferta/mieszkanie-ul-...   \n",
       "7187  https://www.otodom.pl/pl/oferta/29-metrow-przy...   \n",
       "9848  https://www.otodom.pl/pl/oferta/mieszkanie-ul-...   \n",
       "\n",
       "                                             name/title  \\\n",
       "3919          Mieszkanie ul. Bajeczna - wysoki standard   \n",
       "7187  29 metrów przy ul. Pękowickiej - balkon i komórka   \n",
       "9848          Mieszkanie ul. Lea po generalnym remoncie   \n",
       "\n",
       "                                                address      price   area  \\\n",
       "3919  Bajeczna - wysoki standard, Dąbie, Grzegórzki,...  1189000.0  56.67   \n",
       "7187  Pękowickiej - balkon i komórka, Tonie, Prądnik...   492999.0  29.00   \n",
       "9848  Lea po generalnym remoncie, Łobzów, Krowodrza,...   995000.0  48.00   \n",
       "\n",
       "      price-per-area  floor/store  no of floors/stores in the building  \\\n",
       "3919         20981.0            2                                    5   \n",
       "7187         17000.0            3                                    3   \n",
       "9848         20729.0            7                                   10   \n",
       "\n",
       "      no of rooms  year of construction  ...   rent   heating  \\\n",
       "3919            3                2023.0  ...  650.0       NaN   \n",
       "7187            1                2019.0  ...  310.0  miejskie   \n",
       "9848            3                1990.0  ...    NaN  miejskie   \n",
       "\n",
       "          advertiser type elevator  outdoor area building type  \\\n",
       "3919             prywatny     True        balkon          blok   \n",
       "7187  biuro nieruchomości    False          None          blok   \n",
       "9848             prywatny     True        balkon          blok   \n",
       "\n",
       "     building material  location latitude longitude  \n",
       "3919   brak informacji       NaN      NaN       NaN  \n",
       "7187   brak informacji       NaN      NaN       NaN  \n",
       "9848   brak informacji       NaN      NaN       NaN  \n",
       "\n",
       "[3 rows x 24 columns]"
      ]
     },
     "execution_count": 238,
     "metadata": {},
     "output_type": "execute_result"
    }
   ],
   "source": [
    "df_filtered_sorted_otodom[df_filtered_sorted_otodom['location'].isna()]"
   ]
  },
  {
   "cell_type": "code",
   "execution_count": 240,
   "metadata": {
    "ExecuteTime": {
     "end_time": "2024-05-07T16:35:48.804030Z",
     "start_time": "2024-05-07T16:35:48.777755Z"
    }
   },
   "outputs": [],
   "source": [
    "unique_addresses = set(df_filtered_sorted_otodom[df_filtered_sorted_otodom['location'].isna()]['address'].unique())\n",
    "address_list = list(unique_addresses)\n",
    "\n",
    "location_df_otodom = pd.DataFrame({\n",
    "    'address': address_list,\n",
    "    'manipulated address': address_list\n",
    "})\n",
    "\n",
    "location_df_otodom.to_excel(\"temp.xlsx\", index=False)"
   ]
  },
  {
   "cell_type": "code",
   "execution_count": 241,
   "metadata": {
    "ExecuteTime": {
     "end_time": "2024-05-07T16:36:39.983510Z",
     "start_time": "2024-05-07T16:36:38.706868Z"
    }
   },
   "outputs": [
    {
     "name": "stdout",
     "output_type": "stream",
     "text": [
      "Rows needing geocoding: 3\n",
      "Bajeczna, Dąbie, Grzegórzki, Kraków, województwo małopolskie, 31-566, Polska, 50.0574115, 19.9766744\n",
      "Juliusza Lea, Łobzów, Krowodrza, Kraków, województwo małopolskie, 30-070, Polska, 50.0723293, 19.9050999\n",
      "Pękowicka, Tonie, Prądnik Biały, Kraków, gmina Zielonki, powiat krakowski, województwo małopolskie, 31-267, Polska, 50.1195714, 19.9069499\n",
      "Data saved to datasets/geocoded_from_xlsx.csv\n"
     ]
    },
    {
     "data": {
      "text/html": [
       "<div>\n",
       "<style scoped>\n",
       "    .dataframe tbody tr th:only-of-type {\n",
       "        vertical-align: middle;\n",
       "    }\n",
       "\n",
       "    .dataframe tbody tr th {\n",
       "        vertical-align: top;\n",
       "    }\n",
       "\n",
       "    .dataframe thead th {\n",
       "        text-align: right;\n",
       "    }\n",
       "</style>\n",
       "<table border=\"1\" class=\"dataframe\">\n",
       "  <thead>\n",
       "    <tr style=\"text-align: right;\">\n",
       "      <th></th>\n",
       "      <th>address</th>\n",
       "      <th>manipulated address</th>\n",
       "      <th>location</th>\n",
       "      <th>latitude</th>\n",
       "      <th>longitude</th>\n",
       "    </tr>\n",
       "  </thead>\n",
       "  <tbody>\n",
       "    <tr>\n",
       "      <th>0</th>\n",
       "      <td>Bajeczna - wysoki standard, Dąbie, Grzegórzki,...</td>\n",
       "      <td>Bajeczna, Dąbie, Grzegórzki, Kraków, małopolskie</td>\n",
       "      <td>Bajeczna, Dąbie, Grzegórzki, Kraków, województ...</td>\n",
       "      <td>50.057412</td>\n",
       "      <td>19.976674</td>\n",
       "    </tr>\n",
       "    <tr>\n",
       "      <th>1</th>\n",
       "      <td>Lea po generalnym remoncie, Łobzów, Krowodrza,...</td>\n",
       "      <td>Lea , Łobzów, Krowodrza, Kraków, małopolskie</td>\n",
       "      <td>Juliusza Lea, Łobzów, Krowodrza, Kraków, wojew...</td>\n",
       "      <td>50.072329</td>\n",
       "      <td>19.905100</td>\n",
       "    </tr>\n",
       "    <tr>\n",
       "      <th>2</th>\n",
       "      <td>Pękowickiej - balkon i komórka, Tonie, Prądnik...</td>\n",
       "      <td>Pękowicka, Tonie, Prądnik Biały, Kraków, małop...</td>\n",
       "      <td>Pękowicka, Tonie, Prądnik Biały, Kraków, gmina...</td>\n",
       "      <td>50.119571</td>\n",
       "      <td>19.906950</td>\n",
       "    </tr>\n",
       "  </tbody>\n",
       "</table>\n",
       "</div>"
      ],
      "text/plain": [
       "                                             address  \\\n",
       "0  Bajeczna - wysoki standard, Dąbie, Grzegórzki,...   \n",
       "1  Lea po generalnym remoncie, Łobzów, Krowodrza,...   \n",
       "2  Pękowickiej - balkon i komórka, Tonie, Prądnik...   \n",
       "\n",
       "                                 manipulated address  \\\n",
       "0   Bajeczna, Dąbie, Grzegórzki, Kraków, małopolskie   \n",
       "1       Lea , Łobzów, Krowodrza, Kraków, małopolskie   \n",
       "2  Pękowicka, Tonie, Prądnik Biały, Kraków, małop...   \n",
       "\n",
       "                                            location   latitude  longitude  \n",
       "0  Bajeczna, Dąbie, Grzegórzki, Kraków, województ...  50.057412  19.976674  \n",
       "1  Juliusza Lea, Łobzów, Krowodrza, Kraków, wojew...  50.072329  19.905100  \n",
       "2  Pękowicka, Tonie, Prądnik Biały, Kraków, gmina...  50.119571  19.906950  "
      ]
     },
     "execution_count": 241,
     "metadata": {},
     "output_type": "execute_result"
    }
   ],
   "source": [
    "location_df_otodom=geocode_and_save(pd.read_excel('temp.xlsx'), 'datasets/geocoded_from_xlsx.csv')\n",
    "location_df_otodom"
   ]
  },
  {
   "cell_type": "code",
   "execution_count": 242,
   "metadata": {
    "ExecuteTime": {
     "end_time": "2024-05-07T16:36:46.806135Z",
     "start_time": "2024-05-07T16:36:46.739738Z"
    }
   },
   "outputs": [],
   "source": [
    "merged_df = pd.merge(\n",
    "    df_filtered_sorted_otodom,\n",
    "    location_df_otodom[['address', 'location', 'latitude', 'longitude']],\n",
    "    on='address',\n",
    "    how='left',\n",
    "    suffixes=('', '_from_location')\n",
    ")\n",
    "if 'location_from_location' in merged_df.columns:\n",
    "    merged_df['location'] = merged_df['location_from_location'].combine_first(merged_df['location'])\n",
    "    merged_df['latitude'] = merged_df['latitude_from_location'].combine_first(merged_df['latitude'])\n",
    "    merged_df['longitude'] = merged_df['longitude_from_location'].combine_first(merged_df['longitude'])\n",
    "    merged_df.drop(['location_from_location', 'latitude_from_location', 'longitude_from_location'], axis=1, inplace=True)\n",
    "\n",
    "df_filtered_sorted_otodom.update(merged_df)"
   ]
  },
  {
   "cell_type": "code",
   "execution_count": 243,
   "metadata": {
    "ExecuteTime": {
     "end_time": "2024-05-07T16:36:50.840171Z",
     "start_time": "2024-05-07T16:36:50.555090Z"
    }
   },
   "outputs": [
    {
     "data": {
      "text/html": [
       "<div>\n",
       "<style scoped>\n",
       "    .dataframe tbody tr th:only-of-type {\n",
       "        vertical-align: middle;\n",
       "    }\n",
       "\n",
       "    .dataframe tbody tr th {\n",
       "        vertical-align: top;\n",
       "    }\n",
       "\n",
       "    .dataframe thead th {\n",
       "        text-align: right;\n",
       "    }\n",
       "</style>\n",
       "<table border=\"1\" class=\"dataframe\">\n",
       "  <thead>\n",
       "    <tr style=\"text-align: right;\">\n",
       "      <th></th>\n",
       "      <th>url</th>\n",
       "      <th>name/title</th>\n",
       "      <th>address</th>\n",
       "      <th>price</th>\n",
       "      <th>area</th>\n",
       "      <th>price-per-area</th>\n",
       "      <th>floor/store</th>\n",
       "      <th>no of floors/stores in the building</th>\n",
       "      <th>no of rooms</th>\n",
       "      <th>year of construction</th>\n",
       "      <th>...</th>\n",
       "      <th>heating</th>\n",
       "      <th>advertiser type</th>\n",
       "      <th>elevator</th>\n",
       "      <th>outdoor area</th>\n",
       "      <th>building type</th>\n",
       "      <th>building material</th>\n",
       "      <th>location</th>\n",
       "      <th>latitude</th>\n",
       "      <th>longitude</th>\n",
       "      <th>distance</th>\n",
       "    </tr>\n",
       "  </thead>\n",
       "  <tbody>\n",
       "    <tr>\n",
       "      <th>0</th>\n",
       "      <td>https://www.otodom.pl/pl/oferta/nowe-mieszkani...</td>\n",
       "      <td>Nowe mieszkania na Górce Narodowej</td>\n",
       "      <td>29 listopada - okolice, Górka Narodowa, Prądni...</td>\n",
       "      <td>778689.0</td>\n",
       "      <td>61.3</td>\n",
       "      <td>12703.0</td>\n",
       "      <td>1</td>\n",
       "      <td>5</td>\n",
       "      <td>2</td>\n",
       "      <td>2023.0</td>\n",
       "      <td>...</td>\n",
       "      <td>miejskie</td>\n",
       "      <td>biuro nieruchomości</td>\n",
       "      <td>True</td>\n",
       "      <td>balkon</td>\n",
       "      <td>brak informacji</td>\n",
       "      <td>brak informacji</td>\n",
       "      <td>Aleja 29 Listopada, Górka Narodowa, Prądnik Bi...</td>\n",
       "      <td>50.103296</td>\n",
       "      <td>19.963896</td>\n",
       "      <td>4.983478</td>\n",
       "    </tr>\n",
       "    <tr>\n",
       "      <th>1</th>\n",
       "      <td>https://www.otodom.pl/pl/oferta/balkon-3-pokoj...</td>\n",
       "      <td>balkon + 3 pokoje + parking</td>\n",
       "      <td>Adama Vetulaniego, Prądnik Biały, Prądnik Biał...</td>\n",
       "      <td>970000.0</td>\n",
       "      <td>55.0</td>\n",
       "      <td>17636.0</td>\n",
       "      <td>4</td>\n",
       "      <td>7</td>\n",
       "      <td>3</td>\n",
       "      <td>2023.0</td>\n",
       "      <td>...</td>\n",
       "      <td>miejskie</td>\n",
       "      <td>biuro nieruchomości</td>\n",
       "      <td>True</td>\n",
       "      <td>balkon</td>\n",
       "      <td>blok</td>\n",
       "      <td>brak informacji</td>\n",
       "      <td>Adama Vetulaniego, Prądnik Biały, Kraków, woje...</td>\n",
       "      <td>50.095951</td>\n",
       "      <td>19.924784</td>\n",
       "      <td>3.895335</td>\n",
       "    </tr>\n",
       "    <tr>\n",
       "      <th>2</th>\n",
       "      <td>https://www.otodom.pl/pl/oferta/zlocien-2-poko...</td>\n",
       "      <td>Złocień, 2 pokoje, balkon</td>\n",
       "      <td>Agatowa, Domagały,, Złocień, Bieżanów-Prokocim...</td>\n",
       "      <td>625000.0</td>\n",
       "      <td>36.8</td>\n",
       "      <td>16984.0</td>\n",
       "      <td>4</td>\n",
       "      <td>4</td>\n",
       "      <td>2</td>\n",
       "      <td>2019.0</td>\n",
       "      <td>...</td>\n",
       "      <td>miejskie</td>\n",
       "      <td>biuro nieruchomości</td>\n",
       "      <td>True</td>\n",
       "      <td>balkon</td>\n",
       "      <td>blok</td>\n",
       "      <td>brak informacji</td>\n",
       "      <td>Agatowa, Osiedle Kolejowe, Złocień, Bieżanów-P...</td>\n",
       "      <td>50.022046</td>\n",
       "      <td>20.046131</td>\n",
       "      <td>8.943634</td>\n",
       "    </tr>\n",
       "    <tr>\n",
       "      <th>3</th>\n",
       "      <td>https://www.otodom.pl/pl/oferta/komfortowe-2-p...</td>\n",
       "      <td>komfortowe 2-pokojowe mieszkanie 42m2</td>\n",
       "      <td>Albertyńskie, Bieńczyce, Bieńczyce, Kraków, ma...</td>\n",
       "      <td>559000.0</td>\n",
       "      <td>42.0</td>\n",
       "      <td>13310.0</td>\n",
       "      <td>2</td>\n",
       "      <td>4</td>\n",
       "      <td>2</td>\n",
       "      <td>1964.0</td>\n",
       "      <td>...</td>\n",
       "      <td>miejskie</td>\n",
       "      <td>biuro nieruchomości</td>\n",
       "      <td>False</td>\n",
       "      <td>balkon</td>\n",
       "      <td>blok</td>\n",
       "      <td>brak informacji</td>\n",
       "      <td>Osiedle Albertyńskie, Bieńczyce, Kraków, wojew...</td>\n",
       "      <td>50.081431</td>\n",
       "      <td>20.017628</td>\n",
       "      <td>6.131841</td>\n",
       "    </tr>\n",
       "    <tr>\n",
       "      <th>4</th>\n",
       "      <td>https://www.otodom.pl/pl/oferta/aleja-29-listo...</td>\n",
       "      <td>Aleja 29 Listopada obok UR</td>\n",
       "      <td>Aleja 29 Listopada, Górka Narodowa, Prądnik Bi...</td>\n",
       "      <td>695000.0</td>\n",
       "      <td>48.1</td>\n",
       "      <td>14449.0</td>\n",
       "      <td>3</td>\n",
       "      <td>3</td>\n",
       "      <td>2</td>\n",
       "      <td>NaN</td>\n",
       "      <td>...</td>\n",
       "      <td>gazowe</td>\n",
       "      <td>biuro nieruchomości</td>\n",
       "      <td>False</td>\n",
       "      <td>balkon</td>\n",
       "      <td>blok</td>\n",
       "      <td>brak informacji</td>\n",
       "      <td>Aleja 29 Listopada, Górka Narodowa, Prądnik Bi...</td>\n",
       "      <td>50.099768</td>\n",
       "      <td>19.962839</td>\n",
       "      <td>4.592695</td>\n",
       "    </tr>\n",
       "    <tr>\n",
       "      <th>...</th>\n",
       "      <td>...</td>\n",
       "      <td>...</td>\n",
       "      <td>...</td>\n",
       "      <td>...</td>\n",
       "      <td>...</td>\n",
       "      <td>...</td>\n",
       "      <td>...</td>\n",
       "      <td>...</td>\n",
       "      <td>...</td>\n",
       "      <td>...</td>\n",
       "      <td>...</td>\n",
       "      <td>...</td>\n",
       "      <td>...</td>\n",
       "      <td>...</td>\n",
       "      <td>...</td>\n",
       "      <td>...</td>\n",
       "      <td>...</td>\n",
       "      <td>...</td>\n",
       "      <td>...</td>\n",
       "      <td>...</td>\n",
       "      <td>...</td>\n",
       "    </tr>\n",
       "    <tr>\n",
       "      <th>9890</th>\n",
       "      <td>https://www.otodom.pl/pl/oferta/3-pokoje-na-za...</td>\n",
       "      <td>3 pokoje na Żabińcu !!!</td>\n",
       "      <td>Żabiniec, Prądnik Biały, Kraków, małopolskie</td>\n",
       "      <td>850000.0</td>\n",
       "      <td>77.0</td>\n",
       "      <td>11039.0</td>\n",
       "      <td>4</td>\n",
       "      <td>6</td>\n",
       "      <td>3</td>\n",
       "      <td>2002.0</td>\n",
       "      <td>...</td>\n",
       "      <td>miejskie</td>\n",
       "      <td>biuro nieruchomości</td>\n",
       "      <td>True</td>\n",
       "      <td>balkon</td>\n",
       "      <td>blok</td>\n",
       "      <td>brak informacji</td>\n",
       "      <td>Żabiniec, Prądnik Biały, Kraków, województwo m...</td>\n",
       "      <td>50.085931</td>\n",
       "      <td>19.941743</td>\n",
       "      <td>2.695967</td>\n",
       "    </tr>\n",
       "    <tr>\n",
       "      <th>9891</th>\n",
       "      <td>https://www.otodom.pl/pl/oferta/pradnik-bialy-...</td>\n",
       "      <td>Prądnik Biały - Ul. Reja</td>\n",
       "      <td>Żabiniec, Prądnik Biały, Kraków, małopolskie</td>\n",
       "      <td>1100000.0</td>\n",
       "      <td>71.0</td>\n",
       "      <td>15493.0</td>\n",
       "      <td>0</td>\n",
       "      <td>6</td>\n",
       "      <td>3</td>\n",
       "      <td>2005.0</td>\n",
       "      <td>...</td>\n",
       "      <td>miejskie</td>\n",
       "      <td>biuro nieruchomości</td>\n",
       "      <td>True</td>\n",
       "      <td>balkon</td>\n",
       "      <td>blok</td>\n",
       "      <td>brak informacji</td>\n",
       "      <td>Żabiniec, Prądnik Biały, Kraków, województwo m...</td>\n",
       "      <td>50.085931</td>\n",
       "      <td>19.941743</td>\n",
       "      <td>2.695967</td>\n",
       "    </tr>\n",
       "    <tr>\n",
       "      <th>9892</th>\n",
       "      <td>https://www.otodom.pl/pl/oferta/mieszkanie-73-...</td>\n",
       "      <td>Mieszkanie, 73 m², Kraków</td>\n",
       "      <td>Żabiniec, Prądnik Biały, Kraków, małopolskie</td>\n",
       "      <td>1100000.0</td>\n",
       "      <td>73.0</td>\n",
       "      <td>15068.0</td>\n",
       "      <td>0</td>\n",
       "      <td>6</td>\n",
       "      <td>3</td>\n",
       "      <td>2005.0</td>\n",
       "      <td>...</td>\n",
       "      <td>miejskie</td>\n",
       "      <td>biuro nieruchomości</td>\n",
       "      <td>True</td>\n",
       "      <td>balkon</td>\n",
       "      <td>blok</td>\n",
       "      <td>brak informacji</td>\n",
       "      <td>Żabiniec, Prądnik Biały, Kraków, województwo m...</td>\n",
       "      <td>50.085931</td>\n",
       "      <td>19.941743</td>\n",
       "      <td>2.695967</td>\n",
       "    </tr>\n",
       "    <tr>\n",
       "      <th>9893</th>\n",
       "      <td>https://www.otodom.pl/pl/oferta/widokowe-m3-z-...</td>\n",
       "      <td>Widokowe M3 z klimatyzacją i parkingiem, Żabiniec</td>\n",
       "      <td>Żabiniec, Prądnik Biały, Kraków, małopolskie</td>\n",
       "      <td>1179000.0</td>\n",
       "      <td>71.5</td>\n",
       "      <td>16490.0</td>\n",
       "      <td>5</td>\n",
       "      <td>8</td>\n",
       "      <td>3</td>\n",
       "      <td>2001.0</td>\n",
       "      <td>...</td>\n",
       "      <td>miejskie</td>\n",
       "      <td>biuro nieruchomości</td>\n",
       "      <td>True</td>\n",
       "      <td>balkon</td>\n",
       "      <td>apartamentowiec</td>\n",
       "      <td>brak informacji</td>\n",
       "      <td>Żabiniec, Prądnik Biały, Kraków, województwo m...</td>\n",
       "      <td>50.085931</td>\n",
       "      <td>19.941743</td>\n",
       "      <td>2.695967</td>\n",
       "    </tr>\n",
       "    <tr>\n",
       "      <th>9894</th>\n",
       "      <td>https://www.otodom.pl/pl/oferta/1m-wyposazone-...</td>\n",
       "      <td>1M! Wyposażone|Ogródek 25m2|Inwestycja - ROI 10%</td>\n",
       "      <td>żabniec, Żabiniec, Prądnik Biały, Kraków, mało...</td>\n",
       "      <td>639000.0</td>\n",
       "      <td>26.0</td>\n",
       "      <td>24577.0</td>\n",
       "      <td>0</td>\n",
       "      <td>4</td>\n",
       "      <td>1</td>\n",
       "      <td>2017.0</td>\n",
       "      <td>...</td>\n",
       "      <td>miejskie</td>\n",
       "      <td>biuro nieruchomości</td>\n",
       "      <td>False</td>\n",
       "      <td>ogródek</td>\n",
       "      <td>blok</td>\n",
       "      <td>brak informacji</td>\n",
       "      <td>Żabiniec, Prądnik Biały, Kraków, województwo m...</td>\n",
       "      <td>50.085931</td>\n",
       "      <td>19.941743</td>\n",
       "      <td>2.695967</td>\n",
       "    </tr>\n",
       "  </tbody>\n",
       "</table>\n",
       "<p>9895 rows × 25 columns</p>\n",
       "</div>"
      ],
      "text/plain": [
       "                                                    url  \\\n",
       "0     https://www.otodom.pl/pl/oferta/nowe-mieszkani...   \n",
       "1     https://www.otodom.pl/pl/oferta/balkon-3-pokoj...   \n",
       "2     https://www.otodom.pl/pl/oferta/zlocien-2-poko...   \n",
       "3     https://www.otodom.pl/pl/oferta/komfortowe-2-p...   \n",
       "4     https://www.otodom.pl/pl/oferta/aleja-29-listo...   \n",
       "...                                                 ...   \n",
       "9890  https://www.otodom.pl/pl/oferta/3-pokoje-na-za...   \n",
       "9891  https://www.otodom.pl/pl/oferta/pradnik-bialy-...   \n",
       "9892  https://www.otodom.pl/pl/oferta/mieszkanie-73-...   \n",
       "9893  https://www.otodom.pl/pl/oferta/widokowe-m3-z-...   \n",
       "9894  https://www.otodom.pl/pl/oferta/1m-wyposazone-...   \n",
       "\n",
       "                                             name/title  \\\n",
       "0                    Nowe mieszkania na Górce Narodowej   \n",
       "1                           balkon + 3 pokoje + parking   \n",
       "2                             Złocień, 2 pokoje, balkon   \n",
       "3                 komfortowe 2-pokojowe mieszkanie 42m2   \n",
       "4                            Aleja 29 Listopada obok UR   \n",
       "...                                                 ...   \n",
       "9890                            3 pokoje na Żabińcu !!!   \n",
       "9891                           Prądnik Biały - Ul. Reja   \n",
       "9892                          Mieszkanie, 73 m², Kraków   \n",
       "9893  Widokowe M3 z klimatyzacją i parkingiem, Żabiniec   \n",
       "9894   1M! Wyposażone|Ogródek 25m2|Inwestycja - ROI 10%   \n",
       "\n",
       "                                                address      price  area  \\\n",
       "0     29 listopada - okolice, Górka Narodowa, Prądni...   778689.0  61.3   \n",
       "1     Adama Vetulaniego, Prądnik Biały, Prądnik Biał...   970000.0  55.0   \n",
       "2     Agatowa, Domagały,, Złocień, Bieżanów-Prokocim...   625000.0  36.8   \n",
       "3     Albertyńskie, Bieńczyce, Bieńczyce, Kraków, ma...   559000.0  42.0   \n",
       "4     Aleja 29 Listopada, Górka Narodowa, Prądnik Bi...   695000.0  48.1   \n",
       "...                                                 ...        ...   ...   \n",
       "9890       Żabiniec, Prądnik Biały, Kraków, małopolskie   850000.0  77.0   \n",
       "9891       Żabiniec, Prądnik Biały, Kraków, małopolskie  1100000.0  71.0   \n",
       "9892       Żabiniec, Prądnik Biały, Kraków, małopolskie  1100000.0  73.0   \n",
       "9893       Żabiniec, Prądnik Biały, Kraków, małopolskie  1179000.0  71.5   \n",
       "9894  żabniec, Żabiniec, Prądnik Biały, Kraków, mało...   639000.0  26.0   \n",
       "\n",
       "      price-per-area  floor/store  no of floors/stores in the building  \\\n",
       "0            12703.0            1                                    5   \n",
       "1            17636.0            4                                    7   \n",
       "2            16984.0            4                                    4   \n",
       "3            13310.0            2                                    4   \n",
       "4            14449.0            3                                    3   \n",
       "...              ...          ...                                  ...   \n",
       "9890         11039.0            4                                    6   \n",
       "9891         15493.0            0                                    6   \n",
       "9892         15068.0            0                                    6   \n",
       "9893         16490.0            5                                    8   \n",
       "9894         24577.0            0                                    4   \n",
       "\n",
       "      no of rooms  year of construction  ...   heating      advertiser type  \\\n",
       "0               2                2023.0  ...  miejskie  biuro nieruchomości   \n",
       "1               3                2023.0  ...  miejskie  biuro nieruchomości   \n",
       "2               2                2019.0  ...  miejskie  biuro nieruchomości   \n",
       "3               2                1964.0  ...  miejskie  biuro nieruchomości   \n",
       "4               2                   NaN  ...    gazowe  biuro nieruchomości   \n",
       "...           ...                   ...  ...       ...                  ...   \n",
       "9890            3                2002.0  ...  miejskie  biuro nieruchomości   \n",
       "9891            3                2005.0  ...  miejskie  biuro nieruchomości   \n",
       "9892            3                2005.0  ...  miejskie  biuro nieruchomości   \n",
       "9893            3                2001.0  ...  miejskie  biuro nieruchomości   \n",
       "9894            1                2017.0  ...  miejskie  biuro nieruchomości   \n",
       "\n",
       "     elevator outdoor area    building type building material  \\\n",
       "0        True       balkon  brak informacji   brak informacji   \n",
       "1        True       balkon             blok   brak informacji   \n",
       "2        True       balkon             blok   brak informacji   \n",
       "3       False       balkon             blok   brak informacji   \n",
       "4       False       balkon             blok   brak informacji   \n",
       "...       ...          ...              ...               ...   \n",
       "9890     True       balkon             blok   brak informacji   \n",
       "9891     True       balkon             blok   brak informacji   \n",
       "9892     True       balkon             blok   brak informacji   \n",
       "9893     True       balkon  apartamentowiec   brak informacji   \n",
       "9894    False      ogródek             blok   brak informacji   \n",
       "\n",
       "                                               location   latitude  longitude  \\\n",
       "0     Aleja 29 Listopada, Górka Narodowa, Prądnik Bi...  50.103296  19.963896   \n",
       "1     Adama Vetulaniego, Prądnik Biały, Kraków, woje...  50.095951  19.924784   \n",
       "2     Agatowa, Osiedle Kolejowe, Złocień, Bieżanów-P...  50.022046  20.046131   \n",
       "3     Osiedle Albertyńskie, Bieńczyce, Kraków, wojew...  50.081431  20.017628   \n",
       "4     Aleja 29 Listopada, Górka Narodowa, Prądnik Bi...  50.099768  19.962839   \n",
       "...                                                 ...        ...        ...   \n",
       "9890  Żabiniec, Prądnik Biały, Kraków, województwo m...  50.085931  19.941743   \n",
       "9891  Żabiniec, Prądnik Biały, Kraków, województwo m...  50.085931  19.941743   \n",
       "9892  Żabiniec, Prądnik Biały, Kraków, województwo m...  50.085931  19.941743   \n",
       "9893  Żabiniec, Prądnik Biały, Kraków, województwo m...  50.085931  19.941743   \n",
       "9894  Żabiniec, Prądnik Biały, Kraków, województwo m...  50.085931  19.941743   \n",
       "\n",
       "      distance  \n",
       "0     4.983478  \n",
       "1     3.895335  \n",
       "2     8.943634  \n",
       "3     6.131841  \n",
       "4     4.592695  \n",
       "...        ...  \n",
       "9890  2.695967  \n",
       "9891  2.695967  \n",
       "9892  2.695967  \n",
       "9893  2.695967  \n",
       "9894  2.695967  \n",
       "\n",
       "[9895 rows x 25 columns]"
      ]
     },
     "execution_count": 243,
     "metadata": {},
     "output_type": "execute_result"
    }
   ],
   "source": [
    "df_filtered_sorted_otodom['distance'] = df_filtered_sorted_otodom.apply(\n",
    "    lambda row: haversine(city_center_lat, city_center_lon, row['latitude'], row['longitude']),\n",
    "    axis=1\n",
    ")\n",
    "df_filtered_sorted_otodom"
   ]
  },
  {
   "cell_type": "code",
   "execution_count": 244,
   "metadata": {
    "ExecuteTime": {
     "end_time": "2024-05-07T16:36:55.795987Z",
     "start_time": "2024-05-07T16:36:55.742988Z"
    }
   },
   "outputs": [
    {
     "data": {
      "text/html": [
       "<div>\n",
       "<style scoped>\n",
       "    .dataframe tbody tr th:only-of-type {\n",
       "        vertical-align: middle;\n",
       "    }\n",
       "\n",
       "    .dataframe tbody tr th {\n",
       "        vertical-align: top;\n",
       "    }\n",
       "\n",
       "    .dataframe thead th {\n",
       "        text-align: right;\n",
       "    }\n",
       "</style>\n",
       "<table border=\"1\" class=\"dataframe\">\n",
       "  <thead>\n",
       "    <tr style=\"text-align: right;\">\n",
       "      <th></th>\n",
       "      <th>url</th>\n",
       "      <th>name/title</th>\n",
       "      <th>address</th>\n",
       "      <th>price</th>\n",
       "      <th>area</th>\n",
       "      <th>price-per-area</th>\n",
       "      <th>floor/store</th>\n",
       "      <th>no of floors/stores in the building</th>\n",
       "      <th>no of rooms</th>\n",
       "      <th>year of construction</th>\n",
       "      <th>...</th>\n",
       "      <th>advertiser type</th>\n",
       "      <th>elevator</th>\n",
       "      <th>outdoor area</th>\n",
       "      <th>building type</th>\n",
       "      <th>building material</th>\n",
       "      <th>location</th>\n",
       "      <th>latitude</th>\n",
       "      <th>longitude</th>\n",
       "      <th>distance</th>\n",
       "      <th>district</th>\n",
       "    </tr>\n",
       "  </thead>\n",
       "  <tbody>\n",
       "    <tr>\n",
       "      <th>0</th>\n",
       "      <td>https://www.otodom.pl/pl/oferta/nowe-mieszkani...</td>\n",
       "      <td>Nowe mieszkania na Górce Narodowej</td>\n",
       "      <td>29 listopada - okolice, Górka Narodowa, Prądni...</td>\n",
       "      <td>778689.0</td>\n",
       "      <td>61.3</td>\n",
       "      <td>12703.0</td>\n",
       "      <td>1</td>\n",
       "      <td>5</td>\n",
       "      <td>2</td>\n",
       "      <td>2023.0</td>\n",
       "      <td>...</td>\n",
       "      <td>biuro nieruchomości</td>\n",
       "      <td>True</td>\n",
       "      <td>balkon</td>\n",
       "      <td>brak informacji</td>\n",
       "      <td>brak informacji</td>\n",
       "      <td>Aleja 29 Listopada, Górka Narodowa, Prądnik Bi...</td>\n",
       "      <td>50.103296</td>\n",
       "      <td>19.963896</td>\n",
       "      <td>4.983478</td>\n",
       "      <td>Prądnik Biały</td>\n",
       "    </tr>\n",
       "    <tr>\n",
       "      <th>1</th>\n",
       "      <td>https://www.otodom.pl/pl/oferta/balkon-3-pokoj...</td>\n",
       "      <td>balkon + 3 pokoje + parking</td>\n",
       "      <td>Adama Vetulaniego, Prądnik Biały, Prądnik Biał...</td>\n",
       "      <td>970000.0</td>\n",
       "      <td>55.0</td>\n",
       "      <td>17636.0</td>\n",
       "      <td>4</td>\n",
       "      <td>7</td>\n",
       "      <td>3</td>\n",
       "      <td>2023.0</td>\n",
       "      <td>...</td>\n",
       "      <td>biuro nieruchomości</td>\n",
       "      <td>True</td>\n",
       "      <td>balkon</td>\n",
       "      <td>blok</td>\n",
       "      <td>brak informacji</td>\n",
       "      <td>Adama Vetulaniego, Prądnik Biały, Kraków, woje...</td>\n",
       "      <td>50.095951</td>\n",
       "      <td>19.924784</td>\n",
       "      <td>3.895335</td>\n",
       "      <td>Prądnik Biały</td>\n",
       "    </tr>\n",
       "    <tr>\n",
       "      <th>2</th>\n",
       "      <td>https://www.otodom.pl/pl/oferta/zlocien-2-poko...</td>\n",
       "      <td>Złocień, 2 pokoje, balkon</td>\n",
       "      <td>Agatowa, Domagały,, Złocień, Bieżanów-Prokocim...</td>\n",
       "      <td>625000.0</td>\n",
       "      <td>36.8</td>\n",
       "      <td>16984.0</td>\n",
       "      <td>4</td>\n",
       "      <td>4</td>\n",
       "      <td>2</td>\n",
       "      <td>2019.0</td>\n",
       "      <td>...</td>\n",
       "      <td>biuro nieruchomości</td>\n",
       "      <td>True</td>\n",
       "      <td>balkon</td>\n",
       "      <td>blok</td>\n",
       "      <td>brak informacji</td>\n",
       "      <td>Agatowa, Osiedle Kolejowe, Złocień, Bieżanów-P...</td>\n",
       "      <td>50.022046</td>\n",
       "      <td>20.046131</td>\n",
       "      <td>8.943634</td>\n",
       "      <td>Bieżanów-Prokocim</td>\n",
       "    </tr>\n",
       "    <tr>\n",
       "      <th>3</th>\n",
       "      <td>https://www.otodom.pl/pl/oferta/komfortowe-2-p...</td>\n",
       "      <td>komfortowe 2-pokojowe mieszkanie 42m2</td>\n",
       "      <td>Albertyńskie, Bieńczyce, Bieńczyce, Kraków, ma...</td>\n",
       "      <td>559000.0</td>\n",
       "      <td>42.0</td>\n",
       "      <td>13310.0</td>\n",
       "      <td>2</td>\n",
       "      <td>4</td>\n",
       "      <td>2</td>\n",
       "      <td>1964.0</td>\n",
       "      <td>...</td>\n",
       "      <td>biuro nieruchomości</td>\n",
       "      <td>False</td>\n",
       "      <td>balkon</td>\n",
       "      <td>blok</td>\n",
       "      <td>brak informacji</td>\n",
       "      <td>Osiedle Albertyńskie, Bieńczyce, Kraków, wojew...</td>\n",
       "      <td>50.081431</td>\n",
       "      <td>20.017628</td>\n",
       "      <td>6.131841</td>\n",
       "      <td>Bieńczyce</td>\n",
       "    </tr>\n",
       "    <tr>\n",
       "      <th>4</th>\n",
       "      <td>https://www.otodom.pl/pl/oferta/aleja-29-listo...</td>\n",
       "      <td>Aleja 29 Listopada obok UR</td>\n",
       "      <td>Aleja 29 Listopada, Górka Narodowa, Prądnik Bi...</td>\n",
       "      <td>695000.0</td>\n",
       "      <td>48.1</td>\n",
       "      <td>14449.0</td>\n",
       "      <td>3</td>\n",
       "      <td>3</td>\n",
       "      <td>2</td>\n",
       "      <td>NaN</td>\n",
       "      <td>...</td>\n",
       "      <td>biuro nieruchomości</td>\n",
       "      <td>False</td>\n",
       "      <td>balkon</td>\n",
       "      <td>blok</td>\n",
       "      <td>brak informacji</td>\n",
       "      <td>Aleja 29 Listopada, Górka Narodowa, Prądnik Bi...</td>\n",
       "      <td>50.099768</td>\n",
       "      <td>19.962839</td>\n",
       "      <td>4.592695</td>\n",
       "      <td>Prądnik Biały</td>\n",
       "    </tr>\n",
       "    <tr>\n",
       "      <th>...</th>\n",
       "      <td>...</td>\n",
       "      <td>...</td>\n",
       "      <td>...</td>\n",
       "      <td>...</td>\n",
       "      <td>...</td>\n",
       "      <td>...</td>\n",
       "      <td>...</td>\n",
       "      <td>...</td>\n",
       "      <td>...</td>\n",
       "      <td>...</td>\n",
       "      <td>...</td>\n",
       "      <td>...</td>\n",
       "      <td>...</td>\n",
       "      <td>...</td>\n",
       "      <td>...</td>\n",
       "      <td>...</td>\n",
       "      <td>...</td>\n",
       "      <td>...</td>\n",
       "      <td>...</td>\n",
       "      <td>...</td>\n",
       "      <td>...</td>\n",
       "    </tr>\n",
       "    <tr>\n",
       "      <th>9890</th>\n",
       "      <td>https://www.otodom.pl/pl/oferta/3-pokoje-na-za...</td>\n",
       "      <td>3 pokoje na Żabińcu !!!</td>\n",
       "      <td>Żabiniec, Prądnik Biały, Kraków, małopolskie</td>\n",
       "      <td>850000.0</td>\n",
       "      <td>77.0</td>\n",
       "      <td>11039.0</td>\n",
       "      <td>4</td>\n",
       "      <td>6</td>\n",
       "      <td>3</td>\n",
       "      <td>2002.0</td>\n",
       "      <td>...</td>\n",
       "      <td>biuro nieruchomości</td>\n",
       "      <td>True</td>\n",
       "      <td>balkon</td>\n",
       "      <td>blok</td>\n",
       "      <td>brak informacji</td>\n",
       "      <td>Żabiniec, Prądnik Biały, Kraków, województwo m...</td>\n",
       "      <td>50.085931</td>\n",
       "      <td>19.941743</td>\n",
       "      <td>2.695967</td>\n",
       "      <td>Prądnik Biały</td>\n",
       "    </tr>\n",
       "    <tr>\n",
       "      <th>9891</th>\n",
       "      <td>https://www.otodom.pl/pl/oferta/pradnik-bialy-...</td>\n",
       "      <td>Prądnik Biały - Ul. Reja</td>\n",
       "      <td>Żabiniec, Prądnik Biały, Kraków, małopolskie</td>\n",
       "      <td>1100000.0</td>\n",
       "      <td>71.0</td>\n",
       "      <td>15493.0</td>\n",
       "      <td>0</td>\n",
       "      <td>6</td>\n",
       "      <td>3</td>\n",
       "      <td>2005.0</td>\n",
       "      <td>...</td>\n",
       "      <td>biuro nieruchomości</td>\n",
       "      <td>True</td>\n",
       "      <td>balkon</td>\n",
       "      <td>blok</td>\n",
       "      <td>brak informacji</td>\n",
       "      <td>Żabiniec, Prądnik Biały, Kraków, województwo m...</td>\n",
       "      <td>50.085931</td>\n",
       "      <td>19.941743</td>\n",
       "      <td>2.695967</td>\n",
       "      <td>Prądnik Biały</td>\n",
       "    </tr>\n",
       "    <tr>\n",
       "      <th>9892</th>\n",
       "      <td>https://www.otodom.pl/pl/oferta/mieszkanie-73-...</td>\n",
       "      <td>Mieszkanie, 73 m², Kraków</td>\n",
       "      <td>Żabiniec, Prądnik Biały, Kraków, małopolskie</td>\n",
       "      <td>1100000.0</td>\n",
       "      <td>73.0</td>\n",
       "      <td>15068.0</td>\n",
       "      <td>0</td>\n",
       "      <td>6</td>\n",
       "      <td>3</td>\n",
       "      <td>2005.0</td>\n",
       "      <td>...</td>\n",
       "      <td>biuro nieruchomości</td>\n",
       "      <td>True</td>\n",
       "      <td>balkon</td>\n",
       "      <td>blok</td>\n",
       "      <td>brak informacji</td>\n",
       "      <td>Żabiniec, Prądnik Biały, Kraków, województwo m...</td>\n",
       "      <td>50.085931</td>\n",
       "      <td>19.941743</td>\n",
       "      <td>2.695967</td>\n",
       "      <td>Prądnik Biały</td>\n",
       "    </tr>\n",
       "    <tr>\n",
       "      <th>9893</th>\n",
       "      <td>https://www.otodom.pl/pl/oferta/widokowe-m3-z-...</td>\n",
       "      <td>Widokowe M3 z klimatyzacją i parkingiem, Żabiniec</td>\n",
       "      <td>Żabiniec, Prądnik Biały, Kraków, małopolskie</td>\n",
       "      <td>1179000.0</td>\n",
       "      <td>71.5</td>\n",
       "      <td>16490.0</td>\n",
       "      <td>5</td>\n",
       "      <td>8</td>\n",
       "      <td>3</td>\n",
       "      <td>2001.0</td>\n",
       "      <td>...</td>\n",
       "      <td>biuro nieruchomości</td>\n",
       "      <td>True</td>\n",
       "      <td>balkon</td>\n",
       "      <td>apartamentowiec</td>\n",
       "      <td>brak informacji</td>\n",
       "      <td>Żabiniec, Prądnik Biały, Kraków, województwo m...</td>\n",
       "      <td>50.085931</td>\n",
       "      <td>19.941743</td>\n",
       "      <td>2.695967</td>\n",
       "      <td>Prądnik Biały</td>\n",
       "    </tr>\n",
       "    <tr>\n",
       "      <th>9894</th>\n",
       "      <td>https://www.otodom.pl/pl/oferta/1m-wyposazone-...</td>\n",
       "      <td>1M! Wyposażone|Ogródek 25m2|Inwestycja - ROI 10%</td>\n",
       "      <td>żabniec, Żabiniec, Prądnik Biały, Kraków, mało...</td>\n",
       "      <td>639000.0</td>\n",
       "      <td>26.0</td>\n",
       "      <td>24577.0</td>\n",
       "      <td>0</td>\n",
       "      <td>4</td>\n",
       "      <td>1</td>\n",
       "      <td>2017.0</td>\n",
       "      <td>...</td>\n",
       "      <td>biuro nieruchomości</td>\n",
       "      <td>False</td>\n",
       "      <td>ogródek</td>\n",
       "      <td>blok</td>\n",
       "      <td>brak informacji</td>\n",
       "      <td>Żabiniec, Prądnik Biały, Kraków, województwo m...</td>\n",
       "      <td>50.085931</td>\n",
       "      <td>19.941743</td>\n",
       "      <td>2.695967</td>\n",
       "      <td>Prądnik Biały</td>\n",
       "    </tr>\n",
       "  </tbody>\n",
       "</table>\n",
       "<p>9895 rows × 26 columns</p>\n",
       "</div>"
      ],
      "text/plain": [
       "                                                    url  \\\n",
       "0     https://www.otodom.pl/pl/oferta/nowe-mieszkani...   \n",
       "1     https://www.otodom.pl/pl/oferta/balkon-3-pokoj...   \n",
       "2     https://www.otodom.pl/pl/oferta/zlocien-2-poko...   \n",
       "3     https://www.otodom.pl/pl/oferta/komfortowe-2-p...   \n",
       "4     https://www.otodom.pl/pl/oferta/aleja-29-listo...   \n",
       "...                                                 ...   \n",
       "9890  https://www.otodom.pl/pl/oferta/3-pokoje-na-za...   \n",
       "9891  https://www.otodom.pl/pl/oferta/pradnik-bialy-...   \n",
       "9892  https://www.otodom.pl/pl/oferta/mieszkanie-73-...   \n",
       "9893  https://www.otodom.pl/pl/oferta/widokowe-m3-z-...   \n",
       "9894  https://www.otodom.pl/pl/oferta/1m-wyposazone-...   \n",
       "\n",
       "                                             name/title  \\\n",
       "0                    Nowe mieszkania na Górce Narodowej   \n",
       "1                           balkon + 3 pokoje + parking   \n",
       "2                             Złocień, 2 pokoje, balkon   \n",
       "3                 komfortowe 2-pokojowe mieszkanie 42m2   \n",
       "4                            Aleja 29 Listopada obok UR   \n",
       "...                                                 ...   \n",
       "9890                            3 pokoje na Żabińcu !!!   \n",
       "9891                           Prądnik Biały - Ul. Reja   \n",
       "9892                          Mieszkanie, 73 m², Kraków   \n",
       "9893  Widokowe M3 z klimatyzacją i parkingiem, Żabiniec   \n",
       "9894   1M! Wyposażone|Ogródek 25m2|Inwestycja - ROI 10%   \n",
       "\n",
       "                                                address      price  area  \\\n",
       "0     29 listopada - okolice, Górka Narodowa, Prądni...   778689.0  61.3   \n",
       "1     Adama Vetulaniego, Prądnik Biały, Prądnik Biał...   970000.0  55.0   \n",
       "2     Agatowa, Domagały,, Złocień, Bieżanów-Prokocim...   625000.0  36.8   \n",
       "3     Albertyńskie, Bieńczyce, Bieńczyce, Kraków, ma...   559000.0  42.0   \n",
       "4     Aleja 29 Listopada, Górka Narodowa, Prądnik Bi...   695000.0  48.1   \n",
       "...                                                 ...        ...   ...   \n",
       "9890       Żabiniec, Prądnik Biały, Kraków, małopolskie   850000.0  77.0   \n",
       "9891       Żabiniec, Prądnik Biały, Kraków, małopolskie  1100000.0  71.0   \n",
       "9892       Żabiniec, Prądnik Biały, Kraków, małopolskie  1100000.0  73.0   \n",
       "9893       Żabiniec, Prądnik Biały, Kraków, małopolskie  1179000.0  71.5   \n",
       "9894  żabniec, Żabiniec, Prądnik Biały, Kraków, mało...   639000.0  26.0   \n",
       "\n",
       "      price-per-area  floor/store  no of floors/stores in the building  \\\n",
       "0            12703.0            1                                    5   \n",
       "1            17636.0            4                                    7   \n",
       "2            16984.0            4                                    4   \n",
       "3            13310.0            2                                    4   \n",
       "4            14449.0            3                                    3   \n",
       "...              ...          ...                                  ...   \n",
       "9890         11039.0            4                                    6   \n",
       "9891         15493.0            0                                    6   \n",
       "9892         15068.0            0                                    6   \n",
       "9893         16490.0            5                                    8   \n",
       "9894         24577.0            0                                    4   \n",
       "\n",
       "      no of rooms  year of construction  ...      advertiser type elevator  \\\n",
       "0               2                2023.0  ...  biuro nieruchomości     True   \n",
       "1               3                2023.0  ...  biuro nieruchomości     True   \n",
       "2               2                2019.0  ...  biuro nieruchomości     True   \n",
       "3               2                1964.0  ...  biuro nieruchomości    False   \n",
       "4               2                   NaN  ...  biuro nieruchomości    False   \n",
       "...           ...                   ...  ...                  ...      ...   \n",
       "9890            3                2002.0  ...  biuro nieruchomości     True   \n",
       "9891            3                2005.0  ...  biuro nieruchomości     True   \n",
       "9892            3                2005.0  ...  biuro nieruchomości     True   \n",
       "9893            3                2001.0  ...  biuro nieruchomości     True   \n",
       "9894            1                2017.0  ...  biuro nieruchomości    False   \n",
       "\n",
       "     outdoor area    building type  building material  \\\n",
       "0          balkon  brak informacji    brak informacji   \n",
       "1          balkon             blok    brak informacji   \n",
       "2          balkon             blok    brak informacji   \n",
       "3          balkon             blok    brak informacji   \n",
       "4          balkon             blok    brak informacji   \n",
       "...           ...              ...                ...   \n",
       "9890       balkon             blok    brak informacji   \n",
       "9891       balkon             blok    brak informacji   \n",
       "9892       balkon             blok    brak informacji   \n",
       "9893       balkon  apartamentowiec    brak informacji   \n",
       "9894      ogródek             blok    brak informacji   \n",
       "\n",
       "                                               location   latitude  longitude  \\\n",
       "0     Aleja 29 Listopada, Górka Narodowa, Prądnik Bi...  50.103296  19.963896   \n",
       "1     Adama Vetulaniego, Prądnik Biały, Kraków, woje...  50.095951  19.924784   \n",
       "2     Agatowa, Osiedle Kolejowe, Złocień, Bieżanów-P...  50.022046  20.046131   \n",
       "3     Osiedle Albertyńskie, Bieńczyce, Kraków, wojew...  50.081431  20.017628   \n",
       "4     Aleja 29 Listopada, Górka Narodowa, Prądnik Bi...  50.099768  19.962839   \n",
       "...                                                 ...        ...        ...   \n",
       "9890  Żabiniec, Prądnik Biały, Kraków, województwo m...  50.085931  19.941743   \n",
       "9891  Żabiniec, Prądnik Biały, Kraków, województwo m...  50.085931  19.941743   \n",
       "9892  Żabiniec, Prądnik Biały, Kraków, województwo m...  50.085931  19.941743   \n",
       "9893  Żabiniec, Prądnik Biały, Kraków, województwo m...  50.085931  19.941743   \n",
       "9894  Żabiniec, Prądnik Biały, Kraków, województwo m...  50.085931  19.941743   \n",
       "\n",
       "      distance           district  \n",
       "0     4.983478      Prądnik Biały  \n",
       "1     3.895335      Prądnik Biały  \n",
       "2     8.943634  Bieżanów-Prokocim  \n",
       "3     6.131841          Bieńczyce  \n",
       "4     4.592695      Prądnik Biały  \n",
       "...        ...                ...  \n",
       "9890  2.695967      Prądnik Biały  \n",
       "9891  2.695967      Prądnik Biały  \n",
       "9892  2.695967      Prądnik Biały  \n",
       "9893  2.695967      Prądnik Biały  \n",
       "9894  2.695967      Prądnik Biały  \n",
       "\n",
       "[9895 rows x 26 columns]"
      ]
     },
     "execution_count": 244,
     "metadata": {},
     "output_type": "execute_result"
    }
   ],
   "source": [
    "# Extracting districts\n",
    "df_filtered_sorted_otodom['district'] = df_filtered_sorted_otodom['location'].str.extract(r'(?:^|, )([^,]+), Kraków')\n",
    "df_filtered_sorted_otodom"
   ]
  },
  {
   "cell_type": "code",
   "execution_count": 245,
   "metadata": {
    "ExecuteTime": {
     "end_time": "2024-05-07T16:37:01.386217Z",
     "start_time": "2024-05-07T16:37:01.374837Z"
    }
   },
   "outputs": [
    {
     "name": "stdout",
     "output_type": "stream",
     "text": [
      "3\n"
     ]
    }
   ],
   "source": [
    "print(df_filtered_sorted_otodom[df_filtered_sorted_otodom['district'].isna()].shape[0])\n",
    "df_filtered_sorted_otodom = df_filtered_sorted_otodom.dropna(subset=['district'])"
   ]
  },
  {
   "cell_type": "code",
   "execution_count": null,
   "metadata": {},
   "outputs": [],
   "source": [
    "# Here begins filling in missing data\n",
    "df_filtered_sorted_otodom['year of construction'] = df_filtered_sorted_otodom['year of construction'].fillna(new_mean_year)\n",
    "df_filtered_sorted_otodom['rent'] = df_filtered_sorted_otodom['rent'].fillna(new_mean_rent)\n",
    "df_filtered_sorted_otodom['form of ownership'] = df_filtered_sorted_otodom['form of ownership'].fillna('pełna własność')\n",
    "df_filtered_sorted_otodom['condition'] = df_filtered_sorted_otodom['condition'].fillna('brak informacji')\n",
    "df_filtered_sorted_otodom['heating'] = df_filtered_sorted_otodom['heating'].fillna('brak informacji')\n",
    "df_filtered_sorted_otodom.to_csv('datasets/apartments_otodom.csv')\n",
    "df_filtered_sorted_otodom.isnull().sum()"
   ]
  },
  {
   "cell_type": "code",
   "execution_count": 248,
   "metadata": {
    "ExecuteTime": {
     "end_time": "2024-05-07T16:38:13.188636Z",
     "start_time": "2024-05-07T16:38:13.159987Z"
    }
   },
   "outputs": [
    {
     "data": {
      "text/html": [
       "<div>\n",
       "<style scoped>\n",
       "    .dataframe tbody tr th:only-of-type {\n",
       "        vertical-align: middle;\n",
       "    }\n",
       "\n",
       "    .dataframe tbody tr th {\n",
       "        vertical-align: top;\n",
       "    }\n",
       "\n",
       "    .dataframe thead th {\n",
       "        text-align: right;\n",
       "    }\n",
       "</style>\n",
       "<table border=\"1\" class=\"dataframe\">\n",
       "  <thead>\n",
       "    <tr style=\"text-align: right;\">\n",
       "      <th></th>\n",
       "      <th>price</th>\n",
       "      <th>area</th>\n",
       "      <th>price-per-area</th>\n",
       "      <th>floor/store</th>\n",
       "      <th>no of floors/stores in the building</th>\n",
       "      <th>no of rooms</th>\n",
       "      <th>year of construction</th>\n",
       "    </tr>\n",
       "  </thead>\n",
       "  <tbody>\n",
       "    <tr>\n",
       "      <th>count</th>\n",
       "      <td>2.020900e+04</td>\n",
       "      <td>20209.000000</td>\n",
       "      <td>20209.000000</td>\n",
       "      <td>20209.000000</td>\n",
       "      <td>20209.000000</td>\n",
       "      <td>20209.000000</td>\n",
       "      <td>18025.000000</td>\n",
       "    </tr>\n",
       "    <tr>\n",
       "      <th>mean</th>\n",
       "      <td>9.587931e+05</td>\n",
       "      <td>57.364335</td>\n",
       "      <td>16799.116538</td>\n",
       "      <td>2.366124</td>\n",
       "      <td>4.820278</td>\n",
       "      <td>2.614578</td>\n",
       "      <td>2002.218696</td>\n",
       "    </tr>\n",
       "    <tr>\n",
       "      <th>std</th>\n",
       "      <td>6.328700e+05</td>\n",
       "      <td>28.170482</td>\n",
       "      <td>4692.962062</td>\n",
       "      <td>2.125213</td>\n",
       "      <td>2.427871</td>\n",
       "      <td>1.132654</td>\n",
       "      <td>37.467949</td>\n",
       "    </tr>\n",
       "    <tr>\n",
       "      <th>min</th>\n",
       "      <td>2.000000e+03</td>\n",
       "      <td>10.270000</td>\n",
       "      <td>19.140000</td>\n",
       "      <td>-1.000000</td>\n",
       "      <td>1.000000</td>\n",
       "      <td>1.000000</td>\n",
       "      <td>1300.000000</td>\n",
       "    </tr>\n",
       "    <tr>\n",
       "      <th>25%</th>\n",
       "      <td>6.550000e+05</td>\n",
       "      <td>40.000000</td>\n",
       "      <td>14000.000000</td>\n",
       "      <td>1.000000</td>\n",
       "      <td>3.000000</td>\n",
       "      <td>2.000000</td>\n",
       "      <td>1992.000000</td>\n",
       "    </tr>\n",
       "    <tr>\n",
       "      <th>50%</th>\n",
       "      <td>8.080100e+05</td>\n",
       "      <td>51.580000</td>\n",
       "      <td>16176.000000</td>\n",
       "      <td>2.000000</td>\n",
       "      <td>4.000000</td>\n",
       "      <td>3.000000</td>\n",
       "      <td>2021.000000</td>\n",
       "    </tr>\n",
       "    <tr>\n",
       "      <th>75%</th>\n",
       "      <td>1.045242e+06</td>\n",
       "      <td>66.630000</td>\n",
       "      <td>18628.440000</td>\n",
       "      <td>3.000000</td>\n",
       "      <td>6.000000</td>\n",
       "      <td>3.000000</td>\n",
       "      <td>2024.000000</td>\n",
       "    </tr>\n",
       "    <tr>\n",
       "      <th>max</th>\n",
       "      <td>1.600000e+07</td>\n",
       "      <td>550.000000</td>\n",
       "      <td>152594.090000</td>\n",
       "      <td>15.000000</td>\n",
       "      <td>18.000000</td>\n",
       "      <td>44.000000</td>\n",
       "      <td>2026.000000</td>\n",
       "    </tr>\n",
       "  </tbody>\n",
       "</table>\n",
       "</div>"
      ],
      "text/plain": [
       "              price          area  price-per-area   floor/store  \\\n",
       "count  2.020900e+04  20209.000000    20209.000000  20209.000000   \n",
       "mean   9.587931e+05     57.364335    16799.116538      2.366124   \n",
       "std    6.328700e+05     28.170482     4692.962062      2.125213   \n",
       "min    2.000000e+03     10.270000       19.140000     -1.000000   \n",
       "25%    6.550000e+05     40.000000    14000.000000      1.000000   \n",
       "50%    8.080100e+05     51.580000    16176.000000      2.000000   \n",
       "75%    1.045242e+06     66.630000    18628.440000      3.000000   \n",
       "max    1.600000e+07    550.000000   152594.090000     15.000000   \n",
       "\n",
       "       no of floors/stores in the building   no of rooms  year of construction  \n",
       "count                         20209.000000  20209.000000          18025.000000  \n",
       "mean                              4.820278      2.614578           2002.218696  \n",
       "std                               2.427871      1.132654             37.467949  \n",
       "min                               1.000000      1.000000           1300.000000  \n",
       "25%                               3.000000      2.000000           1992.000000  \n",
       "50%                               4.000000      3.000000           2021.000000  \n",
       "75%                               6.000000      3.000000           2024.000000  \n",
       "max                              18.000000     44.000000           2026.000000  "
      ]
     },
     "execution_count": 248,
     "metadata": {},
     "output_type": "execute_result"
    }
   ],
   "source": [
    "df_apartments.describe()"
   ]
  }
 ],
 "metadata": {
  "kernelspec": {
   "display_name": "conda-env",
   "language": "python",
   "name": "python3"
  },
  "language_info": {
   "codemirror_mode": {
    "name": "ipython",
    "version": 3
   },
   "file_extension": ".py",
   "mimetype": "text/x-python",
   "name": "python",
   "nbconvert_exporter": "python",
   "pygments_lexer": "ipython3",
   "version": "3.12.2"
  }
 },
 "nbformat": 4,
 "nbformat_minor": 2
}
